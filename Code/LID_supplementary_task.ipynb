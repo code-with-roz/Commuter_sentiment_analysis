{
  "nbformat": 4,
  "nbformat_minor": 0,
  "metadata": {
    "colab": {
      "provenance": []
    },
    "kernelspec": {
      "name": "python3",
      "display_name": "Python 3"
    },
    "language_info": {
      "name": "python"
    }
  },
  "cells": [
    {
      "cell_type": "markdown",
      "source": [
        "# LID task"
      ],
      "metadata": {
        "id": "cXLUSIiIO23b"
      }
    },
    {
      "cell_type": "code",
      "execution_count": 1,
      "metadata": {
        "id": "YWIjpvvu0y7b"
      },
      "outputs": [],
      "source": [
        "import pandas as pd\n"
      ]
    },
    {
      "cell_type": "code",
      "source": [
        "from google.colab import drive\n",
        "drive.mount('/content/drive')"
      ],
      "metadata": {
        "colab": {
          "base_uri": "https://localhost:8080/"
        },
        "id": "kTap_5XcZd_o",
        "outputId": "7f89598f-0373-480d-fc04-cb5804d21e3d"
      },
      "execution_count": 2,
      "outputs": [
        {
          "output_type": "stream",
          "name": "stdout",
          "text": [
            "Mounted at /content/drive\n"
          ]
        }
      ]
    },
    {
      "cell_type": "code",
      "source": [
        "country = 'TZ'\n",
        "allowed_languages = ['en','sw','lg','rn','fr','so','ar','am','ti','rw']\n",
        "whitelist = ['eng', 'swh', 'lug', 'run', 'fra', 'som', 'arb', 'amh', 'tir', 'kin']"
      ],
      "metadata": {
        "id": "l5Kob4UBZsVz"
      },
      "execution_count": 3,
      "outputs": []
    },
    {
      "cell_type": "code",
      "source": [
        "df = pd.read_csv('/content/drive/MyDrive/MIT/MIT 807 mini-dissertation/Data/{}_tweets_with_LID.csv'.format(country))"
      ],
      "metadata": {
        "id": "0g5GwqLtZawr"
      },
      "execution_count": 4,
      "outputs": []
    },
    {
      "cell_type": "code",
      "source": [
        "df.head(3)"
      ],
      "metadata": {
        "colab": {
          "base_uri": "https://localhost:8080/",
          "height": 143
        },
        "id": "nthEGP06ZyKz",
        "outputId": "c0136dd3-a7c3-4f83-b5e7-da2983e73db9"
      },
      "execution_count": 5,
      "outputs": [
        {
          "output_type": "execute_result",
          "data": {
            "text/plain": [
              "        key             Datetime             Tweet Id  \\\n",
              "0  daladala  2023-02-08 07:49:38  1623227542218985473   \n",
              "1  daladala  2023-01-31 13:00:19  1620406624908345344   \n",
              "2  daladala  2023-01-27 06:19:14  1618856135645356034   \n",
              "\n",
              "                                                Text        Username  \\\n",
              "0  Dar Es Salaam watu wana hasira sana  ukimgusa ...  fadhilikangusi   \n",
              "1  Muonekano wa Kituo Kipya cha Daladala cha Kiny...    raphyrodrick   \n",
              "2  Lakini kumpisha mtu mzima kwenye seat ya dalad...          DejohB   \n",
              "\n",
              "                   Location predict_name_afrolid        predict_name_cld3  \\\n",
              "0  Dar Es Salaam, Tanzania               Swahili  Swahili (macrolanguage)   \n",
              "1   Dar es Salaam, Tanzania              Swahili  Swahili (macrolanguage)   \n",
              "2   Dar es Salaam, Tanzania              Swahili  Swahili (macrolanguage)   \n",
              "\n",
              "  predict_name_franc  \n",
              "0            Swahili  \n",
              "1            Swahili  \n",
              "2            Swahili  "
            ],
            "text/html": [
              "\n",
              "  <div id=\"df-94e0d22a-f319-49a1-9a24-bacc237d12cd\">\n",
              "    <div class=\"colab-df-container\">\n",
              "      <div>\n",
              "<style scoped>\n",
              "    .dataframe tbody tr th:only-of-type {\n",
              "        vertical-align: middle;\n",
              "    }\n",
              "\n",
              "    .dataframe tbody tr th {\n",
              "        vertical-align: top;\n",
              "    }\n",
              "\n",
              "    .dataframe thead th {\n",
              "        text-align: right;\n",
              "    }\n",
              "</style>\n",
              "<table border=\"1\" class=\"dataframe\">\n",
              "  <thead>\n",
              "    <tr style=\"text-align: right;\">\n",
              "      <th></th>\n",
              "      <th>key</th>\n",
              "      <th>Datetime</th>\n",
              "      <th>Tweet Id</th>\n",
              "      <th>Text</th>\n",
              "      <th>Username</th>\n",
              "      <th>Location</th>\n",
              "      <th>predict_name_afrolid</th>\n",
              "      <th>predict_name_cld3</th>\n",
              "      <th>predict_name_franc</th>\n",
              "    </tr>\n",
              "  </thead>\n",
              "  <tbody>\n",
              "    <tr>\n",
              "      <th>0</th>\n",
              "      <td>daladala</td>\n",
              "      <td>2023-02-08 07:49:38</td>\n",
              "      <td>1623227542218985473</td>\n",
              "      <td>Dar Es Salaam watu wana hasira sana  ukimgusa ...</td>\n",
              "      <td>fadhilikangusi</td>\n",
              "      <td>Dar Es Salaam, Tanzania</td>\n",
              "      <td>Swahili</td>\n",
              "      <td>Swahili (macrolanguage)</td>\n",
              "      <td>Swahili</td>\n",
              "    </tr>\n",
              "    <tr>\n",
              "      <th>1</th>\n",
              "      <td>daladala</td>\n",
              "      <td>2023-01-31 13:00:19</td>\n",
              "      <td>1620406624908345344</td>\n",
              "      <td>Muonekano wa Kituo Kipya cha Daladala cha Kiny...</td>\n",
              "      <td>raphyrodrick</td>\n",
              "      <td>Dar es Salaam, Tanzania</td>\n",
              "      <td>Swahili</td>\n",
              "      <td>Swahili (macrolanguage)</td>\n",
              "      <td>Swahili</td>\n",
              "    </tr>\n",
              "    <tr>\n",
              "      <th>2</th>\n",
              "      <td>daladala</td>\n",
              "      <td>2023-01-27 06:19:14</td>\n",
              "      <td>1618856135645356034</td>\n",
              "      <td>Lakini kumpisha mtu mzima kwenye seat ya dalad...</td>\n",
              "      <td>DejohB</td>\n",
              "      <td>Dar es Salaam, Tanzania</td>\n",
              "      <td>Swahili</td>\n",
              "      <td>Swahili (macrolanguage)</td>\n",
              "      <td>Swahili</td>\n",
              "    </tr>\n",
              "  </tbody>\n",
              "</table>\n",
              "</div>\n",
              "      <button class=\"colab-df-convert\" onclick=\"convertToInteractive('df-94e0d22a-f319-49a1-9a24-bacc237d12cd')\"\n",
              "              title=\"Convert this dataframe to an interactive table.\"\n",
              "              style=\"display:none;\">\n",
              "        \n",
              "  <svg xmlns=\"http://www.w3.org/2000/svg\" height=\"24px\"viewBox=\"0 0 24 24\"\n",
              "       width=\"24px\">\n",
              "    <path d=\"M0 0h24v24H0V0z\" fill=\"none\"/>\n",
              "    <path d=\"M18.56 5.44l.94 2.06.94-2.06 2.06-.94-2.06-.94-.94-2.06-.94 2.06-2.06.94zm-11 1L8.5 8.5l.94-2.06 2.06-.94-2.06-.94L8.5 2.5l-.94 2.06-2.06.94zm10 10l.94 2.06.94-2.06 2.06-.94-2.06-.94-.94-2.06-.94 2.06-2.06.94z\"/><path d=\"M17.41 7.96l-1.37-1.37c-.4-.4-.92-.59-1.43-.59-.52 0-1.04.2-1.43.59L10.3 9.45l-7.72 7.72c-.78.78-.78 2.05 0 2.83L4 21.41c.39.39.9.59 1.41.59.51 0 1.02-.2 1.41-.59l7.78-7.78 2.81-2.81c.8-.78.8-2.07 0-2.86zM5.41 20L4 18.59l7.72-7.72 1.47 1.35L5.41 20z\"/>\n",
              "  </svg>\n",
              "      </button>\n",
              "      \n",
              "  <style>\n",
              "    .colab-df-container {\n",
              "      display:flex;\n",
              "      flex-wrap:wrap;\n",
              "      gap: 12px;\n",
              "    }\n",
              "\n",
              "    .colab-df-convert {\n",
              "      background-color: #E8F0FE;\n",
              "      border: none;\n",
              "      border-radius: 50%;\n",
              "      cursor: pointer;\n",
              "      display: none;\n",
              "      fill: #1967D2;\n",
              "      height: 32px;\n",
              "      padding: 0 0 0 0;\n",
              "      width: 32px;\n",
              "    }\n",
              "\n",
              "    .colab-df-convert:hover {\n",
              "      background-color: #E2EBFA;\n",
              "      box-shadow: 0px 1px 2px rgba(60, 64, 67, 0.3), 0px 1px 3px 1px rgba(60, 64, 67, 0.15);\n",
              "      fill: #174EA6;\n",
              "    }\n",
              "\n",
              "    [theme=dark] .colab-df-convert {\n",
              "      background-color: #3B4455;\n",
              "      fill: #D2E3FC;\n",
              "    }\n",
              "\n",
              "    [theme=dark] .colab-df-convert:hover {\n",
              "      background-color: #434B5C;\n",
              "      box-shadow: 0px 1px 3px 1px rgba(0, 0, 0, 0.15);\n",
              "      filter: drop-shadow(0px 1px 2px rgba(0, 0, 0, 0.3));\n",
              "      fill: #FFFFFF;\n",
              "    }\n",
              "  </style>\n",
              "\n",
              "      <script>\n",
              "        const buttonEl =\n",
              "          document.querySelector('#df-94e0d22a-f319-49a1-9a24-bacc237d12cd button.colab-df-convert');\n",
              "        buttonEl.style.display =\n",
              "          google.colab.kernel.accessAllowed ? 'block' : 'none';\n",
              "\n",
              "        async function convertToInteractive(key) {\n",
              "          const element = document.querySelector('#df-94e0d22a-f319-49a1-9a24-bacc237d12cd');\n",
              "          const dataTable =\n",
              "            await google.colab.kernel.invokeFunction('convertToInteractive',\n",
              "                                                     [key], {});\n",
              "          if (!dataTable) return;\n",
              "\n",
              "          const docLinkHtml = 'Like what you see? Visit the ' +\n",
              "            '<a target=\"_blank\" href=https://colab.research.google.com/notebooks/data_table.ipynb>data table notebook</a>'\n",
              "            + ' to learn more about interactive tables.';\n",
              "          element.innerHTML = '';\n",
              "          dataTable['output_type'] = 'display_data';\n",
              "          await google.colab.output.renderOutput(dataTable, element);\n",
              "          const docLink = document.createElement('div');\n",
              "          docLink.innerHTML = docLinkHtml;\n",
              "          element.appendChild(docLink);\n",
              "        }\n",
              "      </script>\n",
              "    </div>\n",
              "  </div>\n",
              "  "
            ]
          },
          "metadata": {},
          "execution_count": 5
        }
      ]
    },
    {
      "cell_type": "markdown",
      "source": [
        "# LID with CLD3 and Franc"
      ],
      "metadata": {
        "id": "dSTO7QEraS1o"
      }
    },
    {
      "cell_type": "code",
      "source": [
        "!pip install pycld3\n",
        "!pip install pyfranc\n",
        "!pip install pycountry\n",
        "!pip install wordcloud"
      ],
      "metadata": {
        "colab": {
          "base_uri": "https://localhost:8080/"
        },
        "id": "wGFIbiUwaWAH",
        "outputId": "39a92751-8aff-446f-bbf7-3d68a215cf41"
      },
      "execution_count": 6,
      "outputs": [
        {
          "output_type": "stream",
          "name": "stdout",
          "text": [
            "Looking in indexes: https://pypi.org/simple, https://us-python.pkg.dev/colab-wheels/public/simple/\n",
            "Collecting pycld3\n",
            "  Downloading pycld3-0.22-cp39-cp39-manylinux1_x86_64.whl (13.6 MB)\n",
            "\u001b[2K     \u001b[90m━━━━━━━━━━━━━━━━━━━━━━━━━━━━━━━━━━━━━━━━\u001b[0m \u001b[32m13.6/13.6 MB\u001b[0m \u001b[31m25.0 MB/s\u001b[0m eta \u001b[36m0:00:00\u001b[0m\n",
            "\u001b[?25hInstalling collected packages: pycld3\n",
            "Successfully installed pycld3-0.22\n",
            "Looking in indexes: https://pypi.org/simple, https://us-python.pkg.dev/colab-wheels/public/simple/\n",
            "Collecting pyfranc\n",
            "  Downloading pyfranc-0.1.1-py3-none-any.whl (262 kB)\n",
            "\u001b[2K     \u001b[90m━━━━━━━━━━━━━━━━━━━━━━━━━━━━━━━━━━━━━━━\u001b[0m \u001b[32m262.9/262.9 KB\u001b[0m \u001b[31m8.4 MB/s\u001b[0m eta \u001b[36m0:00:00\u001b[0m\n",
            "\u001b[?25hInstalling collected packages: pyfranc\n",
            "Successfully installed pyfranc-0.1.1\n",
            "Looking in indexes: https://pypi.org/simple, https://us-python.pkg.dev/colab-wheels/public/simple/\n",
            "Collecting pycountry\n",
            "  Downloading pycountry-22.3.5.tar.gz (10.1 MB)\n",
            "\u001b[2K     \u001b[90m━━━━━━━━━━━━━━━━━━━━━━━━━━━━━━━━━━━━━━━━\u001b[0m \u001b[32m10.1/10.1 MB\u001b[0m \u001b[31m56.9 MB/s\u001b[0m eta \u001b[36m0:00:00\u001b[0m\n",
            "\u001b[?25h  Installing build dependencies ... \u001b[?25l\u001b[?25hdone\n",
            "  Getting requirements to build wheel ... \u001b[?25l\u001b[?25hdone\n",
            "  Preparing metadata (pyproject.toml) ... \u001b[?25l\u001b[?25hdone\n",
            "Requirement already satisfied: setuptools in /usr/local/lib/python3.9/dist-packages (from pycountry) (67.6.1)\n",
            "Building wheels for collected packages: pycountry\n",
            "  Building wheel for pycountry (pyproject.toml) ... \u001b[?25l\u001b[?25hdone\n",
            "  Created wheel for pycountry: filename=pycountry-22.3.5-py2.py3-none-any.whl size=10681847 sha256=5e09c7a567bfaf9f8512ef83fcde9d3cef49a0cfc356f86367ff3122c4e3d1a3\n",
            "  Stored in directory: /root/.cache/pip/wheels/47/15/92/e6dc85fcb0686c82e1edbcfdf80cfe4808c058813fed0baa8f\n",
            "Successfully built pycountry\n",
            "Installing collected packages: pycountry\n",
            "Successfully installed pycountry-22.3.5\n",
            "Looking in indexes: https://pypi.org/simple, https://us-python.pkg.dev/colab-wheels/public/simple/\n",
            "Requirement already satisfied: wordcloud in /usr/local/lib/python3.9/dist-packages (1.8.2.2)\n",
            "Requirement already satisfied: matplotlib in /usr/local/lib/python3.9/dist-packages (from wordcloud) (3.7.1)\n",
            "Requirement already satisfied: numpy>=1.6.1 in /usr/local/lib/python3.9/dist-packages (from wordcloud) (1.22.4)\n",
            "Requirement already satisfied: pillow in /usr/local/lib/python3.9/dist-packages (from wordcloud) (8.4.0)\n",
            "Requirement already satisfied: python-dateutil>=2.7 in /usr/local/lib/python3.9/dist-packages (from matplotlib->wordcloud) (2.8.2)\n",
            "Requirement already satisfied: importlib-resources>=3.2.0 in /usr/local/lib/python3.9/dist-packages (from matplotlib->wordcloud) (5.12.0)\n",
            "Requirement already satisfied: cycler>=0.10 in /usr/local/lib/python3.9/dist-packages (from matplotlib->wordcloud) (0.11.0)\n",
            "Requirement already satisfied: fonttools>=4.22.0 in /usr/local/lib/python3.9/dist-packages (from matplotlib->wordcloud) (4.39.2)\n",
            "Requirement already satisfied: contourpy>=1.0.1 in /usr/local/lib/python3.9/dist-packages (from matplotlib->wordcloud) (1.0.7)\n",
            "Requirement already satisfied: packaging>=20.0 in /usr/local/lib/python3.9/dist-packages (from matplotlib->wordcloud) (23.0)\n",
            "Requirement already satisfied: pyparsing>=2.3.1 in /usr/local/lib/python3.9/dist-packages (from matplotlib->wordcloud) (3.0.9)\n",
            "Requirement already satisfied: kiwisolver>=1.0.1 in /usr/local/lib/python3.9/dist-packages (from matplotlib->wordcloud) (1.4.4)\n",
            "Requirement already satisfied: zipp>=3.1.0 in /usr/local/lib/python3.9/dist-packages (from importlib-resources>=3.2.0->matplotlib->wordcloud) (3.15.0)\n",
            "Requirement already satisfied: six>=1.5 in /usr/local/lib/python3.9/dist-packages (from python-dateutil>=2.7->matplotlib->wordcloud) (1.16.0)\n"
          ]
        }
      ]
    },
    {
      "cell_type": "code",
      "source": [
        "import cld3\n",
        "from pyfranc import franc"
      ],
      "metadata": {
        "id": "EUZ6If6CaYr-"
      },
      "execution_count": 7,
      "outputs": []
    },
    {
      "cell_type": "code",
      "source": [
        "# Conduct token level LID\n",
        "\n",
        "def tokenize_text(text):\n",
        "  tokens = text.split()\n",
        "  return tokens\n",
        "\n",
        "# def get_token_lid_afrolid(tokens):\n",
        "#   token_lid = []\n",
        "#   for token in tokens:\n",
        "#     predictions = cl.classify(token, max_outputs=1)\n",
        "#     for lang in predictions:\n",
        "#       if lang in whitelist:\n",
        "#         token_lid.append(lang)\n",
        "#   return token_lid\n",
        "\n",
        "def get_token_lid_cld3(tokens):\n",
        "  token_lid = []\n",
        "  for token in tokens:\n",
        "    predictions = cld3.get_language(token)\n",
        "    for lang in predictions:\n",
        "      language_code = predictions.language\n",
        "      if language_code in allowed_languages:\n",
        "        token_lid.append(language_code)\n",
        "  return token_lid\n",
        "\n",
        "def get_franc_prediction(text):\n",
        "  predictions = franc.lang_detect(text, whitelist = whitelist)\n",
        "  for lang in predictions:\n",
        "    return predictions[0][0]"
      ],
      "metadata": {
        "id": "-TtDKe5qa0ra"
      },
      "execution_count": 8,
      "outputs": []
    },
    {
      "cell_type": "code",
      "source": [
        "def get_majority_lid(lid_list):\n",
        "    majority_lang = max(lid_list)"
      ],
      "metadata": {
        "id": "G0Wd_lGka3tk"
      },
      "execution_count": 9,
      "outputs": []
    },
    {
      "cell_type": "code",
      "source": [
        "df['cld3_tokenlid'] = df['Text'].apply(lambda x: get_token_lid_cld3(tokenize_text(x)))\n",
        "df['franc_tokenlid'] = df['Text'].apply(lambda x: get_franc_prediction(x))"
      ],
      "metadata": {
        "id": "x_7fOKFXa6tz"
      },
      "execution_count": 10,
      "outputs": []
    },
    {
      "cell_type": "code",
      "source": [
        "df"
      ],
      "metadata": {
        "colab": {
          "base_uri": "https://localhost:8080/",
          "height": 423
        },
        "id": "_0fCS-AVa8-T",
        "outputId": "7c4013fb-8fb5-46e1-a41a-bb60e49a18e7"
      },
      "execution_count": 11,
      "outputs": [
        {
          "output_type": "execute_result",
          "data": {
            "text/plain": [
              "          key             Datetime             Tweet Id  \\\n",
              "0    daladala  2023-02-08 07:49:38  1623227542218985473   \n",
              "1    daladala  2023-01-31 13:00:19  1620406624908345344   \n",
              "2    daladala  2023-01-27 06:19:14  1618856135645356034   \n",
              "3    daladala  2022-09-24 18:21:32  1573739424382423043   \n",
              "4    daladala  2022-09-19 09:35:17  1571795051818192898   \n",
              "..        ...                  ...                  ...   \n",
              "993     bajaj  2019-03-01 04:42:02  1101341804618690560   \n",
              "994     bajaj  2019-03-01 04:37:31  1101340668473929728   \n",
              "995     bajaj  2018-12-21 07:38:29  1076019057890074624   \n",
              "996     bajaj  2018-07-18 14:49:14  1019594953532600320   \n",
              "997     bajaj  2018-02-02 08:38:58   959345386237382656   \n",
              "\n",
              "                                                  Text        Username  \\\n",
              "0    Dar Es Salaam watu wana hasira sana  ukimgusa ...  fadhilikangusi   \n",
              "1    Muonekano wa Kituo Kipya cha Daladala cha Kiny...    raphyrodrick   \n",
              "2    Lakini kumpisha mtu mzima kwenye seat ya dalad...          DejohB   \n",
              "3    Kuna huyu mtu ana hadithia hapa eti anamwaka m...      AsiahSalum   \n",
              "4    Hongera sana SuluhuSamia kwa Kupata Siti nzuri...   ExMayorUbungo   \n",
              "..                                                 ...             ...   \n",
              "993  Tanzania Trade Fair 2019  participation of Baj...      beenakoshy   \n",
              "994  Bajaj Electricals at the Tanzania trade fair 2...      beenakoshy   \n",
              "995  In Dar Es Salaam  The Business and Busiest Cit...   mtaliitravels   \n",
              "996  Safari bora 🚗 huanza unapoendeshwa kwa Bajaj u...    MondoRide255   \n",
              "997  Wamiliki wa magari  bajaj na bodaboda mikoa ya...           Sajjo   \n",
              "\n",
              "                     Location predict_name_afrolid        predict_name_cld3  \\\n",
              "0    Dar Es Salaam, Tanzania               Swahili  Swahili (macrolanguage)   \n",
              "1     Dar es Salaam, Tanzania              Swahili  Swahili (macrolanguage)   \n",
              "2     Dar es Salaam, Tanzania              Swahili  Swahili (macrolanguage)   \n",
              "3     Dar es Salaam, Tanzania              Swahili  Swahili (macrolanguage)   \n",
              "4               Dar es salaam              Swahili  Swahili (macrolanguage)   \n",
              "..                        ...                  ...                      ...   \n",
              "993                       NaN              Swahili             unrecognised   \n",
              "994                       NaN              Swahili                  English   \n",
              "995   Dar es Salaam, Tanzania              Swahili                  English   \n",
              "996   Dar es Salaam, Tanzania              Swahili  Swahili (macrolanguage)   \n",
              "997        Salt Lake City, UT              Swahili  Swahili (macrolanguage)   \n",
              "\n",
              "    predict_name_franc                                      cld3_tokenlid  \\\n",
              "0              Swahili                                   [sw, sw, sw, sw]   \n",
              "1              Swahili  [sw, sw, sw, sw, en, en, en, en, sw, sw, sw, s...   \n",
              "2              Swahili  [sw, sw, sw, sw, sw, sw, sw, sw, sw, sw, sw, s...   \n",
              "3              Swahili  [sw, sw, sw, sw, sw, sw, sw, sw, sw, sw, sw, s...   \n",
              "4              Swahili  [sw, sw, sw, sw, sw, sw, sw, sw, sw, sw, sw, s...   \n",
              "..                 ...                                                ...   \n",
              "993             French   [fr, fr, fr, fr, en, en, en, en, en, en, en, en]   \n",
              "994             French  [en, en, en, en, en, en, en, en, en, en, en, e...   \n",
              "995            English  [en, en, en, en, en, en, en, en, en, en, en, e...   \n",
              "996            Swahili  [sw, sw, sw, sw, sw, sw, sw, sw, sw, sw, sw, s...   \n",
              "997            Swahili  [sw, sw, sw, sw, sw, sw, sw, sw, sw, sw, sw, s...   \n",
              "\n",
              "    franc_tokenlid  \n",
              "0              swh  \n",
              "1              swh  \n",
              "2              swh  \n",
              "3              swh  \n",
              "4              swh  \n",
              "..             ...  \n",
              "993            fra  \n",
              "994            fra  \n",
              "995            eng  \n",
              "996            swh  \n",
              "997            swh  \n",
              "\n",
              "[998 rows x 11 columns]"
            ],
            "text/html": [
              "\n",
              "  <div id=\"df-40042040-95f1-4f92-ac94-69fa0d687135\">\n",
              "    <div class=\"colab-df-container\">\n",
              "      <div>\n",
              "<style scoped>\n",
              "    .dataframe tbody tr th:only-of-type {\n",
              "        vertical-align: middle;\n",
              "    }\n",
              "\n",
              "    .dataframe tbody tr th {\n",
              "        vertical-align: top;\n",
              "    }\n",
              "\n",
              "    .dataframe thead th {\n",
              "        text-align: right;\n",
              "    }\n",
              "</style>\n",
              "<table border=\"1\" class=\"dataframe\">\n",
              "  <thead>\n",
              "    <tr style=\"text-align: right;\">\n",
              "      <th></th>\n",
              "      <th>key</th>\n",
              "      <th>Datetime</th>\n",
              "      <th>Tweet Id</th>\n",
              "      <th>Text</th>\n",
              "      <th>Username</th>\n",
              "      <th>Location</th>\n",
              "      <th>predict_name_afrolid</th>\n",
              "      <th>predict_name_cld3</th>\n",
              "      <th>predict_name_franc</th>\n",
              "      <th>cld3_tokenlid</th>\n",
              "      <th>franc_tokenlid</th>\n",
              "    </tr>\n",
              "  </thead>\n",
              "  <tbody>\n",
              "    <tr>\n",
              "      <th>0</th>\n",
              "      <td>daladala</td>\n",
              "      <td>2023-02-08 07:49:38</td>\n",
              "      <td>1623227542218985473</td>\n",
              "      <td>Dar Es Salaam watu wana hasira sana  ukimgusa ...</td>\n",
              "      <td>fadhilikangusi</td>\n",
              "      <td>Dar Es Salaam, Tanzania</td>\n",
              "      <td>Swahili</td>\n",
              "      <td>Swahili (macrolanguage)</td>\n",
              "      <td>Swahili</td>\n",
              "      <td>[sw, sw, sw, sw]</td>\n",
              "      <td>swh</td>\n",
              "    </tr>\n",
              "    <tr>\n",
              "      <th>1</th>\n",
              "      <td>daladala</td>\n",
              "      <td>2023-01-31 13:00:19</td>\n",
              "      <td>1620406624908345344</td>\n",
              "      <td>Muonekano wa Kituo Kipya cha Daladala cha Kiny...</td>\n",
              "      <td>raphyrodrick</td>\n",
              "      <td>Dar es Salaam, Tanzania</td>\n",
              "      <td>Swahili</td>\n",
              "      <td>Swahili (macrolanguage)</td>\n",
              "      <td>Swahili</td>\n",
              "      <td>[sw, sw, sw, sw, en, en, en, en, sw, sw, sw, s...</td>\n",
              "      <td>swh</td>\n",
              "    </tr>\n",
              "    <tr>\n",
              "      <th>2</th>\n",
              "      <td>daladala</td>\n",
              "      <td>2023-01-27 06:19:14</td>\n",
              "      <td>1618856135645356034</td>\n",
              "      <td>Lakini kumpisha mtu mzima kwenye seat ya dalad...</td>\n",
              "      <td>DejohB</td>\n",
              "      <td>Dar es Salaam, Tanzania</td>\n",
              "      <td>Swahili</td>\n",
              "      <td>Swahili (macrolanguage)</td>\n",
              "      <td>Swahili</td>\n",
              "      <td>[sw, sw, sw, sw, sw, sw, sw, sw, sw, sw, sw, s...</td>\n",
              "      <td>swh</td>\n",
              "    </tr>\n",
              "    <tr>\n",
              "      <th>3</th>\n",
              "      <td>daladala</td>\n",
              "      <td>2022-09-24 18:21:32</td>\n",
              "      <td>1573739424382423043</td>\n",
              "      <td>Kuna huyu mtu ana hadithia hapa eti anamwaka m...</td>\n",
              "      <td>AsiahSalum</td>\n",
              "      <td>Dar es Salaam, Tanzania</td>\n",
              "      <td>Swahili</td>\n",
              "      <td>Swahili (macrolanguage)</td>\n",
              "      <td>Swahili</td>\n",
              "      <td>[sw, sw, sw, sw, sw, sw, sw, sw, sw, sw, sw, s...</td>\n",
              "      <td>swh</td>\n",
              "    </tr>\n",
              "    <tr>\n",
              "      <th>4</th>\n",
              "      <td>daladala</td>\n",
              "      <td>2022-09-19 09:35:17</td>\n",
              "      <td>1571795051818192898</td>\n",
              "      <td>Hongera sana SuluhuSamia kwa Kupata Siti nzuri...</td>\n",
              "      <td>ExMayorUbungo</td>\n",
              "      <td>Dar es salaam</td>\n",
              "      <td>Swahili</td>\n",
              "      <td>Swahili (macrolanguage)</td>\n",
              "      <td>Swahili</td>\n",
              "      <td>[sw, sw, sw, sw, sw, sw, sw, sw, sw, sw, sw, s...</td>\n",
              "      <td>swh</td>\n",
              "    </tr>\n",
              "    <tr>\n",
              "      <th>...</th>\n",
              "      <td>...</td>\n",
              "      <td>...</td>\n",
              "      <td>...</td>\n",
              "      <td>...</td>\n",
              "      <td>...</td>\n",
              "      <td>...</td>\n",
              "      <td>...</td>\n",
              "      <td>...</td>\n",
              "      <td>...</td>\n",
              "      <td>...</td>\n",
              "      <td>...</td>\n",
              "    </tr>\n",
              "    <tr>\n",
              "      <th>993</th>\n",
              "      <td>bajaj</td>\n",
              "      <td>2019-03-01 04:42:02</td>\n",
              "      <td>1101341804618690560</td>\n",
              "      <td>Tanzania Trade Fair 2019  participation of Baj...</td>\n",
              "      <td>beenakoshy</td>\n",
              "      <td>NaN</td>\n",
              "      <td>Swahili</td>\n",
              "      <td>unrecognised</td>\n",
              "      <td>French</td>\n",
              "      <td>[fr, fr, fr, fr, en, en, en, en, en, en, en, en]</td>\n",
              "      <td>fra</td>\n",
              "    </tr>\n",
              "    <tr>\n",
              "      <th>994</th>\n",
              "      <td>bajaj</td>\n",
              "      <td>2019-03-01 04:37:31</td>\n",
              "      <td>1101340668473929728</td>\n",
              "      <td>Bajaj Electricals at the Tanzania trade fair 2...</td>\n",
              "      <td>beenakoshy</td>\n",
              "      <td>NaN</td>\n",
              "      <td>Swahili</td>\n",
              "      <td>English</td>\n",
              "      <td>French</td>\n",
              "      <td>[en, en, en, en, en, en, en, en, en, en, en, e...</td>\n",
              "      <td>fra</td>\n",
              "    </tr>\n",
              "    <tr>\n",
              "      <th>995</th>\n",
              "      <td>bajaj</td>\n",
              "      <td>2018-12-21 07:38:29</td>\n",
              "      <td>1076019057890074624</td>\n",
              "      <td>In Dar Es Salaam  The Business and Busiest Cit...</td>\n",
              "      <td>mtaliitravels</td>\n",
              "      <td>Dar es Salaam, Tanzania</td>\n",
              "      <td>Swahili</td>\n",
              "      <td>English</td>\n",
              "      <td>English</td>\n",
              "      <td>[en, en, en, en, en, en, en, en, en, en, en, e...</td>\n",
              "      <td>eng</td>\n",
              "    </tr>\n",
              "    <tr>\n",
              "      <th>996</th>\n",
              "      <td>bajaj</td>\n",
              "      <td>2018-07-18 14:49:14</td>\n",
              "      <td>1019594953532600320</td>\n",
              "      <td>Safari bora 🚗 huanza unapoendeshwa kwa Bajaj u...</td>\n",
              "      <td>MondoRide255</td>\n",
              "      <td>Dar es Salaam, Tanzania</td>\n",
              "      <td>Swahili</td>\n",
              "      <td>Swahili (macrolanguage)</td>\n",
              "      <td>Swahili</td>\n",
              "      <td>[sw, sw, sw, sw, sw, sw, sw, sw, sw, sw, sw, s...</td>\n",
              "      <td>swh</td>\n",
              "    </tr>\n",
              "    <tr>\n",
              "      <th>997</th>\n",
              "      <td>bajaj</td>\n",
              "      <td>2018-02-02 08:38:58</td>\n",
              "      <td>959345386237382656</td>\n",
              "      <td>Wamiliki wa magari  bajaj na bodaboda mikoa ya...</td>\n",
              "      <td>Sajjo</td>\n",
              "      <td>Salt Lake City, UT</td>\n",
              "      <td>Swahili</td>\n",
              "      <td>Swahili (macrolanguage)</td>\n",
              "      <td>Swahili</td>\n",
              "      <td>[sw, sw, sw, sw, sw, sw, sw, sw, sw, sw, sw, s...</td>\n",
              "      <td>swh</td>\n",
              "    </tr>\n",
              "  </tbody>\n",
              "</table>\n",
              "<p>998 rows × 11 columns</p>\n",
              "</div>\n",
              "      <button class=\"colab-df-convert\" onclick=\"convertToInteractive('df-40042040-95f1-4f92-ac94-69fa0d687135')\"\n",
              "              title=\"Convert this dataframe to an interactive table.\"\n",
              "              style=\"display:none;\">\n",
              "        \n",
              "  <svg xmlns=\"http://www.w3.org/2000/svg\" height=\"24px\"viewBox=\"0 0 24 24\"\n",
              "       width=\"24px\">\n",
              "    <path d=\"M0 0h24v24H0V0z\" fill=\"none\"/>\n",
              "    <path d=\"M18.56 5.44l.94 2.06.94-2.06 2.06-.94-2.06-.94-.94-2.06-.94 2.06-2.06.94zm-11 1L8.5 8.5l.94-2.06 2.06-.94-2.06-.94L8.5 2.5l-.94 2.06-2.06.94zm10 10l.94 2.06.94-2.06 2.06-.94-2.06-.94-.94-2.06-.94 2.06-2.06.94z\"/><path d=\"M17.41 7.96l-1.37-1.37c-.4-.4-.92-.59-1.43-.59-.52 0-1.04.2-1.43.59L10.3 9.45l-7.72 7.72c-.78.78-.78 2.05 0 2.83L4 21.41c.39.39.9.59 1.41.59.51 0 1.02-.2 1.41-.59l7.78-7.78 2.81-2.81c.8-.78.8-2.07 0-2.86zM5.41 20L4 18.59l7.72-7.72 1.47 1.35L5.41 20z\"/>\n",
              "  </svg>\n",
              "      </button>\n",
              "      \n",
              "  <style>\n",
              "    .colab-df-container {\n",
              "      display:flex;\n",
              "      flex-wrap:wrap;\n",
              "      gap: 12px;\n",
              "    }\n",
              "\n",
              "    .colab-df-convert {\n",
              "      background-color: #E8F0FE;\n",
              "      border: none;\n",
              "      border-radius: 50%;\n",
              "      cursor: pointer;\n",
              "      display: none;\n",
              "      fill: #1967D2;\n",
              "      height: 32px;\n",
              "      padding: 0 0 0 0;\n",
              "      width: 32px;\n",
              "    }\n",
              "\n",
              "    .colab-df-convert:hover {\n",
              "      background-color: #E2EBFA;\n",
              "      box-shadow: 0px 1px 2px rgba(60, 64, 67, 0.3), 0px 1px 3px 1px rgba(60, 64, 67, 0.15);\n",
              "      fill: #174EA6;\n",
              "    }\n",
              "\n",
              "    [theme=dark] .colab-df-convert {\n",
              "      background-color: #3B4455;\n",
              "      fill: #D2E3FC;\n",
              "    }\n",
              "\n",
              "    [theme=dark] .colab-df-convert:hover {\n",
              "      background-color: #434B5C;\n",
              "      box-shadow: 0px 1px 3px 1px rgba(0, 0, 0, 0.15);\n",
              "      filter: drop-shadow(0px 1px 2px rgba(0, 0, 0, 0.3));\n",
              "      fill: #FFFFFF;\n",
              "    }\n",
              "  </style>\n",
              "\n",
              "      <script>\n",
              "        const buttonEl =\n",
              "          document.querySelector('#df-40042040-95f1-4f92-ac94-69fa0d687135 button.colab-df-convert');\n",
              "        buttonEl.style.display =\n",
              "          google.colab.kernel.accessAllowed ? 'block' : 'none';\n",
              "\n",
              "        async function convertToInteractive(key) {\n",
              "          const element = document.querySelector('#df-40042040-95f1-4f92-ac94-69fa0d687135');\n",
              "          const dataTable =\n",
              "            await google.colab.kernel.invokeFunction('convertToInteractive',\n",
              "                                                     [key], {});\n",
              "          if (!dataTable) return;\n",
              "\n",
              "          const docLinkHtml = 'Like what you see? Visit the ' +\n",
              "            '<a target=\"_blank\" href=https://colab.research.google.com/notebooks/data_table.ipynb>data table notebook</a>'\n",
              "            + ' to learn more about interactive tables.';\n",
              "          element.innerHTML = '';\n",
              "          dataTable['output_type'] = 'display_data';\n",
              "          await google.colab.output.renderOutput(dataTable, element);\n",
              "          const docLink = document.createElement('div');\n",
              "          docLink.innerHTML = docLinkHtml;\n",
              "          element.appendChild(docLink);\n",
              "        }\n",
              "      </script>\n",
              "    </div>\n",
              "  </div>\n",
              "  "
            ]
          },
          "metadata": {},
          "execution_count": 11
        }
      ]
    },
    {
      "cell_type": "code",
      "source": [
        "max(df['cld3_tokenlid'][0])"
      ],
      "metadata": {
        "colab": {
          "base_uri": "https://localhost:8080/",
          "height": 36
        },
        "id": "rV1lm7LjeQeA",
        "outputId": "c95b04d4-2933-4191-907e-f2ac9e7a5eac"
      },
      "execution_count": 12,
      "outputs": [
        {
          "output_type": "execute_result",
          "data": {
            "text/plain": [
              "'sw'"
            ],
            "application/vnd.google.colaboratory.intrinsic+json": {
              "type": "string"
            }
          },
          "metadata": {},
          "execution_count": 12
        }
      ]
    },
    {
      "cell_type": "code",
      "source": [
        "get_majority_lid(df['cld3_tokenlid'][0])"
      ],
      "metadata": {
        "id": "yQGj17XOeVIr"
      },
      "execution_count": 13,
      "outputs": []
    },
    {
      "cell_type": "code",
      "source": [
        "df['cld3_tokenlid_iso'] = df['cld3_tokenlid'].apply(lambda x: max(x) if x else None)\n",
        "df.head(2)\n",
        "\n",
        "\n"
      ],
      "metadata": {
        "colab": {
          "base_uri": "https://localhost:8080/",
          "height": 191
        },
        "id": "ofAypJLYfsXI",
        "outputId": "b3aafe38-70bb-4342-eb11-9049d3b0a14f"
      },
      "execution_count": 14,
      "outputs": [
        {
          "output_type": "execute_result",
          "data": {
            "text/plain": [
              "        key             Datetime             Tweet Id  \\\n",
              "0  daladala  2023-02-08 07:49:38  1623227542218985473   \n",
              "1  daladala  2023-01-31 13:00:19  1620406624908345344   \n",
              "\n",
              "                                                Text        Username  \\\n",
              "0  Dar Es Salaam watu wana hasira sana  ukimgusa ...  fadhilikangusi   \n",
              "1  Muonekano wa Kituo Kipya cha Daladala cha Kiny...    raphyrodrick   \n",
              "\n",
              "                   Location predict_name_afrolid        predict_name_cld3  \\\n",
              "0  Dar Es Salaam, Tanzania               Swahili  Swahili (macrolanguage)   \n",
              "1   Dar es Salaam, Tanzania              Swahili  Swahili (macrolanguage)   \n",
              "\n",
              "  predict_name_franc                                      cld3_tokenlid  \\\n",
              "0            Swahili                                   [sw, sw, sw, sw]   \n",
              "1            Swahili  [sw, sw, sw, sw, en, en, en, en, sw, sw, sw, s...   \n",
              "\n",
              "  franc_tokenlid cld3_tokenlid_iso  \n",
              "0            swh                sw  \n",
              "1            swh                sw  "
            ],
            "text/html": [
              "\n",
              "  <div id=\"df-ac764b5a-cee2-41e9-ae20-1ceedfaa0b2c\">\n",
              "    <div class=\"colab-df-container\">\n",
              "      <div>\n",
              "<style scoped>\n",
              "    .dataframe tbody tr th:only-of-type {\n",
              "        vertical-align: middle;\n",
              "    }\n",
              "\n",
              "    .dataframe tbody tr th {\n",
              "        vertical-align: top;\n",
              "    }\n",
              "\n",
              "    .dataframe thead th {\n",
              "        text-align: right;\n",
              "    }\n",
              "</style>\n",
              "<table border=\"1\" class=\"dataframe\">\n",
              "  <thead>\n",
              "    <tr style=\"text-align: right;\">\n",
              "      <th></th>\n",
              "      <th>key</th>\n",
              "      <th>Datetime</th>\n",
              "      <th>Tweet Id</th>\n",
              "      <th>Text</th>\n",
              "      <th>Username</th>\n",
              "      <th>Location</th>\n",
              "      <th>predict_name_afrolid</th>\n",
              "      <th>predict_name_cld3</th>\n",
              "      <th>predict_name_franc</th>\n",
              "      <th>cld3_tokenlid</th>\n",
              "      <th>franc_tokenlid</th>\n",
              "      <th>cld3_tokenlid_iso</th>\n",
              "    </tr>\n",
              "  </thead>\n",
              "  <tbody>\n",
              "    <tr>\n",
              "      <th>0</th>\n",
              "      <td>daladala</td>\n",
              "      <td>2023-02-08 07:49:38</td>\n",
              "      <td>1623227542218985473</td>\n",
              "      <td>Dar Es Salaam watu wana hasira sana  ukimgusa ...</td>\n",
              "      <td>fadhilikangusi</td>\n",
              "      <td>Dar Es Salaam, Tanzania</td>\n",
              "      <td>Swahili</td>\n",
              "      <td>Swahili (macrolanguage)</td>\n",
              "      <td>Swahili</td>\n",
              "      <td>[sw, sw, sw, sw]</td>\n",
              "      <td>swh</td>\n",
              "      <td>sw</td>\n",
              "    </tr>\n",
              "    <tr>\n",
              "      <th>1</th>\n",
              "      <td>daladala</td>\n",
              "      <td>2023-01-31 13:00:19</td>\n",
              "      <td>1620406624908345344</td>\n",
              "      <td>Muonekano wa Kituo Kipya cha Daladala cha Kiny...</td>\n",
              "      <td>raphyrodrick</td>\n",
              "      <td>Dar es Salaam, Tanzania</td>\n",
              "      <td>Swahili</td>\n",
              "      <td>Swahili (macrolanguage)</td>\n",
              "      <td>Swahili</td>\n",
              "      <td>[sw, sw, sw, sw, en, en, en, en, sw, sw, sw, s...</td>\n",
              "      <td>swh</td>\n",
              "      <td>sw</td>\n",
              "    </tr>\n",
              "  </tbody>\n",
              "</table>\n",
              "</div>\n",
              "      <button class=\"colab-df-convert\" onclick=\"convertToInteractive('df-ac764b5a-cee2-41e9-ae20-1ceedfaa0b2c')\"\n",
              "              title=\"Convert this dataframe to an interactive table.\"\n",
              "              style=\"display:none;\">\n",
              "        \n",
              "  <svg xmlns=\"http://www.w3.org/2000/svg\" height=\"24px\"viewBox=\"0 0 24 24\"\n",
              "       width=\"24px\">\n",
              "    <path d=\"M0 0h24v24H0V0z\" fill=\"none\"/>\n",
              "    <path d=\"M18.56 5.44l.94 2.06.94-2.06 2.06-.94-2.06-.94-.94-2.06-.94 2.06-2.06.94zm-11 1L8.5 8.5l.94-2.06 2.06-.94-2.06-.94L8.5 2.5l-.94 2.06-2.06.94zm10 10l.94 2.06.94-2.06 2.06-.94-2.06-.94-.94-2.06-.94 2.06-2.06.94z\"/><path d=\"M17.41 7.96l-1.37-1.37c-.4-.4-.92-.59-1.43-.59-.52 0-1.04.2-1.43.59L10.3 9.45l-7.72 7.72c-.78.78-.78 2.05 0 2.83L4 21.41c.39.39.9.59 1.41.59.51 0 1.02-.2 1.41-.59l7.78-7.78 2.81-2.81c.8-.78.8-2.07 0-2.86zM5.41 20L4 18.59l7.72-7.72 1.47 1.35L5.41 20z\"/>\n",
              "  </svg>\n",
              "      </button>\n",
              "      \n",
              "  <style>\n",
              "    .colab-df-container {\n",
              "      display:flex;\n",
              "      flex-wrap:wrap;\n",
              "      gap: 12px;\n",
              "    }\n",
              "\n",
              "    .colab-df-convert {\n",
              "      background-color: #E8F0FE;\n",
              "      border: none;\n",
              "      border-radius: 50%;\n",
              "      cursor: pointer;\n",
              "      display: none;\n",
              "      fill: #1967D2;\n",
              "      height: 32px;\n",
              "      padding: 0 0 0 0;\n",
              "      width: 32px;\n",
              "    }\n",
              "\n",
              "    .colab-df-convert:hover {\n",
              "      background-color: #E2EBFA;\n",
              "      box-shadow: 0px 1px 2px rgba(60, 64, 67, 0.3), 0px 1px 3px 1px rgba(60, 64, 67, 0.15);\n",
              "      fill: #174EA6;\n",
              "    }\n",
              "\n",
              "    [theme=dark] .colab-df-convert {\n",
              "      background-color: #3B4455;\n",
              "      fill: #D2E3FC;\n",
              "    }\n",
              "\n",
              "    [theme=dark] .colab-df-convert:hover {\n",
              "      background-color: #434B5C;\n",
              "      box-shadow: 0px 1px 3px 1px rgba(0, 0, 0, 0.15);\n",
              "      filter: drop-shadow(0px 1px 2px rgba(0, 0, 0, 0.3));\n",
              "      fill: #FFFFFF;\n",
              "    }\n",
              "  </style>\n",
              "\n",
              "      <script>\n",
              "        const buttonEl =\n",
              "          document.querySelector('#df-ac764b5a-cee2-41e9-ae20-1ceedfaa0b2c button.colab-df-convert');\n",
              "        buttonEl.style.display =\n",
              "          google.colab.kernel.accessAllowed ? 'block' : 'none';\n",
              "\n",
              "        async function convertToInteractive(key) {\n",
              "          const element = document.querySelector('#df-ac764b5a-cee2-41e9-ae20-1ceedfaa0b2c');\n",
              "          const dataTable =\n",
              "            await google.colab.kernel.invokeFunction('convertToInteractive',\n",
              "                                                     [key], {});\n",
              "          if (!dataTable) return;\n",
              "\n",
              "          const docLinkHtml = 'Like what you see? Visit the ' +\n",
              "            '<a target=\"_blank\" href=https://colab.research.google.com/notebooks/data_table.ipynb>data table notebook</a>'\n",
              "            + ' to learn more about interactive tables.';\n",
              "          element.innerHTML = '';\n",
              "          dataTable['output_type'] = 'display_data';\n",
              "          await google.colab.output.renderOutput(dataTable, element);\n",
              "          const docLink = document.createElement('div');\n",
              "          docLink.innerHTML = docLinkHtml;\n",
              "          element.appendChild(docLink);\n",
              "        }\n",
              "      </script>\n",
              "    </div>\n",
              "  </div>\n",
              "  "
            ]
          },
          "metadata": {},
          "execution_count": 14
        }
      ]
    },
    {
      "cell_type": "code",
      "source": [
        "# decode the ISO codes to language names for cld3\n",
        "\n",
        "import pycountry\n",
        "\n",
        "def get_language_name_cld3(code):\n",
        "  try:\n",
        "    lang = pycountry.languages.get(alpha_2=code)\n",
        "    return lang.name\n",
        "  except:\n",
        "    return 'unrecognised'\n",
        "\n",
        "# decode the ISO codes to language names for afrolid and franc\n",
        "\n",
        "iso_langs_EA = {\n",
        "    'eng': 'English',\n",
        "    'swh': 'Swahili',\n",
        "    'lug': 'Ganda',\n",
        "    'run': 'Kirundi',\n",
        "    'fra': 'French',\n",
        "    'som': 'Somali',\n",
        "    'arb': 'Arabic',\n",
        "    'amh': 'Amharic',\n",
        "    'tir': 'Tigrinya',\n",
        "    'kin': 'Kinyarwanda'\n",
        "}\n",
        "\n",
        "def map_language(iso_code):\n",
        "  return iso_langs_EA.get(iso_code, 'unrecognised')\n",
        "\n",
        "# df['predict_name_afrolid'] = df['afrolid_tokenlid'].apply(map_language)\n",
        "df['predict_name_cld3'] = df['cld3_tokenlid_iso'].apply(get_language_name_cld3)\n",
        "df['predict_name_franc'] = df['franc_tokenlid'].apply(map_language)"
      ],
      "metadata": {
        "id": "Zx7-1Y384yyQ"
      },
      "execution_count": 15,
      "outputs": []
    },
    {
      "cell_type": "code",
      "source": [
        "df.head(3)"
      ],
      "metadata": {
        "colab": {
          "base_uri": "https://localhost:8080/",
          "height": 239
        },
        "id": "QVCW-X7v5Bmt",
        "outputId": "9a11caf3-c281-4c9e-b98f-0a9985c0dc00"
      },
      "execution_count": 16,
      "outputs": [
        {
          "output_type": "execute_result",
          "data": {
            "text/plain": [
              "        key             Datetime             Tweet Id  \\\n",
              "0  daladala  2023-02-08 07:49:38  1623227542218985473   \n",
              "1  daladala  2023-01-31 13:00:19  1620406624908345344   \n",
              "2  daladala  2023-01-27 06:19:14  1618856135645356034   \n",
              "\n",
              "                                                Text        Username  \\\n",
              "0  Dar Es Salaam watu wana hasira sana  ukimgusa ...  fadhilikangusi   \n",
              "1  Muonekano wa Kituo Kipya cha Daladala cha Kiny...    raphyrodrick   \n",
              "2  Lakini kumpisha mtu mzima kwenye seat ya dalad...          DejohB   \n",
              "\n",
              "                   Location predict_name_afrolid        predict_name_cld3  \\\n",
              "0  Dar Es Salaam, Tanzania               Swahili  Swahili (macrolanguage)   \n",
              "1   Dar es Salaam, Tanzania              Swahili  Swahili (macrolanguage)   \n",
              "2   Dar es Salaam, Tanzania              Swahili  Swahili (macrolanguage)   \n",
              "\n",
              "  predict_name_franc                                      cld3_tokenlid  \\\n",
              "0            Swahili                                   [sw, sw, sw, sw]   \n",
              "1            Swahili  [sw, sw, sw, sw, en, en, en, en, sw, sw, sw, s...   \n",
              "2            Swahili  [sw, sw, sw, sw, sw, sw, sw, sw, sw, sw, sw, s...   \n",
              "\n",
              "  franc_tokenlid cld3_tokenlid_iso  \n",
              "0            swh                sw  \n",
              "1            swh                sw  \n",
              "2            swh                sw  "
            ],
            "text/html": [
              "\n",
              "  <div id=\"df-869dbe0c-245a-41e8-9a27-cce372090cad\">\n",
              "    <div class=\"colab-df-container\">\n",
              "      <div>\n",
              "<style scoped>\n",
              "    .dataframe tbody tr th:only-of-type {\n",
              "        vertical-align: middle;\n",
              "    }\n",
              "\n",
              "    .dataframe tbody tr th {\n",
              "        vertical-align: top;\n",
              "    }\n",
              "\n",
              "    .dataframe thead th {\n",
              "        text-align: right;\n",
              "    }\n",
              "</style>\n",
              "<table border=\"1\" class=\"dataframe\">\n",
              "  <thead>\n",
              "    <tr style=\"text-align: right;\">\n",
              "      <th></th>\n",
              "      <th>key</th>\n",
              "      <th>Datetime</th>\n",
              "      <th>Tweet Id</th>\n",
              "      <th>Text</th>\n",
              "      <th>Username</th>\n",
              "      <th>Location</th>\n",
              "      <th>predict_name_afrolid</th>\n",
              "      <th>predict_name_cld3</th>\n",
              "      <th>predict_name_franc</th>\n",
              "      <th>cld3_tokenlid</th>\n",
              "      <th>franc_tokenlid</th>\n",
              "      <th>cld3_tokenlid_iso</th>\n",
              "    </tr>\n",
              "  </thead>\n",
              "  <tbody>\n",
              "    <tr>\n",
              "      <th>0</th>\n",
              "      <td>daladala</td>\n",
              "      <td>2023-02-08 07:49:38</td>\n",
              "      <td>1623227542218985473</td>\n",
              "      <td>Dar Es Salaam watu wana hasira sana  ukimgusa ...</td>\n",
              "      <td>fadhilikangusi</td>\n",
              "      <td>Dar Es Salaam, Tanzania</td>\n",
              "      <td>Swahili</td>\n",
              "      <td>Swahili (macrolanguage)</td>\n",
              "      <td>Swahili</td>\n",
              "      <td>[sw, sw, sw, sw]</td>\n",
              "      <td>swh</td>\n",
              "      <td>sw</td>\n",
              "    </tr>\n",
              "    <tr>\n",
              "      <th>1</th>\n",
              "      <td>daladala</td>\n",
              "      <td>2023-01-31 13:00:19</td>\n",
              "      <td>1620406624908345344</td>\n",
              "      <td>Muonekano wa Kituo Kipya cha Daladala cha Kiny...</td>\n",
              "      <td>raphyrodrick</td>\n",
              "      <td>Dar es Salaam, Tanzania</td>\n",
              "      <td>Swahili</td>\n",
              "      <td>Swahili (macrolanguage)</td>\n",
              "      <td>Swahili</td>\n",
              "      <td>[sw, sw, sw, sw, en, en, en, en, sw, sw, sw, s...</td>\n",
              "      <td>swh</td>\n",
              "      <td>sw</td>\n",
              "    </tr>\n",
              "    <tr>\n",
              "      <th>2</th>\n",
              "      <td>daladala</td>\n",
              "      <td>2023-01-27 06:19:14</td>\n",
              "      <td>1618856135645356034</td>\n",
              "      <td>Lakini kumpisha mtu mzima kwenye seat ya dalad...</td>\n",
              "      <td>DejohB</td>\n",
              "      <td>Dar es Salaam, Tanzania</td>\n",
              "      <td>Swahili</td>\n",
              "      <td>Swahili (macrolanguage)</td>\n",
              "      <td>Swahili</td>\n",
              "      <td>[sw, sw, sw, sw, sw, sw, sw, sw, sw, sw, sw, s...</td>\n",
              "      <td>swh</td>\n",
              "      <td>sw</td>\n",
              "    </tr>\n",
              "  </tbody>\n",
              "</table>\n",
              "</div>\n",
              "      <button class=\"colab-df-convert\" onclick=\"convertToInteractive('df-869dbe0c-245a-41e8-9a27-cce372090cad')\"\n",
              "              title=\"Convert this dataframe to an interactive table.\"\n",
              "              style=\"display:none;\">\n",
              "        \n",
              "  <svg xmlns=\"http://www.w3.org/2000/svg\" height=\"24px\"viewBox=\"0 0 24 24\"\n",
              "       width=\"24px\">\n",
              "    <path d=\"M0 0h24v24H0V0z\" fill=\"none\"/>\n",
              "    <path d=\"M18.56 5.44l.94 2.06.94-2.06 2.06-.94-2.06-.94-.94-2.06-.94 2.06-2.06.94zm-11 1L8.5 8.5l.94-2.06 2.06-.94-2.06-.94L8.5 2.5l-.94 2.06-2.06.94zm10 10l.94 2.06.94-2.06 2.06-.94-2.06-.94-.94-2.06-.94 2.06-2.06.94z\"/><path d=\"M17.41 7.96l-1.37-1.37c-.4-.4-.92-.59-1.43-.59-.52 0-1.04.2-1.43.59L10.3 9.45l-7.72 7.72c-.78.78-.78 2.05 0 2.83L4 21.41c.39.39.9.59 1.41.59.51 0 1.02-.2 1.41-.59l7.78-7.78 2.81-2.81c.8-.78.8-2.07 0-2.86zM5.41 20L4 18.59l7.72-7.72 1.47 1.35L5.41 20z\"/>\n",
              "  </svg>\n",
              "      </button>\n",
              "      \n",
              "  <style>\n",
              "    .colab-df-container {\n",
              "      display:flex;\n",
              "      flex-wrap:wrap;\n",
              "      gap: 12px;\n",
              "    }\n",
              "\n",
              "    .colab-df-convert {\n",
              "      background-color: #E8F0FE;\n",
              "      border: none;\n",
              "      border-radius: 50%;\n",
              "      cursor: pointer;\n",
              "      display: none;\n",
              "      fill: #1967D2;\n",
              "      height: 32px;\n",
              "      padding: 0 0 0 0;\n",
              "      width: 32px;\n",
              "    }\n",
              "\n",
              "    .colab-df-convert:hover {\n",
              "      background-color: #E2EBFA;\n",
              "      box-shadow: 0px 1px 2px rgba(60, 64, 67, 0.3), 0px 1px 3px 1px rgba(60, 64, 67, 0.15);\n",
              "      fill: #174EA6;\n",
              "    }\n",
              "\n",
              "    [theme=dark] .colab-df-convert {\n",
              "      background-color: #3B4455;\n",
              "      fill: #D2E3FC;\n",
              "    }\n",
              "\n",
              "    [theme=dark] .colab-df-convert:hover {\n",
              "      background-color: #434B5C;\n",
              "      box-shadow: 0px 1px 3px 1px rgba(0, 0, 0, 0.15);\n",
              "      filter: drop-shadow(0px 1px 2px rgba(0, 0, 0, 0.3));\n",
              "      fill: #FFFFFF;\n",
              "    }\n",
              "  </style>\n",
              "\n",
              "      <script>\n",
              "        const buttonEl =\n",
              "          document.querySelector('#df-869dbe0c-245a-41e8-9a27-cce372090cad button.colab-df-convert');\n",
              "        buttonEl.style.display =\n",
              "          google.colab.kernel.accessAllowed ? 'block' : 'none';\n",
              "\n",
              "        async function convertToInteractive(key) {\n",
              "          const element = document.querySelector('#df-869dbe0c-245a-41e8-9a27-cce372090cad');\n",
              "          const dataTable =\n",
              "            await google.colab.kernel.invokeFunction('convertToInteractive',\n",
              "                                                     [key], {});\n",
              "          if (!dataTable) return;\n",
              "\n",
              "          const docLinkHtml = 'Like what you see? Visit the ' +\n",
              "            '<a target=\"_blank\" href=https://colab.research.google.com/notebooks/data_table.ipynb>data table notebook</a>'\n",
              "            + ' to learn more about interactive tables.';\n",
              "          element.innerHTML = '';\n",
              "          dataTable['output_type'] = 'display_data';\n",
              "          await google.colab.output.renderOutput(dataTable, element);\n",
              "          const docLink = document.createElement('div');\n",
              "          docLink.innerHTML = docLinkHtml;\n",
              "          element.appendChild(docLink);\n",
              "        }\n",
              "      </script>\n",
              "    </div>\n",
              "  </div>\n",
              "  "
            ]
          },
          "metadata": {},
          "execution_count": 16
        }
      ]
    },
    {
      "cell_type": "code",
      "source": [
        "from collections import Counter\n",
        "\n",
        "def get_majority_lid(row):\n",
        "    languages = [row['predict_name_afrolid'], row['predict_name_cld3'], row['predict_name_franc']]\n",
        "    c = Counter(languages)\n",
        "    majority_count = c.most_common()[0][1]\n",
        "    if majority_count > 1:\n",
        "        return c.most_common()[0][0]\n",
        "    else:\n",
        "        return 'undecided'"
      ],
      "metadata": {
        "id": "aGF5d7dw5foD"
      },
      "execution_count": 17,
      "outputs": []
    },
    {
      "cell_type": "code",
      "source": [
        "df['final_language'] = df.apply(get_majority_lid, axis=1)\n",
        "df.head(3)"
      ],
      "metadata": {
        "colab": {
          "base_uri": "https://localhost:8080/",
          "height": 239
        },
        "id": "Ja7krC0X5zbq",
        "outputId": "a11f6fd9-aa02-4997-d1cd-888d36997fd3"
      },
      "execution_count": 18,
      "outputs": [
        {
          "output_type": "execute_result",
          "data": {
            "text/plain": [
              "        key             Datetime             Tweet Id  \\\n",
              "0  daladala  2023-02-08 07:49:38  1623227542218985473   \n",
              "1  daladala  2023-01-31 13:00:19  1620406624908345344   \n",
              "2  daladala  2023-01-27 06:19:14  1618856135645356034   \n",
              "\n",
              "                                                Text        Username  \\\n",
              "0  Dar Es Salaam watu wana hasira sana  ukimgusa ...  fadhilikangusi   \n",
              "1  Muonekano wa Kituo Kipya cha Daladala cha Kiny...    raphyrodrick   \n",
              "2  Lakini kumpisha mtu mzima kwenye seat ya dalad...          DejohB   \n",
              "\n",
              "                   Location predict_name_afrolid        predict_name_cld3  \\\n",
              "0  Dar Es Salaam, Tanzania               Swahili  Swahili (macrolanguage)   \n",
              "1   Dar es Salaam, Tanzania              Swahili  Swahili (macrolanguage)   \n",
              "2   Dar es Salaam, Tanzania              Swahili  Swahili (macrolanguage)   \n",
              "\n",
              "  predict_name_franc                                      cld3_tokenlid  \\\n",
              "0            Swahili                                   [sw, sw, sw, sw]   \n",
              "1            Swahili  [sw, sw, sw, sw, en, en, en, en, sw, sw, sw, s...   \n",
              "2            Swahili  [sw, sw, sw, sw, sw, sw, sw, sw, sw, sw, sw, s...   \n",
              "\n",
              "  franc_tokenlid cld3_tokenlid_iso final_language  \n",
              "0            swh                sw        Swahili  \n",
              "1            swh                sw        Swahili  \n",
              "2            swh                sw        Swahili  "
            ],
            "text/html": [
              "\n",
              "  <div id=\"df-01efdf5f-157a-4121-a3b3-c658153bd153\">\n",
              "    <div class=\"colab-df-container\">\n",
              "      <div>\n",
              "<style scoped>\n",
              "    .dataframe tbody tr th:only-of-type {\n",
              "        vertical-align: middle;\n",
              "    }\n",
              "\n",
              "    .dataframe tbody tr th {\n",
              "        vertical-align: top;\n",
              "    }\n",
              "\n",
              "    .dataframe thead th {\n",
              "        text-align: right;\n",
              "    }\n",
              "</style>\n",
              "<table border=\"1\" class=\"dataframe\">\n",
              "  <thead>\n",
              "    <tr style=\"text-align: right;\">\n",
              "      <th></th>\n",
              "      <th>key</th>\n",
              "      <th>Datetime</th>\n",
              "      <th>Tweet Id</th>\n",
              "      <th>Text</th>\n",
              "      <th>Username</th>\n",
              "      <th>Location</th>\n",
              "      <th>predict_name_afrolid</th>\n",
              "      <th>predict_name_cld3</th>\n",
              "      <th>predict_name_franc</th>\n",
              "      <th>cld3_tokenlid</th>\n",
              "      <th>franc_tokenlid</th>\n",
              "      <th>cld3_tokenlid_iso</th>\n",
              "      <th>final_language</th>\n",
              "    </tr>\n",
              "  </thead>\n",
              "  <tbody>\n",
              "    <tr>\n",
              "      <th>0</th>\n",
              "      <td>daladala</td>\n",
              "      <td>2023-02-08 07:49:38</td>\n",
              "      <td>1623227542218985473</td>\n",
              "      <td>Dar Es Salaam watu wana hasira sana  ukimgusa ...</td>\n",
              "      <td>fadhilikangusi</td>\n",
              "      <td>Dar Es Salaam, Tanzania</td>\n",
              "      <td>Swahili</td>\n",
              "      <td>Swahili (macrolanguage)</td>\n",
              "      <td>Swahili</td>\n",
              "      <td>[sw, sw, sw, sw]</td>\n",
              "      <td>swh</td>\n",
              "      <td>sw</td>\n",
              "      <td>Swahili</td>\n",
              "    </tr>\n",
              "    <tr>\n",
              "      <th>1</th>\n",
              "      <td>daladala</td>\n",
              "      <td>2023-01-31 13:00:19</td>\n",
              "      <td>1620406624908345344</td>\n",
              "      <td>Muonekano wa Kituo Kipya cha Daladala cha Kiny...</td>\n",
              "      <td>raphyrodrick</td>\n",
              "      <td>Dar es Salaam, Tanzania</td>\n",
              "      <td>Swahili</td>\n",
              "      <td>Swahili (macrolanguage)</td>\n",
              "      <td>Swahili</td>\n",
              "      <td>[sw, sw, sw, sw, en, en, en, en, sw, sw, sw, s...</td>\n",
              "      <td>swh</td>\n",
              "      <td>sw</td>\n",
              "      <td>Swahili</td>\n",
              "    </tr>\n",
              "    <tr>\n",
              "      <th>2</th>\n",
              "      <td>daladala</td>\n",
              "      <td>2023-01-27 06:19:14</td>\n",
              "      <td>1618856135645356034</td>\n",
              "      <td>Lakini kumpisha mtu mzima kwenye seat ya dalad...</td>\n",
              "      <td>DejohB</td>\n",
              "      <td>Dar es Salaam, Tanzania</td>\n",
              "      <td>Swahili</td>\n",
              "      <td>Swahili (macrolanguage)</td>\n",
              "      <td>Swahili</td>\n",
              "      <td>[sw, sw, sw, sw, sw, sw, sw, sw, sw, sw, sw, s...</td>\n",
              "      <td>swh</td>\n",
              "      <td>sw</td>\n",
              "      <td>Swahili</td>\n",
              "    </tr>\n",
              "  </tbody>\n",
              "</table>\n",
              "</div>\n",
              "      <button class=\"colab-df-convert\" onclick=\"convertToInteractive('df-01efdf5f-157a-4121-a3b3-c658153bd153')\"\n",
              "              title=\"Convert this dataframe to an interactive table.\"\n",
              "              style=\"display:none;\">\n",
              "        \n",
              "  <svg xmlns=\"http://www.w3.org/2000/svg\" height=\"24px\"viewBox=\"0 0 24 24\"\n",
              "       width=\"24px\">\n",
              "    <path d=\"M0 0h24v24H0V0z\" fill=\"none\"/>\n",
              "    <path d=\"M18.56 5.44l.94 2.06.94-2.06 2.06-.94-2.06-.94-.94-2.06-.94 2.06-2.06.94zm-11 1L8.5 8.5l.94-2.06 2.06-.94-2.06-.94L8.5 2.5l-.94 2.06-2.06.94zm10 10l.94 2.06.94-2.06 2.06-.94-2.06-.94-.94-2.06-.94 2.06-2.06.94z\"/><path d=\"M17.41 7.96l-1.37-1.37c-.4-.4-.92-.59-1.43-.59-.52 0-1.04.2-1.43.59L10.3 9.45l-7.72 7.72c-.78.78-.78 2.05 0 2.83L4 21.41c.39.39.9.59 1.41.59.51 0 1.02-.2 1.41-.59l7.78-7.78 2.81-2.81c.8-.78.8-2.07 0-2.86zM5.41 20L4 18.59l7.72-7.72 1.47 1.35L5.41 20z\"/>\n",
              "  </svg>\n",
              "      </button>\n",
              "      \n",
              "  <style>\n",
              "    .colab-df-container {\n",
              "      display:flex;\n",
              "      flex-wrap:wrap;\n",
              "      gap: 12px;\n",
              "    }\n",
              "\n",
              "    .colab-df-convert {\n",
              "      background-color: #E8F0FE;\n",
              "      border: none;\n",
              "      border-radius: 50%;\n",
              "      cursor: pointer;\n",
              "      display: none;\n",
              "      fill: #1967D2;\n",
              "      height: 32px;\n",
              "      padding: 0 0 0 0;\n",
              "      width: 32px;\n",
              "    }\n",
              "\n",
              "    .colab-df-convert:hover {\n",
              "      background-color: #E2EBFA;\n",
              "      box-shadow: 0px 1px 2px rgba(60, 64, 67, 0.3), 0px 1px 3px 1px rgba(60, 64, 67, 0.15);\n",
              "      fill: #174EA6;\n",
              "    }\n",
              "\n",
              "    [theme=dark] .colab-df-convert {\n",
              "      background-color: #3B4455;\n",
              "      fill: #D2E3FC;\n",
              "    }\n",
              "\n",
              "    [theme=dark] .colab-df-convert:hover {\n",
              "      background-color: #434B5C;\n",
              "      box-shadow: 0px 1px 3px 1px rgba(0, 0, 0, 0.15);\n",
              "      filter: drop-shadow(0px 1px 2px rgba(0, 0, 0, 0.3));\n",
              "      fill: #FFFFFF;\n",
              "    }\n",
              "  </style>\n",
              "\n",
              "      <script>\n",
              "        const buttonEl =\n",
              "          document.querySelector('#df-01efdf5f-157a-4121-a3b3-c658153bd153 button.colab-df-convert');\n",
              "        buttonEl.style.display =\n",
              "          google.colab.kernel.accessAllowed ? 'block' : 'none';\n",
              "\n",
              "        async function convertToInteractive(key) {\n",
              "          const element = document.querySelector('#df-01efdf5f-157a-4121-a3b3-c658153bd153');\n",
              "          const dataTable =\n",
              "            await google.colab.kernel.invokeFunction('convertToInteractive',\n",
              "                                                     [key], {});\n",
              "          if (!dataTable) return;\n",
              "\n",
              "          const docLinkHtml = 'Like what you see? Visit the ' +\n",
              "            '<a target=\"_blank\" href=https://colab.research.google.com/notebooks/data_table.ipynb>data table notebook</a>'\n",
              "            + ' to learn more about interactive tables.';\n",
              "          element.innerHTML = '';\n",
              "          dataTable['output_type'] = 'display_data';\n",
              "          await google.colab.output.renderOutput(dataTable, element);\n",
              "          const docLink = document.createElement('div');\n",
              "          docLink.innerHTML = docLinkHtml;\n",
              "          element.appendChild(docLink);\n",
              "        }\n",
              "      </script>\n",
              "    </div>\n",
              "  </div>\n",
              "  "
            ]
          },
          "metadata": {},
          "execution_count": 18
        }
      ]
    },
    {
      "cell_type": "code",
      "source": [
        "# find the language distribution of the final labels\n",
        "df['final_language'].value_counts().plot.bar(figsize=(10,5), fontsize=10)"
      ],
      "metadata": {
        "colab": {
          "base_uri": "https://localhost:8080/",
          "height": 543
        },
        "id": "b1F9nfK0562D",
        "outputId": "cada914d-b457-4748-d36a-b009311ffdd0"
      },
      "execution_count": 19,
      "outputs": [
        {
          "output_type": "execute_result",
          "data": {
            "text/plain": [
              "<Axes: >"
            ]
          },
          "metadata": {},
          "execution_count": 19
        },
        {
          "output_type": "display_data",
          "data": {
            "text/plain": [
              "<Figure size 1000x500 with 1 Axes>"
            ],
            "image/png": "[encoded data removed]"
          },
          "metadata": {}
        }
      ]
    },
    {
      "cell_type": "code",
      "source": [
        "# find the username distribution \n",
        "df['Username'].value_counts()"
      ],
      "metadata": {
        "colab": {
          "base_uri": "https://localhost:8080/"
        },
        "id": "SsygmCcw9jIl",
        "outputId": "b4f0f9c8-9718-414c-eda4-0162362301c1"
      },
      "execution_count": 20,
      "outputs": [
        {
          "output_type": "execute_result",
          "data": {
            "text/plain": [
              "BusWorldTZ        818\n",
              "TzPhones           14\n",
              "BusesDaily         13\n",
              "gadgetboxtz         8\n",
              "DALALIMWANAMKE      8\n",
              "                 ... \n",
              "EngNyahucho         1\n",
              "ITDPmx              1\n",
              "brunokinyaga1       1\n",
              "ummymwalimu         1\n",
              "Sajjo               1\n",
              "Name: Username, Length: 113, dtype: int64"
            ]
          },
          "metadata": {},
          "execution_count": 20
        }
      ]
    },
    {
      "cell_type": "code",
      "source": [
        "# exclude tweets from the username BusWorldTZ\n",
        "\n",
        "df = df[df['Username'] != 'BusWorldTZ']"
      ],
      "metadata": {
        "id": "AJoTFwi897LM"
      },
      "execution_count": 21,
      "outputs": []
    },
    {
      "cell_type": "code",
      "source": [
        "len(df)"
      ],
      "metadata": {
        "colab": {
          "base_uri": "https://localhost:8080/"
        },
        "id": "Ct8ntZPG-X1r",
        "outputId": "dd715ee4-6ee0-4790-adeb-2366f561cd7d"
      },
      "execution_count": 22,
      "outputs": [
        {
          "output_type": "execute_result",
          "data": {
            "text/plain": [
              "180"
            ]
          },
          "metadata": {},
          "execution_count": 22
        }
      ]
    },
    {
      "cell_type": "code",
      "source": [
        "sample = df[df['final_language'] == 'undecided']"
      ],
      "metadata": {
        "id": "pKexp3Pi6QVZ"
      },
      "execution_count": 23,
      "outputs": []
    },
    {
      "cell_type": "code",
      "source": [
        "sample['Username'].value_counts()"
      ],
      "metadata": {
        "colab": {
          "base_uri": "https://localhost:8080/"
        },
        "id": "d2waItm56Zic",
        "outputId": "dfd581ca-535e-4317-a239-7946f82a70b0"
      },
      "execution_count": 24,
      "outputs": [
        {
          "output_type": "execute_result",
          "data": {
            "text/plain": [
              "BusesDaily         13\n",
              "TzPhones           10\n",
              "gadgetboxtz         7\n",
              "Architect_Russ      4\n",
              "owdenstz            3\n",
              "ProfDoBad           3\n",
              "KabanovRais         2\n",
              "amo_iphone_         2\n",
              "Grosvenor_MB        1\n",
              "SamakiOnline        1\n",
              "PetroKayanda8       1\n",
              "dsarmanis           1\n",
              "dailynewstz         1\n",
              "tigerthedj          1\n",
              "pvesterbacka        1\n",
              "ypmjno1             1\n",
              "becky_dale          1\n",
              "beenakoshy          1\n",
              "malimbika           1\n",
              "kasiryesam10        1\n",
              "ankali_mambi        1\n",
              "miwasho0816         1\n",
              "SouthernBuses       1\n",
              "leepyne             1\n",
              "TJMgidi             1\n",
              "flyoverboi          1\n",
              "humphreynyange      1\n",
              "AyoubChakah         1\n",
              "Anathi_Tshabe       1\n",
              "Nichekitanzania     1\n",
              "robertsylivesta     1\n",
              "YudaSulePascha1     1\n",
              "BusHighland         1\n",
              "ITDPmx              1\n",
              "Nkololotz           1\n",
              "PlacidoMhaya        1\n",
              "itsnkoba            1\n",
              "mtaliitravels       1\n",
              "Name: Username, dtype: int64"
            ]
          },
          "metadata": {},
          "execution_count": 24
        }
      ]
    },
    {
      "cell_type": "code",
      "source": [
        "import nltk\n",
        "nltk.download('popular')"
      ],
      "metadata": {
        "colab": {
          "base_uri": "https://localhost:8080/"
        },
        "id": "KKuvFid33M2E",
        "outputId": "2c9a01ac-8ed9-4af2-df15-074130fb759b"
      },
      "execution_count": 25,
      "outputs": [
        {
          "output_type": "stream",
          "name": "stderr",
          "text": [
            "[nltk_data] Downloading collection 'popular'\n",
            "[nltk_data]    | \n",
            "[nltk_data]    | Downloading package cmudict to /root/nltk_data...\n",
            "[nltk_data]    |   Unzipping corpora/cmudict.zip.\n",
            "[nltk_data]    | Downloading package gazetteers to /root/nltk_data...\n",
            "[nltk_data]    |   Unzipping corpora/gazetteers.zip.\n",
            "[nltk_data]    | Downloading package genesis to /root/nltk_data...\n",
            "[nltk_data]    |   Unzipping corpora/genesis.zip.\n",
            "[nltk_data]    | Downloading package gutenberg to /root/nltk_data...\n",
            "[nltk_data]    |   Unzipping corpora/gutenberg.zip.\n",
            "[nltk_data]    | Downloading package inaugural to /root/nltk_data...\n",
            "[nltk_data]    |   Unzipping corpora/inaugural.zip.\n",
            "[nltk_data]    | Downloading package movie_reviews to\n",
            "[nltk_data]    |     /root/nltk_data...\n",
            "[nltk_data]    |   Unzipping corpora/movie_reviews.zip.\n",
            "[nltk_data]    | Downloading package names to /root/nltk_data...\n",
            "[nltk_data]    |   Unzipping corpora/names.zip.\n",
            "[nltk_data]    | Downloading package shakespeare to /root/nltk_data...\n",
            "[nltk_data]    |   Unzipping corpora/shakespeare.zip.\n",
            "[nltk_data]    | Downloading package stopwords to /root/nltk_data...\n",
            "[nltk_data]    |   Unzipping corpora/stopwords.zip.\n",
            "[nltk_data]    | Downloading package treebank to /root/nltk_data...\n",
            "[nltk_data]    |   Unzipping corpora/treebank.zip.\n",
            "[nltk_data]    | Downloading package twitter_samples to\n",
            "[nltk_data]    |     /root/nltk_data...\n",
            "[nltk_data]    |   Unzipping corpora/twitter_samples.zip.\n",
            "[nltk_data]    | Downloading package omw to /root/nltk_data...\n",
            "[nltk_data]    | Downloading package omw-1.4 to /root/nltk_data...\n",
            "[nltk_data]    | Downloading package wordnet to /root/nltk_data...\n",
            "[nltk_data]    | Downloading package wordnet2021 to /root/nltk_data...\n",
            "[nltk_data]    | Downloading package wordnet31 to /root/nltk_data...\n",
            "[nltk_data]    | Downloading package wordnet_ic to /root/nltk_data...\n",
            "[nltk_data]    |   Unzipping corpora/wordnet_ic.zip.\n",
            "[nltk_data]    | Downloading package words to /root/nltk_data...\n",
            "[nltk_data]    |   Unzipping corpora/words.zip.\n",
            "[nltk_data]    | Downloading package maxent_ne_chunker to\n",
            "[nltk_data]    |     /root/nltk_data...\n",
            "[nltk_data]    |   Unzipping chunkers/maxent_ne_chunker.zip.\n",
            "[nltk_data]    | Downloading package punkt to /root/nltk_data...\n",
            "[nltk_data]    |   Unzipping tokenizers/punkt.zip.\n",
            "[nltk_data]    | Downloading package snowball_data to\n",
            "[nltk_data]    |     /root/nltk_data...\n",
            "[nltk_data]    | Downloading package averaged_perceptron_tagger to\n",
            "[nltk_data]    |     /root/nltk_data...\n",
            "[nltk_data]    |   Unzipping taggers/averaged_perceptron_tagger.zip.\n",
            "[nltk_data]    | \n",
            "[nltk_data]  Done downloading collection popular\n"
          ]
        },
        {
          "output_type": "execute_result",
          "data": {
            "text/plain": [
              "True"
            ]
          },
          "metadata": {},
          "execution_count": 25
        }
      ]
    },
    {
      "cell_type": "code",
      "source": [
        "import re\n",
        "\n",
        "def clean_text(text):\n",
        "    text = text.lower()\n",
        "    text = re.sub(r\"what's\", \"what is \", text)\n",
        "    text = re.sub(r\"\\'s\", \" \", text)\n",
        "    text = re.sub(r\"\\'ve\", \" have \", text)\n",
        "    text = re.sub(r\"can't\", \"can not \", text)\n",
        "    text = re.sub(r\"n't\", \" not \", text)\n",
        "    text = re.sub(r\"i'm\", \"i am \", text)\n",
        "    text = re.sub(r\"\\'re\", \" are \", text)\n",
        "    text = re.sub(r\"\\'d\", \" would \", text)\n",
        "    text = re.sub(r\"\\'ll\", \" will \", text)\n",
        "    text = re.sub(r\"\\'scuse\", \" excuse \", text)\n",
        "    text = re.sub(r\"\\'\\n\", \" \", text)\n",
        "    text = re.sub(r\"\\'\\xa0\", \" \", text)\n",
        "    text = re.sub(r'\\'s+', ' ', text)\n",
        "    text = text.strip(' ') # removes all leading and trailing spaces in the text\n",
        "    return text"
      ],
      "metadata": {
        "id": "XLEagatK2IEE"
      },
      "execution_count": 26,
      "outputs": []
    },
    {
      "cell_type": "code",
      "source": [
        "from nltk.stem.wordnet import WordNetLemmatizer\n",
        "from nltk.corpus import stopwords\n",
        "from nltk.tokenize import ToktokTokenizer\n",
        "\n",
        "token = ToktokTokenizer()\n",
        "lemma = WordNetLemmatizer()\n",
        "stop_words = set(stopwords.words(\"english\"))\n",
        "\n",
        "def lemitizeWords(text):\n",
        "    words = token.tokenize(text)\n",
        "    listLemma = []\n",
        "    for w in words:\n",
        "        x = lemma.lemmatize(w, pos=\"v\")\n",
        "        listLemma.append(x)\n",
        "    \n",
        "    return ' '.join(map(str, listLemma))\n",
        "\n",
        "def stopWordsRemove(text):\n",
        "\n",
        "    stop_words = set(stopwords.words(\"english\"))\n",
        "\n",
        "    words = token.tokenize(text)\n",
        "\n",
        "    filtered = [w for w in words if not w in stop_words]\n",
        "\n",
        "    return ' '.join(map(str, filtered))"
      ],
      "metadata": {
        "id": "xr6L1xfC2NMZ"
      },
      "execution_count": 27,
      "outputs": []
    },
    {
      "cell_type": "code",
      "source": [
        "import spacy\n",
        "\n",
        "nlp = spacy.load('en_core_web_sm')\n",
        "\n",
        "# define function to remove emojis\n",
        "def remove_emojis(text):\n",
        "    # define regex pattern to match emojis\n",
        "    emoji_pattern = re.compile(\"[\"\n",
        "                               u\"\\U0001F600-\\U0001F64F\"  # emoticons\n",
        "                               u\"\\U0001F300-\\U0001F5FF\"  # symbols & pictographs\n",
        "                               u\"\\U0001F680-\\U0001F6FF\"  # transport & map symbols\n",
        "                               u\"\\U0001F1E0-\\U0001F1FF\"  # flags (iOS)\n",
        "                               u\"\\U00002702-\\U000027B0\"  # other emoticons\n",
        "                               u\"\\U000024C2-\\U0001F251\" \n",
        "                               \"]+\", flags=re.UNICODE)\n",
        "    # remove emojis using regex pattern\n",
        "    return emoji_pattern.sub(r'', text)\n"
      ],
      "metadata": {
        "colab": {
          "base_uri": "https://localhost:8080/"
        },
        "id": "0IidYtdz6zkO",
        "outputId": "ef0ff47c-39b5-4f28-a4e6-eb43ad545160"
      },
      "execution_count": 28,
      "outputs": [
        {
          "output_type": "stream",
          "name": "stderr",
          "text": [
            "/usr/local/lib/python3.9/dist-packages/torch/cuda/__init__.py:497: UserWarning: Can't initialize NVML\n",
            "  warnings.warn(\"Can't initialize NVML\")\n"
          ]
        }
      ]
    },
    {
      "cell_type": "code",
      "source": [
        "# define function to remove named entities\n",
        "def remove_entities(text):\n",
        "    \"\"\"\n",
        "    Remove country, city names, or companies from text using spaCy.\n",
        "\n",
        "    Args:\n",
        "        text (str): Text to remove entities from.\n",
        "\n",
        "    Returns:\n",
        "        str: Text with entities removed.\n",
        "    \"\"\"\n",
        "    doc = nlp(text)\n",
        "    new_text = []\n",
        "    for token in doc:\n",
        "        if not (token.ent_type_ == \"GPE\" or token.ent_type_ == \"LOC\" or token.ent_type_ == \"ORG\"):\n",
        "            new_text.append(token.text)\n",
        "    return \" \".join(new_text)"
      ],
      "metadata": {
        "id": "dy15E_rC7HLt"
      },
      "execution_count": 29,
      "outputs": []
    },
    {
      "cell_type": "code",
      "source": [
        "def remove_keywords(text):\n",
        "    keywords = ['dar es salaam', 'iphone', 'tanzania', 'dar', 'es', 'salaam']\n",
        "    for keyword in keywords:\n",
        "        text = text.replace(keyword, '')\n",
        "    return text"
      ],
      "metadata": {
        "id": "-_FogM_X_ajQ"
      },
      "execution_count": 30,
      "outputs": []
    },
    {
      "cell_type": "code",
      "source": [
        "# Download the Swahili stop words CSV file from Kaggle\n",
        "def remove_swahili_stopwords(text):\n",
        "  # Open stop words file and split into a list\n",
        "  with open('/content/drive/MyDrive/MIT/MIT 807 mini-dissertation/Data/swahili_stopwords.txt', 'r') as f:\n",
        "    stop_words = f.read().split('\\n')\n",
        "\n",
        "  # Remove stop words from text\n",
        "  words = text.split()\n",
        "  filtered_words = [word for word in words if word.lower() not in stop_words]\n",
        "  filtered_text = ' '.join(filtered_words)\n",
        "  return filtered_text"
      ],
      "metadata": {
        "id": "_jiEwmIbBGEK"
      },
      "execution_count": 31,
      "outputs": []
    },
    {
      "cell_type": "code",
      "source": [
        "def combine(new_df):  \n",
        "  new_df['Text'] = new_df['Text'].apply(lambda x: clean_text(x))\n",
        "  print(1)\n",
        "  new_df['Text'] = new_df['Text'].apply(lambda x: lemitizeWords(x))\n",
        "  print(2)\n",
        "  new_df['Text'] = new_df['Text'].apply(lambda x: stopWordsRemove(x))\n",
        "  print(3)\n",
        "  new_df['Text'] = new_df['Text'].apply(lambda x: remove_emojis(x))\n",
        "  print(4)\n",
        "  new_df['Text'] = new_df['Text'].apply(lambda x: remove_entities(x))\n",
        "  print(5)\n",
        "  new_df['Text'] = new_df['Text'].apply(lambda x: remove_keywords(x))\n",
        "  print(6)\n",
        "  new_df['Text'] = new_df['Text'].apply(lambda x: remove_swahili_stopwords(x))\n",
        "  return new_df"
      ],
      "metadata": {
        "id": "bzsQESnf3H7P"
      },
      "execution_count": 32,
      "outputs": []
    },
    {
      "cell_type": "code",
      "source": [
        "df_new = combine(df)\n",
        "df_new"
      ],
      "metadata": {
        "colab": {
          "base_uri": "https://localhost:8080/",
          "height": 1000
        },
        "id": "ygsUwxn24HxT",
        "outputId": "8ce8bf5b-11fa-426d-b1fa-ae26de6f85a3"
      },
      "execution_count": 33,
      "outputs": [
        {
          "output_type": "stream",
          "name": "stderr",
          "text": [
            "<ipython-input-32-df3739378e6e>:2: SettingWithCopyWarning: \n",
            "A value is trying to be set on a copy of a slice from a DataFrame.\n",
            "Try using .loc[row_indexer,col_indexer] = value instead\n",
            "\n",
            "See the caveats in the documentation: https://pandas.pydata.org/pandas-docs/stable/user_guide/indexing.html#returning-a-view-versus-a-copy\n",
            "  new_df['Text'] = new_df['Text'].apply(lambda x: clean_text(x))\n"
          ]
        },
        {
          "output_type": "stream",
          "name": "stdout",
          "text": [
            "1\n"
          ]
        },
        {
          "output_type": "stream",
          "name": "stderr",
          "text": [
            "<ipython-input-32-df3739378e6e>:4: SettingWithCopyWarning: \n",
            "A value is trying to be set on a copy of a slice from a DataFrame.\n",
            "Try using .loc[row_indexer,col_indexer] = value instead\n",
            "\n",
            "See the caveats in the documentation: https://pandas.pydata.org/pandas-docs/stable/user_guide/indexing.html#returning-a-view-versus-a-copy\n",
            "  new_df['Text'] = new_df['Text'].apply(lambda x: lemitizeWords(x))\n",
            "<ipython-input-32-df3739378e6e>:6: SettingWithCopyWarning: \n",
            "A value is trying to be set on a copy of a slice from a DataFrame.\n",
            "Try using .loc[row_indexer,col_indexer] = value instead\n",
            "\n",
            "See the caveats in the documentation: https://pandas.pydata.org/pandas-docs/stable/user_guide/indexing.html#returning-a-view-versus-a-copy\n",
            "  new_df['Text'] = new_df['Text'].apply(lambda x: stopWordsRemove(x))\n",
            "<ipython-input-32-df3739378e6e>:8: SettingWithCopyWarning: \n",
            "A value is trying to be set on a copy of a slice from a DataFrame.\n",
            "Try using .loc[row_indexer,col_indexer] = value instead\n",
            "\n",
            "See the caveats in the documentation: https://pandas.pydata.org/pandas-docs/stable/user_guide/indexing.html#returning-a-view-versus-a-copy\n",
            "  new_df['Text'] = new_df['Text'].apply(lambda x: remove_emojis(x))\n"
          ]
        },
        {
          "output_type": "stream",
          "name": "stdout",
          "text": [
            "2\n",
            "3\n",
            "4\n"
          ]
        },
        {
          "output_type": "stream",
          "name": "stderr",
          "text": [
            "<ipython-input-32-df3739378e6e>:10: SettingWithCopyWarning: \n",
            "A value is trying to be set on a copy of a slice from a DataFrame.\n",
            "Try using .loc[row_indexer,col_indexer] = value instead\n",
            "\n",
            "See the caveats in the documentation: https://pandas.pydata.org/pandas-docs/stable/user_guide/indexing.html#returning-a-view-versus-a-copy\n",
            "  new_df['Text'] = new_df['Text'].apply(lambda x: remove_entities(x))\n",
            "<ipython-input-32-df3739378e6e>:12: SettingWithCopyWarning: \n",
            "A value is trying to be set on a copy of a slice from a DataFrame.\n",
            "Try using .loc[row_indexer,col_indexer] = value instead\n",
            "\n",
            "See the caveats in the documentation: https://pandas.pydata.org/pandas-docs/stable/user_guide/indexing.html#returning-a-view-versus-a-copy\n",
            "  new_df['Text'] = new_df['Text'].apply(lambda x: remove_keywords(x))\n"
          ]
        },
        {
          "output_type": "stream",
          "name": "stdout",
          "text": [
            "5\n",
            "6\n"
          ]
        },
        {
          "output_type": "stream",
          "name": "stderr",
          "text": [
            "<ipython-input-32-df3739378e6e>:14: SettingWithCopyWarning: \n",
            "A value is trying to be set on a copy of a slice from a DataFrame.\n",
            "Try using .loc[row_indexer,col_indexer] = value instead\n",
            "\n",
            "See the caveats in the documentation: https://pandas.pydata.org/pandas-docs/stable/user_guide/indexing.html#returning-a-view-versus-a-copy\n",
            "  new_df['Text'] = new_df['Text'].apply(lambda x: remove_swahili_stopwords(x))\n"
          ]
        },
        {
          "output_type": "execute_result",
          "data": {
            "text/plain": [
              "          key             Datetime             Tweet Id  \\\n",
              "0    daladala  2023-02-08 07:49:38  1623227542218985473   \n",
              "1    daladala  2023-01-31 13:00:19  1620406624908345344   \n",
              "2    daladala  2023-01-27 06:19:14  1618856135645356034   \n",
              "3    daladala  2022-09-24 18:21:32  1573739424382423043   \n",
              "4    daladala  2022-09-19 09:35:17  1571795051818192898   \n",
              "..        ...                  ...                  ...   \n",
              "993     bajaj  2019-03-01 04:42:02  1101341804618690560   \n",
              "994     bajaj  2019-03-01 04:37:31  1101340668473929728   \n",
              "995     bajaj  2018-12-21 07:38:29  1076019057890074624   \n",
              "996     bajaj  2018-07-18 14:49:14  1019594953532600320   \n",
              "997     bajaj  2018-02-02 08:38:58   959345386237382656   \n",
              "\n",
              "                                                  Text        Username  \\\n",
              "0    wana hasira ukimgusa kidogo daladala anakupa b...  fadhilikangusi   \n",
              "1    muonekano kituo kipya daladala kinyerezi barab...    raphyrodrick   \n",
              "2    kumpisha mtu mzima seat daladala sio part maad...          DejohB   \n",
              "3    kuna huyu mtu ana hadithia hapa eti anamwaka m...      AsiahSalum   \n",
              "4    hongera suluhusamia kupata siti nzuri dirishan...   ExMayorUbungo   \n",
              "..                                                 ...             ...   \n",
              "993  trade fair 2019 participation bajaj electrical...      beenakoshy   \n",
              "994  trade fair 2019 visit indian high commission h...      beenakoshy   \n",
              "995  busins busit city locals use tri motorycycl ba...   mtaliitravels   \n",
              "996  safari bora huanza unapoendhwa bajaj ukiwa mad...    MondoRide255   \n",
              "997  wamiliki magari bajaj bodaboda mikoa arusha mw...           Sajjo   \n",
              "\n",
              "                     Location predict_name_afrolid        predict_name_cld3  \\\n",
              "0    Dar Es Salaam, Tanzania               Swahili  Swahili (macrolanguage)   \n",
              "1     Dar es Salaam, Tanzania              Swahili  Swahili (macrolanguage)   \n",
              "2     Dar es Salaam, Tanzania              Swahili  Swahili (macrolanguage)   \n",
              "3     Dar es Salaam, Tanzania              Swahili  Swahili (macrolanguage)   \n",
              "4               Dar es salaam              Swahili  Swahili (macrolanguage)   \n",
              "..                        ...                  ...                      ...   \n",
              "993                       NaN              Swahili                   French   \n",
              "994                       NaN              Swahili                  English   \n",
              "995   Dar es Salaam, Tanzania              Swahili                   Somali   \n",
              "996   Dar es Salaam, Tanzania              Swahili  Swahili (macrolanguage)   \n",
              "997        Salt Lake City, UT              Swahili  Swahili (macrolanguage)   \n",
              "\n",
              "    predict_name_franc                                      cld3_tokenlid  \\\n",
              "0              Swahili                                   [sw, sw, sw, sw]   \n",
              "1              Swahili  [sw, sw, sw, sw, en, en, en, en, sw, sw, sw, s...   \n",
              "2              Swahili  [sw, sw, sw, sw, sw, sw, sw, sw, sw, sw, sw, s...   \n",
              "3              Swahili  [sw, sw, sw, sw, sw, sw, sw, sw, sw, sw, sw, s...   \n",
              "4              Swahili  [sw, sw, sw, sw, sw, sw, sw, sw, sw, sw, sw, s...   \n",
              "..                 ...                                                ...   \n",
              "993             French   [fr, fr, fr, fr, en, en, en, en, en, en, en, en]   \n",
              "994             French  [en, en, en, en, en, en, en, en, en, en, en, e...   \n",
              "995            English  [en, en, en, en, en, en, en, en, en, en, en, e...   \n",
              "996            Swahili  [sw, sw, sw, sw, sw, sw, sw, sw, sw, sw, sw, s...   \n",
              "997            Swahili  [sw, sw, sw, sw, sw, sw, sw, sw, sw, sw, sw, s...   \n",
              "\n",
              "    franc_tokenlid cld3_tokenlid_iso final_language  \n",
              "0              swh                sw        Swahili  \n",
              "1              swh                sw        Swahili  \n",
              "2              swh                sw        Swahili  \n",
              "3              swh                sw        Swahili  \n",
              "4              swh                sw        Swahili  \n",
              "..             ...               ...            ...  \n",
              "993            fra                fr         French  \n",
              "994            fra                en      undecided  \n",
              "995            eng                so      undecided  \n",
              "996            swh                sw        Swahili  \n",
              "997            swh                sw        Swahili  \n",
              "\n",
              "[180 rows x 13 columns]"
            ],
            "text/html": [
              "\n",
              "  <div id=\"df-39cfc6ab-97c8-4541-a0eb-1e0dd2da4694\">\n",
              "    <div class=\"colab-df-container\">\n",
              "      <div>\n",
              "<style scoped>\n",
              "    .dataframe tbody tr th:only-of-type {\n",
              "        vertical-align: middle;\n",
              "    }\n",
              "\n",
              "    .dataframe tbody tr th {\n",
              "        vertical-align: top;\n",
              "    }\n",
              "\n",
              "    .dataframe thead th {\n",
              "        text-align: right;\n",
              "    }\n",
              "</style>\n",
              "<table border=\"1\" class=\"dataframe\">\n",
              "  <thead>\n",
              "    <tr style=\"text-align: right;\">\n",
              "      <th></th>\n",
              "      <th>key</th>\n",
              "      <th>Datetime</th>\n",
              "      <th>Tweet Id</th>\n",
              "      <th>Text</th>\n",
              "      <th>Username</th>\n",
              "      <th>Location</th>\n",
              "      <th>predict_name_afrolid</th>\n",
              "      <th>predict_name_cld3</th>\n",
              "      <th>predict_name_franc</th>\n",
              "      <th>cld3_tokenlid</th>\n",
              "      <th>franc_tokenlid</th>\n",
              "      <th>cld3_tokenlid_iso</th>\n",
              "      <th>final_language</th>\n",
              "    </tr>\n",
              "  </thead>\n",
              "  <tbody>\n",
              "    <tr>\n",
              "      <th>0</th>\n",
              "      <td>daladala</td>\n",
              "      <td>2023-02-08 07:49:38</td>\n",
              "      <td>1623227542218985473</td>\n",
              "      <td>wana hasira ukimgusa kidogo daladala anakupa b...</td>\n",
              "      <td>fadhilikangusi</td>\n",
              "      <td>Dar Es Salaam, Tanzania</td>\n",
              "      <td>Swahili</td>\n",
              "      <td>Swahili (macrolanguage)</td>\n",
              "      <td>Swahili</td>\n",
              "      <td>[sw, sw, sw, sw]</td>\n",
              "      <td>swh</td>\n",
              "      <td>sw</td>\n",
              "      <td>Swahili</td>\n",
              "    </tr>\n",
              "    <tr>\n",
              "      <th>1</th>\n",
              "      <td>daladala</td>\n",
              "      <td>2023-01-31 13:00:19</td>\n",
              "      <td>1620406624908345344</td>\n",
              "      <td>muonekano kituo kipya daladala kinyerezi barab...</td>\n",
              "      <td>raphyrodrick</td>\n",
              "      <td>Dar es Salaam, Tanzania</td>\n",
              "      <td>Swahili</td>\n",
              "      <td>Swahili (macrolanguage)</td>\n",
              "      <td>Swahili</td>\n",
              "      <td>[sw, sw, sw, sw, en, en, en, en, sw, sw, sw, s...</td>\n",
              "      <td>swh</td>\n",
              "      <td>sw</td>\n",
              "      <td>Swahili</td>\n",
              "    </tr>\n",
              "    <tr>\n",
              "      <th>2</th>\n",
              "      <td>daladala</td>\n",
              "      <td>2023-01-27 06:19:14</td>\n",
              "      <td>1618856135645356034</td>\n",
              "      <td>kumpisha mtu mzima seat daladala sio part maad...</td>\n",
              "      <td>DejohB</td>\n",
              "      <td>Dar es Salaam, Tanzania</td>\n",
              "      <td>Swahili</td>\n",
              "      <td>Swahili (macrolanguage)</td>\n",
              "      <td>Swahili</td>\n",
              "      <td>[sw, sw, sw, sw, sw, sw, sw, sw, sw, sw, sw, s...</td>\n",
              "      <td>swh</td>\n",
              "      <td>sw</td>\n",
              "      <td>Swahili</td>\n",
              "    </tr>\n",
              "    <tr>\n",
              "      <th>3</th>\n",
              "      <td>daladala</td>\n",
              "      <td>2022-09-24 18:21:32</td>\n",
              "      <td>1573739424382423043</td>\n",
              "      <td>kuna huyu mtu ana hadithia hapa eti anamwaka m...</td>\n",
              "      <td>AsiahSalum</td>\n",
              "      <td>Dar es Salaam, Tanzania</td>\n",
              "      <td>Swahili</td>\n",
              "      <td>Swahili (macrolanguage)</td>\n",
              "      <td>Swahili</td>\n",
              "      <td>[sw, sw, sw, sw, sw, sw, sw, sw, sw, sw, sw, s...</td>\n",
              "      <td>swh</td>\n",
              "      <td>sw</td>\n",
              "      <td>Swahili</td>\n",
              "    </tr>\n",
              "    <tr>\n",
              "      <th>4</th>\n",
              "      <td>daladala</td>\n",
              "      <td>2022-09-19 09:35:17</td>\n",
              "      <td>1571795051818192898</td>\n",
              "      <td>hongera suluhusamia kupata siti nzuri dirishan...</td>\n",
              "      <td>ExMayorUbungo</td>\n",
              "      <td>Dar es salaam</td>\n",
              "      <td>Swahili</td>\n",
              "      <td>Swahili (macrolanguage)</td>\n",
              "      <td>Swahili</td>\n",
              "      <td>[sw, sw, sw, sw, sw, sw, sw, sw, sw, sw, sw, s...</td>\n",
              "      <td>swh</td>\n",
              "      <td>sw</td>\n",
              "      <td>Swahili</td>\n",
              "    </tr>\n",
              "    <tr>\n",
              "      <th>...</th>\n",
              "      <td>...</td>\n",
              "      <td>...</td>\n",
              "      <td>...</td>\n",
              "      <td>...</td>\n",
              "      <td>...</td>\n",
              "      <td>...</td>\n",
              "      <td>...</td>\n",
              "      <td>...</td>\n",
              "      <td>...</td>\n",
              "      <td>...</td>\n",
              "      <td>...</td>\n",
              "      <td>...</td>\n",
              "      <td>...</td>\n",
              "    </tr>\n",
              "    <tr>\n",
              "      <th>993</th>\n",
              "      <td>bajaj</td>\n",
              "      <td>2019-03-01 04:42:02</td>\n",
              "      <td>1101341804618690560</td>\n",
              "      <td>trade fair 2019 participation bajaj electrical...</td>\n",
              "      <td>beenakoshy</td>\n",
              "      <td>NaN</td>\n",
              "      <td>Swahili</td>\n",
              "      <td>French</td>\n",
              "      <td>French</td>\n",
              "      <td>[fr, fr, fr, fr, en, en, en, en, en, en, en, en]</td>\n",
              "      <td>fra</td>\n",
              "      <td>fr</td>\n",
              "      <td>French</td>\n",
              "    </tr>\n",
              "    <tr>\n",
              "      <th>994</th>\n",
              "      <td>bajaj</td>\n",
              "      <td>2019-03-01 04:37:31</td>\n",
              "      <td>1101340668473929728</td>\n",
              "      <td>trade fair 2019 visit indian high commission h...</td>\n",
              "      <td>beenakoshy</td>\n",
              "      <td>NaN</td>\n",
              "      <td>Swahili</td>\n",
              "      <td>English</td>\n",
              "      <td>French</td>\n",
              "      <td>[en, en, en, en, en, en, en, en, en, en, en, e...</td>\n",
              "      <td>fra</td>\n",
              "      <td>en</td>\n",
              "      <td>undecided</td>\n",
              "    </tr>\n",
              "    <tr>\n",
              "      <th>995</th>\n",
              "      <td>bajaj</td>\n",
              "      <td>2018-12-21 07:38:29</td>\n",
              "      <td>1076019057890074624</td>\n",
              "      <td>busins busit city locals use tri motorycycl ba...</td>\n",
              "      <td>mtaliitravels</td>\n",
              "      <td>Dar es Salaam, Tanzania</td>\n",
              "      <td>Swahili</td>\n",
              "      <td>Somali</td>\n",
              "      <td>English</td>\n",
              "      <td>[en, en, en, en, en, en, en, en, en, en, en, e...</td>\n",
              "      <td>eng</td>\n",
              "      <td>so</td>\n",
              "      <td>undecided</td>\n",
              "    </tr>\n",
              "    <tr>\n",
              "      <th>996</th>\n",
              "      <td>bajaj</td>\n",
              "      <td>2018-07-18 14:49:14</td>\n",
              "      <td>1019594953532600320</td>\n",
              "      <td>safari bora huanza unapoendhwa bajaj ukiwa mad...</td>\n",
              "      <td>MondoRide255</td>\n",
              "      <td>Dar es Salaam, Tanzania</td>\n",
              "      <td>Swahili</td>\n",
              "      <td>Swahili (macrolanguage)</td>\n",
              "      <td>Swahili</td>\n",
              "      <td>[sw, sw, sw, sw, sw, sw, sw, sw, sw, sw, sw, s...</td>\n",
              "      <td>swh</td>\n",
              "      <td>sw</td>\n",
              "      <td>Swahili</td>\n",
              "    </tr>\n",
              "    <tr>\n",
              "      <th>997</th>\n",
              "      <td>bajaj</td>\n",
              "      <td>2018-02-02 08:38:58</td>\n",
              "      <td>959345386237382656</td>\n",
              "      <td>wamiliki magari bajaj bodaboda mikoa arusha mw...</td>\n",
              "      <td>Sajjo</td>\n",
              "      <td>Salt Lake City, UT</td>\n",
              "      <td>Swahili</td>\n",
              "      <td>Swahili (macrolanguage)</td>\n",
              "      <td>Swahili</td>\n",
              "      <td>[sw, sw, sw, sw, sw, sw, sw, sw, sw, sw, sw, s...</td>\n",
              "      <td>swh</td>\n",
              "      <td>sw</td>\n",
              "      <td>Swahili</td>\n",
              "    </tr>\n",
              "  </tbody>\n",
              "</table>\n",
              "<p>180 rows × 13 columns</p>\n",
              "</div>\n",
              "      <button class=\"colab-df-convert\" onclick=\"convertToInteractive('df-39cfc6ab-97c8-4541-a0eb-1e0dd2da4694')\"\n",
              "              title=\"Convert this dataframe to an interactive table.\"\n",
              "              style=\"display:none;\">\n",
              "        \n",
              "  <svg xmlns=\"http://www.w3.org/2000/svg\" height=\"24px\"viewBox=\"0 0 24 24\"\n",
              "       width=\"24px\">\n",
              "    <path d=\"M0 0h24v24H0V0z\" fill=\"none\"/>\n",
              "    <path d=\"M18.56 5.44l.94 2.06.94-2.06 2.06-.94-2.06-.94-.94-2.06-.94 2.06-2.06.94zm-11 1L8.5 8.5l.94-2.06 2.06-.94-2.06-.94L8.5 2.5l-.94 2.06-2.06.94zm10 10l.94 2.06.94-2.06 2.06-.94-2.06-.94-.94-2.06-.94 2.06-2.06.94z\"/><path d=\"M17.41 7.96l-1.37-1.37c-.4-.4-.92-.59-1.43-.59-.52 0-1.04.2-1.43.59L10.3 9.45l-7.72 7.72c-.78.78-.78 2.05 0 2.83L4 21.41c.39.39.9.59 1.41.59.51 0 1.02-.2 1.41-.59l7.78-7.78 2.81-2.81c.8-.78.8-2.07 0-2.86zM5.41 20L4 18.59l7.72-7.72 1.47 1.35L5.41 20z\"/>\n",
              "  </svg>\n",
              "      </button>\n",
              "      \n",
              "  <style>\n",
              "    .colab-df-container {\n",
              "      display:flex;\n",
              "      flex-wrap:wrap;\n",
              "      gap: 12px;\n",
              "    }\n",
              "\n",
              "    .colab-df-convert {\n",
              "      background-color: #E8F0FE;\n",
              "      border: none;\n",
              "      border-radius: 50%;\n",
              "      cursor: pointer;\n",
              "      display: none;\n",
              "      fill: #1967D2;\n",
              "      height: 32px;\n",
              "      padding: 0 0 0 0;\n",
              "      width: 32px;\n",
              "    }\n",
              "\n",
              "    .colab-df-convert:hover {\n",
              "      background-color: #E2EBFA;\n",
              "      box-shadow: 0px 1px 2px rgba(60, 64, 67, 0.3), 0px 1px 3px 1px rgba(60, 64, 67, 0.15);\n",
              "      fill: #174EA6;\n",
              "    }\n",
              "\n",
              "    [theme=dark] .colab-df-convert {\n",
              "      background-color: #3B4455;\n",
              "      fill: #D2E3FC;\n",
              "    }\n",
              "\n",
              "    [theme=dark] .colab-df-convert:hover {\n",
              "      background-color: #434B5C;\n",
              "      box-shadow: 0px 1px 3px 1px rgba(0, 0, 0, 0.15);\n",
              "      filter: drop-shadow(0px 1px 2px rgba(0, 0, 0, 0.3));\n",
              "      fill: #FFFFFF;\n",
              "    }\n",
              "  </style>\n",
              "\n",
              "      <script>\n",
              "        const buttonEl =\n",
              "          document.querySelector('#df-39cfc6ab-97c8-4541-a0eb-1e0dd2da4694 button.colab-df-convert');\n",
              "        buttonEl.style.display =\n",
              "          google.colab.kernel.accessAllowed ? 'block' : 'none';\n",
              "\n",
              "        async function convertToInteractive(key) {\n",
              "          const element = document.querySelector('#df-39cfc6ab-97c8-4541-a0eb-1e0dd2da4694');\n",
              "          const dataTable =\n",
              "            await google.colab.kernel.invokeFunction('convertToInteractive',\n",
              "                                                     [key], {});\n",
              "          if (!dataTable) return;\n",
              "\n",
              "          const docLinkHtml = 'Like what you see? Visit the ' +\n",
              "            '<a target=\"_blank\" href=https://colab.research.google.com/notebooks/data_table.ipynb>data table notebook</a>'\n",
              "            + ' to learn more about interactive tables.';\n",
              "          element.innerHTML = '';\n",
              "          dataTable['output_type'] = 'display_data';\n",
              "          await google.colab.output.renderOutput(dataTable, element);\n",
              "          const docLink = document.createElement('div');\n",
              "          docLink.innerHTML = docLinkHtml;\n",
              "          element.appendChild(docLink);\n",
              "        }\n",
              "      </script>\n",
              "    </div>\n",
              "  </div>\n",
              "  "
            ]
          },
          "metadata": {},
          "execution_count": 33
        }
      ]
    },
    {
      "cell_type": "code",
      "source": [
        "from wordcloud import WordCloud\n",
        "import matplotlib.pyplot as plt\n",
        "\n",
        "def generate_wordcloud(text):\n",
        "    wordcloud = WordCloud(width=3000, height=1500).generate(text)\n",
        "    fig, ax = plt.subplots(figsize=(15, 10))\n",
        "    plt.imshow(wordcloud)\n",
        "    plt.axis(\"off\")\n",
        "    plt.show()\n",
        "\n",
        "generate_wordcloud(\" \".join(df_new['Text']))"
      ],
      "metadata": {
        "colab": {
          "base_uri": "https://localhost:8080/",
          "height": 618
        },
        "id": "_4n11G8tCSYQ",
        "outputId": "d4bb7256-de46-4937-fcbd-fb5ff1c27aaf"
      },
      "execution_count": 34,
      "outputs": [
        {
          "output_type": "display_data",
          "data": {
            "text/plain": [
              "<Figure size 1500x1000 with 1 Axes>"
            ],
            "image/png": "[encoded data removed]"
          },
          "metadata": {}
        }
      ]
    },
    {
      "cell_type": "markdown",
      "source": [
        "# Sentiment Analysis\n",
        "\n",
        "## Monolingual"
      ],
      "metadata": {
        "id": "F6ACU19zSPCF"
      }
    },
    {
      "cell_type": "code",
      "source": [
        "# get training data\n",
        "\n",
        "train = pd.read_csv('/content/drive/MyDrive/MIT/MIT 807 mini-dissertation/Data/Training data/Swahili/train.csv')\n",
        "test = pd.read_csv('/content/drive/MyDrive/MIT/MIT 807 mini-dissertation/Data/Training data/Swahili/test.csv')\n",
        "dev = pd.read_csv('/content/drive/MyDrive/MIT/MIT 807 mini-dissertation/Data/Training data/Swahili/dev.csv')\n",
        "\n",
        "df = pd.concat([train, test, dev], axis=0)\n",
        "\n",
        "df\n"
      ],
      "metadata": {
        "colab": {
          "base_uri": "https://localhost:8080/",
          "height": 423
        },
        "id": "PG4bkz1_STFi",
        "outputId": "238c0437-5f3e-43c8-ba29-00ba039cb64c"
      },
      "execution_count": 87,
      "outputs": [
        {
          "output_type": "execute_result",
          "data": {
            "text/plain": [
              "                                                 tweet     label\n",
              "0    Kwani tanesco wanakataga umeme makusudinadhani...  negative\n",
              "1    cjawahi kuona content yoyote zaidi ya kuwa ana...  negative\n",
              "2    Bomu lililokuwa limetegwa ndani ya gari likiwa...  negative\n",
              "3    Kuna video inasambaa mitandaoni jamaa amemfuma...  negative\n",
              "4    Viwavijeshi wanapita katika hatua kuu 6 za uku...  negative\n",
              "..                                                 ...       ...\n",
              "448  Usiingie kwenye mahusiano na mtu ambae hutatam...  positive\n",
              "449             Wapambanaji wa kuleta makombe Msimbazi   neutral\n",
              "450  Elimu Ni Ufunguo Wa Maisha Sasa huyu mwanafunz...   neutral\n",
              "451  Viingilio vya tamasha kubwa zaidi nchini Unawe...   neutral\n",
              "452  Hakuna maji wangeishijekuziba watu midomo si s...  positive\n",
              "\n",
              "[3011 rows x 2 columns]"
            ],
            "text/html": [
              "\n",
              "  <div id=\"df-7206c295-71f8-478a-9a2d-97c330977a15\">\n",
              "    <div class=\"colab-df-container\">\n",
              "      <div>\n",
              "<style scoped>\n",
              "    .dataframe tbody tr th:only-of-type {\n",
              "        vertical-align: middle;\n",
              "    }\n",
              "\n",
              "    .dataframe tbody tr th {\n",
              "        vertical-align: top;\n",
              "    }\n",
              "\n",
              "    .dataframe thead th {\n",
              "        text-align: right;\n",
              "    }\n",
              "</style>\n",
              "<table border=\"1\" class=\"dataframe\">\n",
              "  <thead>\n",
              "    <tr style=\"text-align: right;\">\n",
              "      <th></th>\n",
              "      <th>tweet</th>\n",
              "      <th>label</th>\n",
              "    </tr>\n",
              "  </thead>\n",
              "  <tbody>\n",
              "    <tr>\n",
              "      <th>0</th>\n",
              "      <td>Kwani tanesco wanakataga umeme makusudinadhani...</td>\n",
              "      <td>negative</td>\n",
              "    </tr>\n",
              "    <tr>\n",
              "      <th>1</th>\n",
              "      <td>cjawahi kuona content yoyote zaidi ya kuwa ana...</td>\n",
              "      <td>negative</td>\n",
              "    </tr>\n",
              "    <tr>\n",
              "      <th>2</th>\n",
              "      <td>Bomu lililokuwa limetegwa ndani ya gari likiwa...</td>\n",
              "      <td>negative</td>\n",
              "    </tr>\n",
              "    <tr>\n",
              "      <th>3</th>\n",
              "      <td>Kuna video inasambaa mitandaoni jamaa amemfuma...</td>\n",
              "      <td>negative</td>\n",
              "    </tr>\n",
              "    <tr>\n",
              "      <th>4</th>\n",
              "      <td>Viwavijeshi wanapita katika hatua kuu 6 za uku...</td>\n",
              "      <td>negative</td>\n",
              "    </tr>\n",
              "    <tr>\n",
              "      <th>...</th>\n",
              "      <td>...</td>\n",
              "      <td>...</td>\n",
              "    </tr>\n",
              "    <tr>\n",
              "      <th>448</th>\n",
              "      <td>Usiingie kwenye mahusiano na mtu ambae hutatam...</td>\n",
              "      <td>positive</td>\n",
              "    </tr>\n",
              "    <tr>\n",
              "      <th>449</th>\n",
              "      <td>Wapambanaji wa kuleta makombe Msimbazi</td>\n",
              "      <td>neutral</td>\n",
              "    </tr>\n",
              "    <tr>\n",
              "      <th>450</th>\n",
              "      <td>Elimu Ni Ufunguo Wa Maisha Sasa huyu mwanafunz...</td>\n",
              "      <td>neutral</td>\n",
              "    </tr>\n",
              "    <tr>\n",
              "      <th>451</th>\n",
              "      <td>Viingilio vya tamasha kubwa zaidi nchini Unawe...</td>\n",
              "      <td>neutral</td>\n",
              "    </tr>\n",
              "    <tr>\n",
              "      <th>452</th>\n",
              "      <td>Hakuna maji wangeishijekuziba watu midomo si s...</td>\n",
              "      <td>positive</td>\n",
              "    </tr>\n",
              "  </tbody>\n",
              "</table>\n",
              "<p>3011 rows × 2 columns</p>\n",
              "</div>\n",
              "      <button class=\"colab-df-convert\" onclick=\"convertToInteractive('df-7206c295-71f8-478a-9a2d-97c330977a15')\"\n",
              "              title=\"Convert this dataframe to an interactive table.\"\n",
              "              style=\"display:none;\">\n",
              "        \n",
              "  <svg xmlns=\"http://www.w3.org/2000/svg\" height=\"24px\"viewBox=\"0 0 24 24\"\n",
              "       width=\"24px\">\n",
              "    <path d=\"M0 0h24v24H0V0z\" fill=\"none\"/>\n",
              "    <path d=\"M18.56 5.44l.94 2.06.94-2.06 2.06-.94-2.06-.94-.94-2.06-.94 2.06-2.06.94zm-11 1L8.5 8.5l.94-2.06 2.06-.94-2.06-.94L8.5 2.5l-.94 2.06-2.06.94zm10 10l.94 2.06.94-2.06 2.06-.94-2.06-.94-.94-2.06-.94 2.06-2.06.94z\"/><path d=\"M17.41 7.96l-1.37-1.37c-.4-.4-.92-.59-1.43-.59-.52 0-1.04.2-1.43.59L10.3 9.45l-7.72 7.72c-.78.78-.78 2.05 0 2.83L4 21.41c.39.39.9.59 1.41.59.51 0 1.02-.2 1.41-.59l7.78-7.78 2.81-2.81c.8-.78.8-2.07 0-2.86zM5.41 20L4 18.59l7.72-7.72 1.47 1.35L5.41 20z\"/>\n",
              "  </svg>\n",
              "      </button>\n",
              "      \n",
              "  <style>\n",
              "    .colab-df-container {\n",
              "      display:flex;\n",
              "      flex-wrap:wrap;\n",
              "      gap: 12px;\n",
              "    }\n",
              "\n",
              "    .colab-df-convert {\n",
              "      background-color: #E8F0FE;\n",
              "      border: none;\n",
              "      border-radius: 50%;\n",
              "      cursor: pointer;\n",
              "      display: none;\n",
              "      fill: #1967D2;\n",
              "      height: 32px;\n",
              "      padding: 0 0 0 0;\n",
              "      width: 32px;\n",
              "    }\n",
              "\n",
              "    .colab-df-convert:hover {\n",
              "      background-color: #E2EBFA;\n",
              "      box-shadow: 0px 1px 2px rgba(60, 64, 67, 0.3), 0px 1px 3px 1px rgba(60, 64, 67, 0.15);\n",
              "      fill: #174EA6;\n",
              "    }\n",
              "\n",
              "    [theme=dark] .colab-df-convert {\n",
              "      background-color: #3B4455;\n",
              "      fill: #D2E3FC;\n",
              "    }\n",
              "\n",
              "    [theme=dark] .colab-df-convert:hover {\n",
              "      background-color: #434B5C;\n",
              "      box-shadow: 0px 1px 3px 1px rgba(0, 0, 0, 0.15);\n",
              "      filter: drop-shadow(0px 1px 2px rgba(0, 0, 0, 0.3));\n",
              "      fill: #FFFFFF;\n",
              "    }\n",
              "  </style>\n",
              "\n",
              "      <script>\n",
              "        const buttonEl =\n",
              "          document.querySelector('#df-7206c295-71f8-478a-9a2d-97c330977a15 button.colab-df-convert');\n",
              "        buttonEl.style.display =\n",
              "          google.colab.kernel.accessAllowed ? 'block' : 'none';\n",
              "\n",
              "        async function convertToInteractive(key) {\n",
              "          const element = document.querySelector('#df-7206c295-71f8-478a-9a2d-97c330977a15');\n",
              "          const dataTable =\n",
              "            await google.colab.kernel.invokeFunction('convertToInteractive',\n",
              "                                                     [key], {});\n",
              "          if (!dataTable) return;\n",
              "\n",
              "          const docLinkHtml = 'Like what you see? Visit the ' +\n",
              "            '<a target=\"_blank\" href=https://colab.research.google.com/notebooks/data_table.ipynb>data table notebook</a>'\n",
              "            + ' to learn more about interactive tables.';\n",
              "          element.innerHTML = '';\n",
              "          dataTable['output_type'] = 'display_data';\n",
              "          await google.colab.output.renderOutput(dataTable, element);\n",
              "          const docLink = document.createElement('div');\n",
              "          docLink.innerHTML = docLinkHtml;\n",
              "          element.appendChild(docLink);\n",
              "        }\n",
              "      </script>\n",
              "    </div>\n",
              "  </div>\n",
              "  "
            ]
          },
          "metadata": {},
          "execution_count": 87
        }
      ]
    },
    {
      "cell_type": "code",
      "source": [
        "df['labels'] = pd.Categorical(df['label']).codes"
      ],
      "metadata": {
        "id": "o6F-fB_LeScV"
      },
      "execution_count": 88,
      "outputs": []
    },
    {
      "cell_type": "code",
      "source": [
        "df.head()"
      ],
      "metadata": {
        "colab": {
          "base_uri": "https://localhost:8080/",
          "height": 206
        },
        "id": "b2iOs9zCebWJ",
        "outputId": "e632d374-8b2f-481b-ed1d-9e4f1e847777"
      },
      "execution_count": 89,
      "outputs": [
        {
          "output_type": "execute_result",
          "data": {
            "text/plain": [
              "                                               tweet     label  labels\n",
              "0  Kwani tanesco wanakataga umeme makusudinadhani...  negative       0\n",
              "1  cjawahi kuona content yoyote zaidi ya kuwa ana...  negative       0\n",
              "2  Bomu lililokuwa limetegwa ndani ya gari likiwa...  negative       0\n",
              "3  Kuna video inasambaa mitandaoni jamaa amemfuma...  negative       0\n",
              "4  Viwavijeshi wanapita katika hatua kuu 6 za uku...  negative       0"
            ],
            "text/html": [
              "\n",
              "  <div id=\"df-f9620d1e-e3ee-4f51-9bb5-3429a37f41c4\">\n",
              "    <div class=\"colab-df-container\">\n",
              "      <div>\n",
              "<style scoped>\n",
              "    .dataframe tbody tr th:only-of-type {\n",
              "        vertical-align: middle;\n",
              "    }\n",
              "\n",
              "    .dataframe tbody tr th {\n",
              "        vertical-align: top;\n",
              "    }\n",
              "\n",
              "    .dataframe thead th {\n",
              "        text-align: right;\n",
              "    }\n",
              "</style>\n",
              "<table border=\"1\" class=\"dataframe\">\n",
              "  <thead>\n",
              "    <tr style=\"text-align: right;\">\n",
              "      <th></th>\n",
              "      <th>tweet</th>\n",
              "      <th>label</th>\n",
              "      <th>labels</th>\n",
              "    </tr>\n",
              "  </thead>\n",
              "  <tbody>\n",
              "    <tr>\n",
              "      <th>0</th>\n",
              "      <td>Kwani tanesco wanakataga umeme makusudinadhani...</td>\n",
              "      <td>negative</td>\n",
              "      <td>0</td>\n",
              "    </tr>\n",
              "    <tr>\n",
              "      <th>1</th>\n",
              "      <td>cjawahi kuona content yoyote zaidi ya kuwa ana...</td>\n",
              "      <td>negative</td>\n",
              "      <td>0</td>\n",
              "    </tr>\n",
              "    <tr>\n",
              "      <th>2</th>\n",
              "      <td>Bomu lililokuwa limetegwa ndani ya gari likiwa...</td>\n",
              "      <td>negative</td>\n",
              "      <td>0</td>\n",
              "    </tr>\n",
              "    <tr>\n",
              "      <th>3</th>\n",
              "      <td>Kuna video inasambaa mitandaoni jamaa amemfuma...</td>\n",
              "      <td>negative</td>\n",
              "      <td>0</td>\n",
              "    </tr>\n",
              "    <tr>\n",
              "      <th>4</th>\n",
              "      <td>Viwavijeshi wanapita katika hatua kuu 6 za uku...</td>\n",
              "      <td>negative</td>\n",
              "      <td>0</td>\n",
              "    </tr>\n",
              "  </tbody>\n",
              "</table>\n",
              "</div>\n",
              "      <button class=\"colab-df-convert\" onclick=\"convertToInteractive('df-f9620d1e-e3ee-4f51-9bb5-3429a37f41c4')\"\n",
              "              title=\"Convert this dataframe to an interactive table.\"\n",
              "              style=\"display:none;\">\n",
              "        \n",
              "  <svg xmlns=\"http://www.w3.org/2000/svg\" height=\"24px\"viewBox=\"0 0 24 24\"\n",
              "       width=\"24px\">\n",
              "    <path d=\"M0 0h24v24H0V0z\" fill=\"none\"/>\n",
              "    <path d=\"M18.56 5.44l.94 2.06.94-2.06 2.06-.94-2.06-.94-.94-2.06-.94 2.06-2.06.94zm-11 1L8.5 8.5l.94-2.06 2.06-.94-2.06-.94L8.5 2.5l-.94 2.06-2.06.94zm10 10l.94 2.06.94-2.06 2.06-.94-2.06-.94-.94-2.06-.94 2.06-2.06.94z\"/><path d=\"M17.41 7.96l-1.37-1.37c-.4-.4-.92-.59-1.43-.59-.52 0-1.04.2-1.43.59L10.3 9.45l-7.72 7.72c-.78.78-.78 2.05 0 2.83L4 21.41c.39.39.9.59 1.41.59.51 0 1.02-.2 1.41-.59l7.78-7.78 2.81-2.81c.8-.78.8-2.07 0-2.86zM5.41 20L4 18.59l7.72-7.72 1.47 1.35L5.41 20z\"/>\n",
              "  </svg>\n",
              "      </button>\n",
              "      \n",
              "  <style>\n",
              "    .colab-df-container {\n",
              "      display:flex;\n",
              "      flex-wrap:wrap;\n",
              "      gap: 12px;\n",
              "    }\n",
              "\n",
              "    .colab-df-convert {\n",
              "      background-color: #E8F0FE;\n",
              "      border: none;\n",
              "      border-radius: 50%;\n",
              "      cursor: pointer;\n",
              "      display: none;\n",
              "      fill: #1967D2;\n",
              "      height: 32px;\n",
              "      padding: 0 0 0 0;\n",
              "      width: 32px;\n",
              "    }\n",
              "\n",
              "    .colab-df-convert:hover {\n",
              "      background-color: #E2EBFA;\n",
              "      box-shadow: 0px 1px 2px rgba(60, 64, 67, 0.3), 0px 1px 3px 1px rgba(60, 64, 67, 0.15);\n",
              "      fill: #174EA6;\n",
              "    }\n",
              "\n",
              "    [theme=dark] .colab-df-convert {\n",
              "      background-color: #3B4455;\n",
              "      fill: #D2E3FC;\n",
              "    }\n",
              "\n",
              "    [theme=dark] .colab-df-convert:hover {\n",
              "      background-color: #434B5C;\n",
              "      box-shadow: 0px 1px 3px 1px rgba(0, 0, 0, 0.15);\n",
              "      filter: drop-shadow(0px 1px 2px rgba(0, 0, 0, 0.3));\n",
              "      fill: #FFFFFF;\n",
              "    }\n",
              "  </style>\n",
              "\n",
              "      <script>\n",
              "        const buttonEl =\n",
              "          document.querySelector('#df-f9620d1e-e3ee-4f51-9bb5-3429a37f41c4 button.colab-df-convert');\n",
              "        buttonEl.style.display =\n",
              "          google.colab.kernel.accessAllowed ? 'block' : 'none';\n",
              "\n",
              "        async function convertToInteractive(key) {\n",
              "          const element = document.querySelector('#df-f9620d1e-e3ee-4f51-9bb5-3429a37f41c4');\n",
              "          const dataTable =\n",
              "            await google.colab.kernel.invokeFunction('convertToInteractive',\n",
              "                                                     [key], {});\n",
              "          if (!dataTable) return;\n",
              "\n",
              "          const docLinkHtml = 'Like what you see? Visit the ' +\n",
              "            '<a target=\"_blank\" href=https://colab.research.google.com/notebooks/data_table.ipynb>data table notebook</a>'\n",
              "            + ' to learn more about interactive tables.';\n",
              "          element.innerHTML = '';\n",
              "          dataTable['output_type'] = 'display_data';\n",
              "          await google.colab.output.renderOutput(dataTable, element);\n",
              "          const docLink = document.createElement('div');\n",
              "          docLink.innerHTML = docLinkHtml;\n",
              "          element.appendChild(docLink);\n",
              "        }\n",
              "      </script>\n",
              "    </div>\n",
              "  </div>\n",
              "  "
            ]
          },
          "metadata": {},
          "execution_count": 89
        }
      ]
    },
    {
      "cell_type": "code",
      "source": [
        "labels = list(pd.Categorical(df['label']).categories)"
      ],
      "metadata": {
        "id": "WsWPiVbPempZ"
      },
      "execution_count": 90,
      "outputs": []
    },
    {
      "cell_type": "code",
      "source": [
        "pd.Categorical(df['label']).categories"
      ],
      "metadata": {
        "colab": {
          "base_uri": "https://localhost:8080/"
        },
        "id": "YYYe7G_9jZfk",
        "outputId": "c2ad22c9-cbf1-44e5-db0d-7e6d47e1d80f"
      },
      "execution_count": 99,
      "outputs": [
        {
          "output_type": "execute_result",
          "data": {
            "text/plain": [
              "Index(['negative', 'neutral', 'positive'], dtype='object')"
            ]
          },
          "metadata": {},
          "execution_count": 99
        }
      ]
    },
    {
      "cell_type": "code",
      "source": [
        "labels_index = {label: i for i, label in enumerate(labels)}\n",
        "labels_index"
      ],
      "metadata": {
        "colab": {
          "base_uri": "https://localhost:8080/"
        },
        "id": "dp-qGmGdeqWh",
        "outputId": "c3a7677f-4c74-4913-91bd-39ccf8af2604"
      },
      "execution_count": 91,
      "outputs": [
        {
          "output_type": "execute_result",
          "data": {
            "text/plain": [
              "{'negative': 0, 'neutral': 1, 'positive': 2}"
            ]
          },
          "metadata": {},
          "execution_count": 91
        }
      ]
    },
    {
      "cell_type": "code",
      "source": [
        "index_labels = {str(i): label for i, label in enumerate(labels)}\n",
        "index_labels"
      ],
      "metadata": {
        "colab": {
          "base_uri": "https://localhost:8080/"
        },
        "id": "_7RObXZdes8J",
        "outputId": "a4fef9ee-e162-4477-e022-3b4531945939"
      },
      "execution_count": 92,
      "outputs": [
        {
          "output_type": "execute_result",
          "data": {
            "text/plain": [
              "{'0': 'negative', '1': 'neutral', '2': 'positive'}"
            ]
          },
          "metadata": {},
          "execution_count": 92
        }
      ]
    },
    {
      "cell_type": "code",
      "source": [
        "df['label'].value_counts()"
      ],
      "metadata": {
        "colab": {
          "base_uri": "https://localhost:8080/"
        },
        "id": "aZd73XEgwZlr",
        "outputId": "1d8674e6-5890-4295-ecee-d7d6aebac438"
      },
      "execution_count": 93,
      "outputs": [
        {
          "output_type": "execute_result",
          "data": {
            "text/plain": [
              "neutral     1784\n",
              "positive     908\n",
              "negative     319\n",
              "Name: label, dtype: int64"
            ]
          },
          "metadata": {},
          "execution_count": 93
        }
      ]
    },
    {
      "cell_type": "code",
      "source": [
        "data_labels = df.groupby('label')['label'].count().sort_values(ascending=False).reset_index(name='count')"
      ],
      "metadata": {
        "id": "GCB2te1O0Nx2"
      },
      "execution_count": 94,
      "outputs": []
    },
    {
      "cell_type": "code",
      "source": [
        "data_labels"
      ],
      "metadata": {
        "colab": {
          "base_uri": "https://localhost:8080/",
          "height": 143
        },
        "id": "iR1zMJFH1Ktq",
        "outputId": "afa11581-8454-43b0-80b4-1d0a4f151f0d"
      },
      "execution_count": 95,
      "outputs": [
        {
          "output_type": "execute_result",
          "data": {
            "text/plain": [
              "      label  count\n",
              "0   neutral   1784\n",
              "1  positive    908\n",
              "2  negative    319"
            ],
            "text/html": [
              "\n",
              "  <div id=\"df-57f43ca1-69cd-42b7-8eea-016e13585675\">\n",
              "    <div class=\"colab-df-container\">\n",
              "      <div>\n",
              "<style scoped>\n",
              "    .dataframe tbody tr th:only-of-type {\n",
              "        vertical-align: middle;\n",
              "    }\n",
              "\n",
              "    .dataframe tbody tr th {\n",
              "        vertical-align: top;\n",
              "    }\n",
              "\n",
              "    .dataframe thead th {\n",
              "        text-align: right;\n",
              "    }\n",
              "</style>\n",
              "<table border=\"1\" class=\"dataframe\">\n",
              "  <thead>\n",
              "    <tr style=\"text-align: right;\">\n",
              "      <th></th>\n",
              "      <th>label</th>\n",
              "      <th>count</th>\n",
              "    </tr>\n",
              "  </thead>\n",
              "  <tbody>\n",
              "    <tr>\n",
              "      <th>0</th>\n",
              "      <td>neutral</td>\n",
              "      <td>1784</td>\n",
              "    </tr>\n",
              "    <tr>\n",
              "      <th>1</th>\n",
              "      <td>positive</td>\n",
              "      <td>908</td>\n",
              "    </tr>\n",
              "    <tr>\n",
              "      <th>2</th>\n",
              "      <td>negative</td>\n",
              "      <td>319</td>\n",
              "    </tr>\n",
              "  </tbody>\n",
              "</table>\n",
              "</div>\n",
              "      <button class=\"colab-df-convert\" onclick=\"convertToInteractive('df-57f43ca1-69cd-42b7-8eea-016e13585675')\"\n",
              "              title=\"Convert this dataframe to an interactive table.\"\n",
              "              style=\"display:none;\">\n",
              "        \n",
              "  <svg xmlns=\"http://www.w3.org/2000/svg\" height=\"24px\"viewBox=\"0 0 24 24\"\n",
              "       width=\"24px\">\n",
              "    <path d=\"M0 0h24v24H0V0z\" fill=\"none\"/>\n",
              "    <path d=\"M18.56 5.44l.94 2.06.94-2.06 2.06-.94-2.06-.94-.94-2.06-.94 2.06-2.06.94zm-11 1L8.5 8.5l.94-2.06 2.06-.94-2.06-.94L8.5 2.5l-.94 2.06-2.06.94zm10 10l.94 2.06.94-2.06 2.06-.94-2.06-.94-.94-2.06-.94 2.06-2.06.94z\"/><path d=\"M17.41 7.96l-1.37-1.37c-.4-.4-.92-.59-1.43-.59-.52 0-1.04.2-1.43.59L10.3 9.45l-7.72 7.72c-.78.78-.78 2.05 0 2.83L4 21.41c.39.39.9.59 1.41.59.51 0 1.02-.2 1.41-.59l7.78-7.78 2.81-2.81c.8-.78.8-2.07 0-2.86zM5.41 20L4 18.59l7.72-7.72 1.47 1.35L5.41 20z\"/>\n",
              "  </svg>\n",
              "      </button>\n",
              "      \n",
              "  <style>\n",
              "    .colab-df-container {\n",
              "      display:flex;\n",
              "      flex-wrap:wrap;\n",
              "      gap: 12px;\n",
              "    }\n",
              "\n",
              "    .colab-df-convert {\n",
              "      background-color: #E8F0FE;\n",
              "      border: none;\n",
              "      border-radius: 50%;\n",
              "      cursor: pointer;\n",
              "      display: none;\n",
              "      fill: #1967D2;\n",
              "      height: 32px;\n",
              "      padding: 0 0 0 0;\n",
              "      width: 32px;\n",
              "    }\n",
              "\n",
              "    .colab-df-convert:hover {\n",
              "      background-color: #E2EBFA;\n",
              "      box-shadow: 0px 1px 2px rgba(60, 64, 67, 0.3), 0px 1px 3px 1px rgba(60, 64, 67, 0.15);\n",
              "      fill: #174EA6;\n",
              "    }\n",
              "\n",
              "    [theme=dark] .colab-df-convert {\n",
              "      background-color: #3B4455;\n",
              "      fill: #D2E3FC;\n",
              "    }\n",
              "\n",
              "    [theme=dark] .colab-df-convert:hover {\n",
              "      background-color: #434B5C;\n",
              "      box-shadow: 0px 1px 3px 1px rgba(0, 0, 0, 0.15);\n",
              "      filter: drop-shadow(0px 1px 2px rgba(0, 0, 0, 0.3));\n",
              "      fill: #FFFFFF;\n",
              "    }\n",
              "  </style>\n",
              "\n",
              "      <script>\n",
              "        const buttonEl =\n",
              "          document.querySelector('#df-57f43ca1-69cd-42b7-8eea-016e13585675 button.colab-df-convert');\n",
              "        buttonEl.style.display =\n",
              "          google.colab.kernel.accessAllowed ? 'block' : 'none';\n",
              "\n",
              "        async function convertToInteractive(key) {\n",
              "          const element = document.querySelector('#df-57f43ca1-69cd-42b7-8eea-016e13585675');\n",
              "          const dataTable =\n",
              "            await google.colab.kernel.invokeFunction('convertToInteractive',\n",
              "                                                     [key], {});\n",
              "          if (!dataTable) return;\n",
              "\n",
              "          const docLinkHtml = 'Like what you see? Visit the ' +\n",
              "            '<a target=\"_blank\" href=https://colab.research.google.com/notebooks/data_table.ipynb>data table notebook</a>'\n",
              "            + ' to learn more about interactive tables.';\n",
              "          element.innerHTML = '';\n",
              "          dataTable['output_type'] = 'display_data';\n",
              "          await google.colab.output.renderOutput(dataTable, element);\n",
              "          const docLink = document.createElement('div');\n",
              "          docLink.innerHTML = docLinkHtml;\n",
              "          element.appendChild(docLink);\n",
              "        }\n",
              "      </script>\n",
              "    </div>\n",
              "  </div>\n",
              "  "
            ]
          },
          "metadata": {},
          "execution_count": 95
        }
      ]
    },
    {
      "cell_type": "code",
      "source": [
        "df.head()"
      ],
      "metadata": {
        "colab": {
          "base_uri": "https://localhost:8080/",
          "height": 206
        },
        "id": "PQ-1RiIReCJh",
        "outputId": "6385dbf3-d850-4a70-cb9d-0d06c8a11756"
      },
      "execution_count": 96,
      "outputs": [
        {
          "output_type": "execute_result",
          "data": {
            "text/plain": [
              "                                               tweet     label  labels\n",
              "0  Kwani tanesco wanakataga umeme makusudinadhani...  negative       0\n",
              "1  cjawahi kuona content yoyote zaidi ya kuwa ana...  negative       0\n",
              "2  Bomu lililokuwa limetegwa ndani ya gari likiwa...  negative       0\n",
              "3  Kuna video inasambaa mitandaoni jamaa amemfuma...  negative       0\n",
              "4  Viwavijeshi wanapita katika hatua kuu 6 za uku...  negative       0"
            ],
            "text/html": [
              "\n",
              "  <div id=\"df-e1bf28ca-f6e2-437d-883f-cad0a8ea0eab\">\n",
              "    <div class=\"colab-df-container\">\n",
              "      <div>\n",
              "<style scoped>\n",
              "    .dataframe tbody tr th:only-of-type {\n",
              "        vertical-align: middle;\n",
              "    }\n",
              "\n",
              "    .dataframe tbody tr th {\n",
              "        vertical-align: top;\n",
              "    }\n",
              "\n",
              "    .dataframe thead th {\n",
              "        text-align: right;\n",
              "    }\n",
              "</style>\n",
              "<table border=\"1\" class=\"dataframe\">\n",
              "  <thead>\n",
              "    <tr style=\"text-align: right;\">\n",
              "      <th></th>\n",
              "      <th>tweet</th>\n",
              "      <th>label</th>\n",
              "      <th>labels</th>\n",
              "    </tr>\n",
              "  </thead>\n",
              "  <tbody>\n",
              "    <tr>\n",
              "      <th>0</th>\n",
              "      <td>Kwani tanesco wanakataga umeme makusudinadhani...</td>\n",
              "      <td>negative</td>\n",
              "      <td>0</td>\n",
              "    </tr>\n",
              "    <tr>\n",
              "      <th>1</th>\n",
              "      <td>cjawahi kuona content yoyote zaidi ya kuwa ana...</td>\n",
              "      <td>negative</td>\n",
              "      <td>0</td>\n",
              "    </tr>\n",
              "    <tr>\n",
              "      <th>2</th>\n",
              "      <td>Bomu lililokuwa limetegwa ndani ya gari likiwa...</td>\n",
              "      <td>negative</td>\n",
              "      <td>0</td>\n",
              "    </tr>\n",
              "    <tr>\n",
              "      <th>3</th>\n",
              "      <td>Kuna video inasambaa mitandaoni jamaa amemfuma...</td>\n",
              "      <td>negative</td>\n",
              "      <td>0</td>\n",
              "    </tr>\n",
              "    <tr>\n",
              "      <th>4</th>\n",
              "      <td>Viwavijeshi wanapita katika hatua kuu 6 za uku...</td>\n",
              "      <td>negative</td>\n",
              "      <td>0</td>\n",
              "    </tr>\n",
              "  </tbody>\n",
              "</table>\n",
              "</div>\n",
              "      <button class=\"colab-df-convert\" onclick=\"convertToInteractive('df-e1bf28ca-f6e2-437d-883f-cad0a8ea0eab')\"\n",
              "              title=\"Convert this dataframe to an interactive table.\"\n",
              "              style=\"display:none;\">\n",
              "        \n",
              "  <svg xmlns=\"http://www.w3.org/2000/svg\" height=\"24px\"viewBox=\"0 0 24 24\"\n",
              "       width=\"24px\">\n",
              "    <path d=\"M0 0h24v24H0V0z\" fill=\"none\"/>\n",
              "    <path d=\"M18.56 5.44l.94 2.06.94-2.06 2.06-.94-2.06-.94-.94-2.06-.94 2.06-2.06.94zm-11 1L8.5 8.5l.94-2.06 2.06-.94-2.06-.94L8.5 2.5l-.94 2.06-2.06.94zm10 10l.94 2.06.94-2.06 2.06-.94-2.06-.94-.94-2.06-.94 2.06-2.06.94z\"/><path d=\"M17.41 7.96l-1.37-1.37c-.4-.4-.92-.59-1.43-.59-.52 0-1.04.2-1.43.59L10.3 9.45l-7.72 7.72c-.78.78-.78 2.05 0 2.83L4 21.41c.39.39.9.59 1.41.59.51 0 1.02-.2 1.41-.59l7.78-7.78 2.81-2.81c.8-.78.8-2.07 0-2.86zM5.41 20L4 18.59l7.72-7.72 1.47 1.35L5.41 20z\"/>\n",
              "  </svg>\n",
              "      </button>\n",
              "      \n",
              "  <style>\n",
              "    .colab-df-container {\n",
              "      display:flex;\n",
              "      flex-wrap:wrap;\n",
              "      gap: 12px;\n",
              "    }\n",
              "\n",
              "    .colab-df-convert {\n",
              "      background-color: #E8F0FE;\n",
              "      border: none;\n",
              "      border-radius: 50%;\n",
              "      cursor: pointer;\n",
              "      display: none;\n",
              "      fill: #1967D2;\n",
              "      height: 32px;\n",
              "      padding: 0 0 0 0;\n",
              "      width: 32px;\n",
              "    }\n",
              "\n",
              "    .colab-df-convert:hover {\n",
              "      background-color: #E2EBFA;\n",
              "      box-shadow: 0px 1px 2px rgba(60, 64, 67, 0.3), 0px 1px 3px 1px rgba(60, 64, 67, 0.15);\n",
              "      fill: #174EA6;\n",
              "    }\n",
              "\n",
              "    [theme=dark] .colab-df-convert {\n",
              "      background-color: #3B4455;\n",
              "      fill: #D2E3FC;\n",
              "    }\n",
              "\n",
              "    [theme=dark] .colab-df-convert:hover {\n",
              "      background-color: #434B5C;\n",
              "      box-shadow: 0px 1px 3px 1px rgba(0, 0, 0, 0.15);\n",
              "      filter: drop-shadow(0px 1px 2px rgba(0, 0, 0, 0.3));\n",
              "      fill: #FFFFFF;\n",
              "    }\n",
              "  </style>\n",
              "\n",
              "      <script>\n",
              "        const buttonEl =\n",
              "          document.querySelector('#df-e1bf28ca-f6e2-437d-883f-cad0a8ea0eab button.colab-df-convert');\n",
              "        buttonEl.style.display =\n",
              "          google.colab.kernel.accessAllowed ? 'block' : 'none';\n",
              "\n",
              "        async function convertToInteractive(key) {\n",
              "          const element = document.querySelector('#df-e1bf28ca-f6e2-437d-883f-cad0a8ea0eab');\n",
              "          const dataTable =\n",
              "            await google.colab.kernel.invokeFunction('convertToInteractive',\n",
              "                                                     [key], {});\n",
              "          if (!dataTable) return;\n",
              "\n",
              "          const docLinkHtml = 'Like what you see? Visit the ' +\n",
              "            '<a target=\"_blank\" href=https://colab.research.google.com/notebooks/data_table.ipynb>data table notebook</a>'\n",
              "            + ' to learn more about interactive tables.';\n",
              "          element.innerHTML = '';\n",
              "          dataTable['output_type'] = 'display_data';\n",
              "          await google.colab.output.renderOutput(dataTable, element);\n",
              "          const docLink = document.createElement('div');\n",
              "          docLink.innerHTML = docLinkHtml;\n",
              "          element.appendChild(docLink);\n",
              "        }\n",
              "      </script>\n",
              "    </div>\n",
              "  </div>\n",
              "  "
            ]
          },
          "metadata": {},
          "execution_count": 96
        }
      ]
    },
    {
      "cell_type": "code",
      "source": [
        "fig = plt.figure(figsize = (15, 10))\n",
        " \n",
        "# creating the bar plot\n",
        "plt.bar(data_labels['label'], data_labels['count'], align = 'center', alpha= 0.5, color ='red')\n",
        "plt.rcParams['font.size'] = 18\n",
        "plt.xticks(rotation='vertical') \n",
        "plt.xlabel(\"Labels\")\n",
        "plt.ylabel(\"No. of Tweets for each label\")\n",
        "plt.savefig('Sentiment distribution.png')\n",
        "plt.show()"
      ],
      "metadata": {
        "colab": {
          "base_uri": "https://localhost:8080/",
          "height": 955
        },
        "id": "j9HNoSwl1QUu",
        "outputId": "dee494ea-cc82-4bed-d51b-63070b534e8d"
      },
      "execution_count": 97,
      "outputs": [
        {
          "output_type": "display_data",
          "data": {
            "text/plain": [
              "<Figure size 1500x1000 with 1 Axes>"
            ],
            "image/png": "[encoded data removed]"
          },
          "metadata": {}
        }
      ]
    },
    {
      "cell_type": "markdown",
      "source": [
        "# Tokenization"
      ],
      "metadata": {
        "id": "2qzVKMShe7-5"
      }
    },
    {
      "cell_type": "code",
      "source": [
        "!pip install transformers\n",
        "!pip install datasets"
      ],
      "metadata": {
        "id": "lxGQHoAxfXfV"
      },
      "execution_count": null,
      "outputs": []
    },
    {
      "cell_type": "code",
      "source": [
        "import zipfile\n",
        "import torch\n",
        "\n",
        "import pandas as pd\n",
        "import numpy as np\n",
        "import seaborn as sns\n",
        "\n",
        "from typing import Dict\n",
        "from torch.utils.data import Dataset, DataLoader\n",
        "from datasets import Dataset \n",
        "from matplotlib import pyplot as plt\n",
        "\n",
        "from sklearn.model_selection import train_test_split\n",
        "from sklearn.preprocessing import MultiLabelBinarizer\n",
        "from sklearn.metrics import  precision_recall_fscore_support, accuracy_score, confusion_matrix, classification_report, accuracy_score\n",
        "\n",
        "from transformers import EvalPrediction\n",
        "from transformers import Trainer, TrainingArguments, PreTrainedTokenizer\n",
        "from transformers import AutoConfig, AutoModelForSequenceClassification\n",
        "from transformers import AutoTokenizer, XLMRobertaTokenizer, AutoModelForTokenClassification\n",
        "from transformers import DataCollatorWithPadding, TextClassificationPipeline"
      ],
      "metadata": {
        "id": "vaD7n-wlfKTm"
      },
      "execution_count": null,
      "outputs": []
    },
    {
      "cell_type": "code",
      "source": [
        "#Loading the model specific tokenizer \n",
        "tokenizer = AutoTokenizer.from_pretrained(\"castorini/afriberta_large\")\n",
        "tokenizer.model_max_length = 512"
      ],
      "metadata": {
        "id": "Mx52dwf2fDNl"
      },
      "execution_count": null,
      "outputs": []
    },
    {
      "cell_type": "code",
      "source": [
        "x_tweets = df[['tweet', 'label','labels']]"
      ],
      "metadata": {
        "id": "u189R2ynfsZQ"
      },
      "execution_count": null,
      "outputs": []
    },
    {
      "cell_type": "code",
      "source": [
        "# # Normal Data Split \n",
        "train_texts, validation_texts = train_test_split(x_tweets, test_size=.2)\n",
        "\n",
        "test_texts, val_texts = train_test_split(validation_texts, test_size=.5)"
      ],
      "metadata": {
        "id": "dzJFqmmqf0vz"
      },
      "execution_count": null,
      "outputs": []
    },
    {
      "cell_type": "code",
      "source": [
        "train_texts = train_texts.dropna()"
      ],
      "metadata": {
        "id": "LF9ORSxCf5AW"
      },
      "execution_count": null,
      "outputs": []
    },
    {
      "cell_type": "code",
      "source": [
        "temp_train = Dataset.from_pandas(train_texts)\n",
        "\n",
        "train_dataset = temp_train.map(lambda examples : tokenizer(examples[\"text\"], max_length=512, add_special_tokens=True,truncation=True, padding='max_length'), batched=True)\n",
        "train_dataset.set_format( columns=['input_ids', 'labels', 'attention_mask'])"
      ],
      "metadata": {
        "id": "-jHEY77Df6sX"
      },
      "execution_count": null,
      "outputs": []
    },
    {
      "cell_type": "code",
      "source": [
        "temp_test = Dataset.from_pandas(test_texts)\n",
        "\n",
        "test_dataset = temp_test.map(lambda examples : tokenizer(examples[\"text\"], max_length=512, add_special_tokens=True,truncation=True, padding='max_length'), batched=True)\n",
        "test_dataset.set_format(type='torch', columns=['input_ids', 'labels', 'attention_mask'])"
      ],
      "metadata": {
        "id": "qrZ9VO_4f8Ie"
      },
      "execution_count": null,
      "outputs": []
    },
    {
      "cell_type": "code",
      "source": [
        "temp_val = Dataset.from_pandas(val_texts)\n",
        "\n",
        "eval_dataset = temp_val.map(lambda examples : tokenizer(examples[\"text\"], max_length=512, add_special_tokens=True,truncation=True, padding='max_length'), batched=True)\n",
        "eval_dataset.set_format(type='torch', columns=['input_ids', 'labels', 'attention_mask'])"
      ],
      "metadata": {
        "id": "g2Si1Mrhh8Gp"
      },
      "execution_count": null,
      "outputs": []
    },
    {
      "cell_type": "markdown",
      "source": [
        "# AfriBERTa Model"
      ],
      "metadata": {
        "id": "k_13INFfgetA"
      }
    },
    {
      "cell_type": "code",
      "source": [
        "modelType = \"castorini/afriberta_large\""
      ],
      "metadata": {
        "id": "RkWHG9uEgiwe"
      },
      "execution_count": null,
      "outputs": []
    },
    {
      "cell_type": "code",
      "source": [
        "num_labels = df[\"labels\"].nunique()"
      ],
      "metadata": {
        "id": "vggnLJlSglJJ"
      },
      "execution_count": null,
      "outputs": []
    },
    {
      "cell_type": "code",
      "source": [
        "num_labels"
      ],
      "metadata": {
        "id": "3sgGuZFkgojH"
      },
      "execution_count": null,
      "outputs": []
    },
    {
      "cell_type": "code",
      "source": [
        "config = AutoConfig.from_pretrained(modelType, num_labels=num_labels, id2label =  index_labels , label2id= labels_index )"
      ],
      "metadata": {
        "id": "LM64aNtdgrFb"
      },
      "execution_count": null,
      "outputs": []
    },
    {
      "cell_type": "code",
      "source": [
        "def model_init():\n",
        "  return AutoModelForSequenceClassification.from_pretrained(modelType, config=config)"
      ],
      "metadata": {
        "id": "8IVvY71MgtFO"
      },
      "execution_count": null,
      "outputs": []
    },
    {
      "cell_type": "code",
      "source": [
        "training_args = TrainingArguments(output_dir=\"./afriberta_results\", \n",
        "                                  per_device_train_batch_size=16, \n",
        "                                  per_device_eval_batch_size=16, \n",
        "                                  num_train_epochs=2, \n",
        "                                  # report_to=\"wandb\", \n",
        "                                  do_eval=True,\n",
        "                                  do_predict=True,\n",
        "                                  weight_decay =  0.028385075820435143,\n",
        "                                  seed = 16978,\n",
        "                                  learning_rate = 5e-5 ,\n",
        "                                  adafactor = True,\n",
        "                                  adam_beta1= 0.7640150802510443,\n",
        "                                  adam_beta2= 0.743931677238676,\n",
        "                                  adam_epsilon = 3e-8 ,\n",
        "                                  max_grad_norm = 0.47726717061800594,\n",
        "                                  evaluation_strategy='steps',\n",
        "                                  logging_steps = 100 \n",
        "                                  )"
      ],
      "metadata": {
        "id": "rHUXNd2bgyT_"
      },
      "execution_count": null,
      "outputs": []
    },
    {
      "cell_type": "code",
      "source": [
        "def compute_metrics(pred):\n",
        "    labels = pred.label_ids\n",
        "    preds = pred.predictions.argmax(-1)\n",
        "    precision, recall, f1, _ = precision_recall_fscore_support(labels, preds, average='micro')\n",
        "    acc = accuracy_score(labels, preds)\n",
        "    return {\n",
        "        'accuracy': acc,\n",
        "        'f1': f1,\n",
        "        'precision': precision,\n",
        "        'recall': recall\n",
        "    }"
      ],
      "metadata": {
        "id": "y4qzZr0lg8cD"
      },
      "execution_count": null,
      "outputs": []
    },
    {
      "cell_type": "code",
      "source": [
        "data_collator = DataCollatorWithPadding(tokenizer=tokenizer)"
      ],
      "metadata": {
        "id": "lisdJV_Yg_9X"
      },
      "execution_count": null,
      "outputs": []
    },
    {
      "cell_type": "code",
      "source": [
        "trainer = Trainer(\n",
        "            model= None,\n",
        "            args= training_args,\n",
        "            train_dataset= train_dataset,\n",
        "            eval_dataset= test_dataset,\n",
        "            tokenizer= tokenizer,\n",
        "            data_collator=data_collator,\n",
        "            model_init = model_init,\n",
        "            compute_metrics= compute_metrics\n",
        ")"
      ],
      "metadata": {
        "id": "a295wrj9hCP0"
      },
      "execution_count": null,
      "outputs": []
    },
    {
      "cell_type": "code",
      "source": [
        "# Now we train the Sequence classifier. be patient this may take a while\n",
        "trainer.train()"
      ],
      "metadata": {
        "id": "AnfyDjiuhG8f"
      },
      "execution_count": null,
      "outputs": []
    },
    {
      "cell_type": "code",
      "source": [
        "trainer.save_model('/content/drive/MyDrive/MIT/MIT 807 mini-dissertation/Afriberta_Classic_sentiment')"
      ],
      "metadata": {
        "id": "m76nOe9ihJpP"
      },
      "execution_count": null,
      "outputs": []
    },
    {
      "cell_type": "code",
      "source": [
        "trainer.evaluate()"
      ],
      "metadata": {
        "id": "jD54TixRhLUX"
      },
      "execution_count": null,
      "outputs": []
    },
    {
      "cell_type": "code",
      "source": [
        "afriberta_model = AutoModelForSequenceClassification.from_pretrained(\"/content/drive/MyDrive/MIT/MIT 807 mini-dissertation/Afriberta_Classic_sentiment\", local_files_only=True)\n",
        "\n",
        "afriberta_trainer = Trainer(model=afriberta_model)\n",
        "afriberta_trainer.model = afriberta_model.cuda()"
      ],
      "metadata": {
        "id": "aZ5NUxKdiZkD"
      },
      "execution_count": null,
      "outputs": []
    },
    {
      "cell_type": "code",
      "source": [
        "predictions, labels, metrics = afriberta_trainer.predict(eval_dataset)"
      ],
      "metadata": {
        "id": "Hwh_u84RimDH"
      },
      "execution_count": null,
      "outputs": []
    },
    {
      "cell_type": "code",
      "source": [
        "y_predictions =list(np.argmax(predictions, axis=1))"
      ],
      "metadata": {
        "id": "OAwAd8pQio2s"
      },
      "execution_count": null,
      "outputs": []
    },
    {
      "cell_type": "code",
      "source": [
        "y_true_labels = list(labels)"
      ],
      "metadata": {
        "id": "L6WjFOu9irl_"
      },
      "execution_count": null,
      "outputs": []
    },
    {
      "cell_type": "code",
      "source": [
        "# Confusion matrix \n",
        "def plot_confusion_matrix(cm, num_of_classes,\n",
        "                          normalize=False,\n",
        "                          title='Confusion matrix',\n",
        "                          cmap=plt.cm.Blues):\n",
        "    \"\"\"\n",
        "    This function prints and plots the confusion matrix.\n",
        "    Normalization can be applied by setting `normalize=True`.\n",
        "    \"\"\"\n",
        "    plt.imshow(cm, interpolation='nearest', cmap=cmap)\n",
        "    plt.title(title)\n",
        "    plt.colorbar()\n",
        "    tick_marks = np.arange(len(num_of_classes))\n",
        "    plt.xticks(tick_marks, num_of_classes, rotation=45)\n",
        "    plt.yticks(tick_marks, num_of_classes)\n",
        "\n",
        "    if normalize:\n",
        "        cm = cm.astype('float') / cm.sum(axis=1)[:, np.newaxis]\n",
        "        print(\"Normalized confusion matrix\")\n",
        "    else:\n",
        "        print('Confusion matrix, without normalization')\n",
        "\n",
        "    print(cm)\n",
        "\n",
        "    thresh = cm.max() / 2.\n",
        "    for i, j in itertools.product(range(cm.shape[0]), range(cm.shape[1])):\n",
        "        plt.text(j, i, cm[i, j],\n",
        "                 horizontalalignment=\"center\",\n",
        "                 color=\"white\" if cm[i, j] > thresh else \"black\")\n",
        "\n",
        "    plt.tight_layout()\n",
        "    plt.ylabel('True label')\n",
        "    plt.xlabel('Predicted label')"
      ],
      "metadata": {
        "id": "NcL3TEAfi611"
      },
      "execution_count": null,
      "outputs": []
    },
    {
      "cell_type": "code",
      "source": [
        "# Compute confusion matrix\n",
        "cnf_matrix = confusion_matrix(y_true_labels, y_predictions)"
      ],
      "metadata": {
        "id": "QgF1LlHei83a"
      },
      "execution_count": null,
      "outputs": []
    },
    {
      "cell_type": "code",
      "source": [
        "result_dir = '/content/drive/MyDrive/MIT/MIT 807 mini-dissertation//results_afriberta_classic_sentiment'"
      ],
      "metadata": {
        "id": "dFCUc2w1i9wz"
      },
      "execution_count": null,
      "outputs": []
    },
    {
      "cell_type": "code",
      "source": [
        "import itertools\n",
        "\n",
        "fig, ax = plt.subplots(figsize=(15, 12))\n",
        "plot_confusion_matrix(cnf_matrix, num_of_classes=['negative', 'neutral', 'positive'], title='Confusion matrix, without normalization')\n",
        "# plt.savefig(result_dir+'plot_confusion_matrix_2.png')"
      ],
      "metadata": {
        "id": "H0pMWXIrjL8E"
      },
      "execution_count": null,
      "outputs": []
    },
    {
      "cell_type": "code",
      "source": [
        "label_names = ['negative', 'neutral', 'positive']\n",
        "print(classification_report(y_true_labels, y_predictions))  #, target_names=label_names))"
      ],
      "metadata": {
        "id": "i2y3AO3vjogI"
      },
      "execution_count": null,
      "outputs": []
    },
    {
      "cell_type": "code",
      "source": [
        "from sklearn.preprocessing import label_binarize\n",
        "\n",
        "binarized_y_true_labels = label_binarize(y_true_labels, classes=[0, 1, 2])\n",
        "binarized_y_true_labels.shape"
      ],
      "metadata": {
        "id": "3qs2dCuKjz4Y"
      },
      "execution_count": null,
      "outputs": []
    },
    {
      "cell_type": "code",
      "source": [
        "# PLOT ROC\n",
        "import numpy as np\n",
        "from scipy import interp\n",
        "import matplotlib.pyplot as plt\n",
        "from itertools import cycle\n",
        "from sklearn.metrics import roc_curve, auc\n",
        "import keras\n",
        "\n",
        "# Plot linewidth.\n",
        "lw = 2\n",
        "\n",
        "# Compute ROC curve and ROC area for each class\n",
        "fpr = dict()\n",
        "tpr = dict()\n",
        "roc_auc = dict()\n",
        "for i in range(num_labels):\n",
        "    fpr[i], tpr[i], _ = roc_curve(binarized_y_true_labels[:, i], predictions[:, i])\n",
        "    roc_auc[i] = auc(fpr[i], tpr[i])\n",
        "    \n",
        "# Compute micro-average ROC curve and ROC area\n",
        "fpr[\"micro\"], tpr[\"micro\"], _ = roc_curve(binarized_y_true_labels.ravel(), predictions.ravel())\n",
        "roc_auc[\"micro\"] = auc(fpr[\"micro\"], tpr[\"micro\"])\n",
        "\n",
        "# First aggregate all false positive rates\n",
        "all_fpr = np.unique(np.concatenate([fpr[i] for i in range(num_labels)]))\n",
        "\n",
        "# Then interpolate all ROC curves at this points\n",
        "mean_tpr = np.zeros_like(all_fpr)\n",
        "for i in range(num_labels):\n",
        "    mean_tpr += interp(all_fpr, fpr[i], tpr[i])\n",
        "    \n",
        "# Finally average it and compute AUC\n",
        "mean_tpr /= num_labels\n",
        "\n",
        "fpr[\"macro\"] = all_fpr\n",
        "tpr[\"macro\"] = mean_tpr\n",
        "roc_auc[\"macro\"] = auc(fpr[\"macro\"], tpr[\"macro\"])\n",
        "\n",
        "\n",
        "# Plot all ROC curves\n",
        "plt.figure(1)\n",
        "plt.plot(fpr[\"micro\"], tpr[\"micro\"],\n",
        "         label='micro-average ROC curve (area = {0:0.2f})'\n",
        "               ''.format(roc_auc[\"micro\"]),\n",
        "         color='deeppink', linestyle=':', linewidth=4)\n",
        "\n",
        "plt.plot(fpr[\"macro\"], tpr[\"macro\"],\n",
        "         label='macro-average ROC curve (area = {0:0.2f})'\n",
        "               ''.format(roc_auc[\"macro\"]),\n",
        "         color='navy', linestyle=':', linewidth=4)\n",
        "\n",
        "colors = cycle(['aqua', 'darkorange', 'cornflowerblue'])\n",
        "for i, color in zip(range(num_labels), colors):\n",
        "    plt.plot(fpr[i], tpr[i], color=color, lw=lw,\n",
        "             label='ROC curve of class {0} (area = {1:0.2f})'\n",
        "             ''.format(i, roc_auc[i]))\n",
        "\n",
        "plt.plot([0, 1], [0, 1], 'k--', lw=lw)\n",
        "plt.xlim([0.0, 1.0])\n",
        "plt.ylim([0.0, 1.05])\n",
        "plt.xlabel('False Positive Rate')\n",
        "plt.ylabel('True Positive Rate')\n",
        "plt.title('Receiver operating characteristic (ROC) for IMDb62 Dataset')\n",
        "plt.legend(loc=\"lower right\")\n",
        "plt.show()"
      ],
      "metadata": {
        "id": "RloIzZVuj6p8"
      },
      "execution_count": null,
      "outputs": []
    },
    {
      "cell_type": "markdown",
      "source": [
        "# Datasets Comparison\n",
        "\n",
        "## N-gram length comparison"
      ],
      "metadata": {
        "id": "UTdcJpMd4kDK"
      }
    },
    {
      "cell_type": "code",
      "source": [
        "df_swahili = df_new[df_new['final_language'] == 'Swahili']\n",
        "df_swahili.head(3)"
      ],
      "metadata": {
        "colab": {
          "base_uri": "https://localhost:8080/",
          "height": 239
        },
        "id": "QxYxv9wUAGTh",
        "outputId": "0cc3d1ff-952d-47f8-988d-60150d71085a"
      },
      "execution_count": 40,
      "outputs": [
        {
          "output_type": "execute_result",
          "data": {
            "text/plain": [
              "        key             Datetime             Tweet Id  \\\n",
              "0  daladala  2023-02-08 07:49:38  1623227542218985473   \n",
              "1  daladala  2023-01-31 13:00:19  1620406624908345344   \n",
              "2  daladala  2023-01-27 06:19:14  1618856135645356034   \n",
              "\n",
              "                                                Text        Username  \\\n",
              "0  wana hasira ukimgusa kidogo daladala anakupa b...  fadhilikangusi   \n",
              "1  muonekano kituo kipya daladala kinyerezi barab...    raphyrodrick   \n",
              "2  kumpisha mtu mzima seat daladala sio part maad...          DejohB   \n",
              "\n",
              "                   Location predict_name_afrolid        predict_name_cld3  \\\n",
              "0  Dar Es Salaam, Tanzania               Swahili  Swahili (macrolanguage)   \n",
              "1   Dar es Salaam, Tanzania              Swahili  Swahili (macrolanguage)   \n",
              "2   Dar es Salaam, Tanzania              Swahili  Swahili (macrolanguage)   \n",
              "\n",
              "  predict_name_franc                                      cld3_tokenlid  \\\n",
              "0            Swahili                                   [sw, sw, sw, sw]   \n",
              "1            Swahili  [sw, sw, sw, sw, en, en, en, en, sw, sw, sw, s...   \n",
              "2            Swahili  [sw, sw, sw, sw, sw, sw, sw, sw, sw, sw, sw, s...   \n",
              "\n",
              "  franc_tokenlid cld3_tokenlid_iso final_language  \n",
              "0            swh                sw        Swahili  \n",
              "1            swh                sw        Swahili  \n",
              "2            swh                sw        Swahili  "
            ],
            "text/html": [
              "\n",
              "  <div id=\"df-b98dcde3-ce0c-4147-9669-bb60c41563d1\">\n",
              "    <div class=\"colab-df-container\">\n",
              "      <div>\n",
              "<style scoped>\n",
              "    .dataframe tbody tr th:only-of-type {\n",
              "        vertical-align: middle;\n",
              "    }\n",
              "\n",
              "    .dataframe tbody tr th {\n",
              "        vertical-align: top;\n",
              "    }\n",
              "\n",
              "    .dataframe thead th {\n",
              "        text-align: right;\n",
              "    }\n",
              "</style>\n",
              "<table border=\"1\" class=\"dataframe\">\n",
              "  <thead>\n",
              "    <tr style=\"text-align: right;\">\n",
              "      <th></th>\n",
              "      <th>key</th>\n",
              "      <th>Datetime</th>\n",
              "      <th>Tweet Id</th>\n",
              "      <th>Text</th>\n",
              "      <th>Username</th>\n",
              "      <th>Location</th>\n",
              "      <th>predict_name_afrolid</th>\n",
              "      <th>predict_name_cld3</th>\n",
              "      <th>predict_name_franc</th>\n",
              "      <th>cld3_tokenlid</th>\n",
              "      <th>franc_tokenlid</th>\n",
              "      <th>cld3_tokenlid_iso</th>\n",
              "      <th>final_language</th>\n",
              "    </tr>\n",
              "  </thead>\n",
              "  <tbody>\n",
              "    <tr>\n",
              "      <th>0</th>\n",
              "      <td>daladala</td>\n",
              "      <td>2023-02-08 07:49:38</td>\n",
              "      <td>1623227542218985473</td>\n",
              "      <td>wana hasira ukimgusa kidogo daladala anakupa b...</td>\n",
              "      <td>fadhilikangusi</td>\n",
              "      <td>Dar Es Salaam, Tanzania</td>\n",
              "      <td>Swahili</td>\n",
              "      <td>Swahili (macrolanguage)</td>\n",
              "      <td>Swahili</td>\n",
              "      <td>[sw, sw, sw, sw]</td>\n",
              "      <td>swh</td>\n",
              "      <td>sw</td>\n",
              "      <td>Swahili</td>\n",
              "    </tr>\n",
              "    <tr>\n",
              "      <th>1</th>\n",
              "      <td>daladala</td>\n",
              "      <td>2023-01-31 13:00:19</td>\n",
              "      <td>1620406624908345344</td>\n",
              "      <td>muonekano kituo kipya daladala kinyerezi barab...</td>\n",
              "      <td>raphyrodrick</td>\n",
              "      <td>Dar es Salaam, Tanzania</td>\n",
              "      <td>Swahili</td>\n",
              "      <td>Swahili (macrolanguage)</td>\n",
              "      <td>Swahili</td>\n",
              "      <td>[sw, sw, sw, sw, en, en, en, en, sw, sw, sw, s...</td>\n",
              "      <td>swh</td>\n",
              "      <td>sw</td>\n",
              "      <td>Swahili</td>\n",
              "    </tr>\n",
              "    <tr>\n",
              "      <th>2</th>\n",
              "      <td>daladala</td>\n",
              "      <td>2023-01-27 06:19:14</td>\n",
              "      <td>1618856135645356034</td>\n",
              "      <td>kumpisha mtu mzima seat daladala sio part maad...</td>\n",
              "      <td>DejohB</td>\n",
              "      <td>Dar es Salaam, Tanzania</td>\n",
              "      <td>Swahili</td>\n",
              "      <td>Swahili (macrolanguage)</td>\n",
              "      <td>Swahili</td>\n",
              "      <td>[sw, sw, sw, sw, sw, sw, sw, sw, sw, sw, sw, s...</td>\n",
              "      <td>swh</td>\n",
              "      <td>sw</td>\n",
              "      <td>Swahili</td>\n",
              "    </tr>\n",
              "  </tbody>\n",
              "</table>\n",
              "</div>\n",
              "      <button class=\"colab-df-convert\" onclick=\"convertToInteractive('df-b98dcde3-ce0c-4147-9669-bb60c41563d1')\"\n",
              "              title=\"Convert this dataframe to an interactive table.\"\n",
              "              style=\"display:none;\">\n",
              "        \n",
              "  <svg xmlns=\"http://www.w3.org/2000/svg\" height=\"24px\"viewBox=\"0 0 24 24\"\n",
              "       width=\"24px\">\n",
              "    <path d=\"M0 0h24v24H0V0z\" fill=\"none\"/>\n",
              "    <path d=\"M18.56 5.44l.94 2.06.94-2.06 2.06-.94-2.06-.94-.94-2.06-.94 2.06-2.06.94zm-11 1L8.5 8.5l.94-2.06 2.06-.94-2.06-.94L8.5 2.5l-.94 2.06-2.06.94zm10 10l.94 2.06.94-2.06 2.06-.94-2.06-.94-.94-2.06-.94 2.06-2.06.94z\"/><path d=\"M17.41 7.96l-1.37-1.37c-.4-.4-.92-.59-1.43-.59-.52 0-1.04.2-1.43.59L10.3 9.45l-7.72 7.72c-.78.78-.78 2.05 0 2.83L4 21.41c.39.39.9.59 1.41.59.51 0 1.02-.2 1.41-.59l7.78-7.78 2.81-2.81c.8-.78.8-2.07 0-2.86zM5.41 20L4 18.59l7.72-7.72 1.47 1.35L5.41 20z\"/>\n",
              "  </svg>\n",
              "      </button>\n",
              "      \n",
              "  <style>\n",
              "    .colab-df-container {\n",
              "      display:flex;\n",
              "      flex-wrap:wrap;\n",
              "      gap: 12px;\n",
              "    }\n",
              "\n",
              "    .colab-df-convert {\n",
              "      background-color: #E8F0FE;\n",
              "      border: none;\n",
              "      border-radius: 50%;\n",
              "      cursor: pointer;\n",
              "      display: none;\n",
              "      fill: #1967D2;\n",
              "      height: 32px;\n",
              "      padding: 0 0 0 0;\n",
              "      width: 32px;\n",
              "    }\n",
              "\n",
              "    .colab-df-convert:hover {\n",
              "      background-color: #E2EBFA;\n",
              "      box-shadow: 0px 1px 2px rgba(60, 64, 67, 0.3), 0px 1px 3px 1px rgba(60, 64, 67, 0.15);\n",
              "      fill: #174EA6;\n",
              "    }\n",
              "\n",
              "    [theme=dark] .colab-df-convert {\n",
              "      background-color: #3B4455;\n",
              "      fill: #D2E3FC;\n",
              "    }\n",
              "\n",
              "    [theme=dark] .colab-df-convert:hover {\n",
              "      background-color: #434B5C;\n",
              "      box-shadow: 0px 1px 3px 1px rgba(0, 0, 0, 0.15);\n",
              "      filter: drop-shadow(0px 1px 2px rgba(0, 0, 0, 0.3));\n",
              "      fill: #FFFFFF;\n",
              "    }\n",
              "  </style>\n",
              "\n",
              "      <script>\n",
              "        const buttonEl =\n",
              "          document.querySelector('#df-b98dcde3-ce0c-4147-9669-bb60c41563d1 button.colab-df-convert');\n",
              "        buttonEl.style.display =\n",
              "          google.colab.kernel.accessAllowed ? 'block' : 'none';\n",
              "\n",
              "        async function convertToInteractive(key) {\n",
              "          const element = document.querySelector('#df-b98dcde3-ce0c-4147-9669-bb60c41563d1');\n",
              "          const dataTable =\n",
              "            await google.colab.kernel.invokeFunction('convertToInteractive',\n",
              "                                                     [key], {});\n",
              "          if (!dataTable) return;\n",
              "\n",
              "          const docLinkHtml = 'Like what you see? Visit the ' +\n",
              "            '<a target=\"_blank\" href=https://colab.research.google.com/notebooks/data_table.ipynb>data table notebook</a>'\n",
              "            + ' to learn more about interactive tables.';\n",
              "          element.innerHTML = '';\n",
              "          dataTable['output_type'] = 'display_data';\n",
              "          await google.colab.output.renderOutput(dataTable, element);\n",
              "          const docLink = document.createElement('div');\n",
              "          docLink.innerHTML = docLinkHtml;\n",
              "          element.appendChild(docLink);\n",
              "        }\n",
              "      </script>\n",
              "    </div>\n",
              "  </div>\n",
              "  "
            ]
          },
          "metadata": {},
          "execution_count": 40
        }
      ]
    },
    {
      "cell_type": "code",
      "source": [
        "# n-gram length comparison\n",
        "df['tweet_length'] = df['tweet'].apply(len)\n",
        "df_swahili['tweet_length'] = df_swahili['Text'].apply(len)\n"
      ],
      "metadata": {
        "colab": {
          "base_uri": "https://localhost:8080/"
        },
        "id": "6xy59bXp2FyG",
        "outputId": "1b9d5cea-5d4e-4380-c44e-c43c4ab85f16"
      },
      "execution_count": 41,
      "outputs": [
        {
          "output_type": "stream",
          "name": "stderr",
          "text": [
            "<ipython-input-41-0720c48371c3>:3: SettingWithCopyWarning: \n",
            "A value is trying to be set on a copy of a slice from a DataFrame.\n",
            "Try using .loc[row_indexer,col_indexer] = value instead\n",
            "\n",
            "See the caveats in the documentation: https://pandas.pydata.org/pandas-docs/stable/user_guide/indexing.html#returning-a-view-versus-a-copy\n",
            "  df_swahili['tweet_length'] = df_swahili['Text'].apply(len)\n"
          ]
        }
      ]
    },
    {
      "cell_type": "code",
      "source": [
        "plt.hist(df['tweet_length'], bins=20)\n",
        "plt.xlabel('Tweet Length')\n",
        "plt.ylabel('Frequency')\n",
        "plt.title('Distribution of Tweet Lengths in training data')\n",
        "plt.show()"
      ],
      "metadata": {
        "colab": {
          "base_uri": "https://localhost:8080/",
          "height": 501
        },
        "id": "EpNMDY7Z3mdt",
        "outputId": "df299cad-c9b8-4e0c-cdfb-897e060b839e"
      },
      "execution_count": 42,
      "outputs": [
        {
          "output_type": "display_data",
          "data": {
            "text/plain": [
              "<Figure size 640x480 with 1 Axes>"
            ],
            "image/png": "[encoded data removed]"
          },
          "metadata": {}
        }
      ]
    },
    {
      "cell_type": "code",
      "source": [
        "plt.hist(df_swahili['tweet_length'], bins=20)\n",
        "plt.xlabel('Tweet Length')\n",
        "plt.ylabel('Frequency')\n",
        "plt.title('Distribution of Tweet Lengths in our data')\n",
        "plt.show()"
      ],
      "metadata": {
        "colab": {
          "base_uri": "https://localhost:8080/",
          "height": 501
        },
        "id": "CwcTs5jB33yb",
        "outputId": "f476cbd5-bb48-4db2-d80f-6665d8ef01ae"
      },
      "execution_count": 43,
      "outputs": [
        {
          "output_type": "display_data",
          "data": {
            "text/plain": [
              "<Figure size 640x480 with 1 Axes>"
            ],
            "image/png": "[encoded data removed]"
          },
          "metadata": {}
        }
      ]
    },
    {
      "cell_type": "markdown",
      "source": [
        "## Similarity Scores between the two datasets"
      ],
      "metadata": {
        "id": "pzuV3KBn_sqe"
      }
    },
    {
      "cell_type": "code",
      "source": [
        "from sklearn.metrics import jaccard_score\n",
        "from sklearn.feature_extraction.text import CountVectorizer\n",
        "from sklearn.feature_extraction.text import TfidfVectorizer\n",
        "from sklearn.metrics.pairwise import cosine_similarity\n",
        "import numpy as np\n",
        "\n",
        "\n",
        "chunk_size = 67\n",
        "df_chunks = [df[i:i+chunk_size] for i in range(0, len(df), chunk_size)]"
      ],
      "metadata": {
        "id": "hpYZ8rhaBhdh"
      },
      "execution_count": 48,
      "outputs": []
    },
    {
      "cell_type": "code",
      "source": [
        "df_swahili['Text']"
      ],
      "metadata": {
        "colab": {
          "base_uri": "https://localhost:8080/"
        },
        "id": "LT095fa3SkQr",
        "outputId": "2400b9b0-1e85-4bca-dc6e-5bad7c2afc78"
      },
      "execution_count": 46,
      "outputs": [
        {
          "output_type": "execute_result",
          "data": {
            "text/plain": [
              "0      wana hasira ukimgusa kidogo daladala anakupa b...\n",
              "1      muonekano kituo kipya daladala kinyerezi barab...\n",
              "2      kumpisha mtu mzima seat daladala sio part maad...\n",
              "3      kuna huyu mtu ana hadithia hapa eti anamwaka m...\n",
              "4      hongera suluhusamia kupata siti nzuri dirishan...\n",
              "                             ...                        \n",
              "986    banae nimo mkoa mkuu mamake ranny sleep bagamo...\n",
              "990    nasikia tuna safirisha 🤣 🤣 🤣 wizzypixel aka di...\n",
              "992    bodaboda bajaj ruksa kuingia mjini mkoa makond...\n",
              "996    safari bora huanza unapoendhwa bajaj ukiwa mad...\n",
              "997    wamiliki magari bajaj bodaboda mikoa arusha mw...\n",
              "Name: Text, Length: 67, dtype: object"
            ]
          },
          "metadata": {},
          "execution_count": 46
        }
      ]
    },
    {
      "cell_type": "code",
      "source": [
        "# Measure similarity between each chunk of df_1 and df_2\n",
        "df2 = df_swahili['Text']\n",
        "\n",
        "similarity_scores = []\n",
        "for chunk in df_chunks:\n",
        "    # Combine tweets from chunk and df_2 into a single list\n",
        "    combined_tweets = chunk['tweet'].tolist() + df2.tolist()\n",
        "    \n",
        "    # Convert tweets to TF-IDF vectors\n",
        "    vectorizer = TfidfVectorizer()\n",
        "    vectors = vectorizer.fit_transform(combined_tweets)\n",
        "    \n",
        "    # Compute cosine similarity between df_2 and chunk\n",
        "    similarity = cosine_similarity(vectors[len(chunk):], vectors[:len(chunk)])\n",
        "    similarity_scores.append(np.mean(similarity))\n",
        "\n",
        "# Compute overall similarity score by taking the maximum score across all chunks\n",
        "overall_similarity = max(similarity_scores)"
      ],
      "metadata": {
        "id": "xrRBr2EdQEbb"
      },
      "execution_count": 49,
      "outputs": []
    },
    {
      "cell_type": "code",
      "source": [
        "overall_similarity"
      ],
      "metadata": {
        "colab": {
          "base_uri": "https://localhost:8080/"
        },
        "id": "uGvvF1u6SwMm",
        "outputId": "1cba85af-188e-4203-de9d-bde3da08302f"
      },
      "execution_count": 63,
      "outputs": [
        {
          "output_type": "execute_result",
          "data": {
            "text/plain": [
              "0.003813664428471887"
            ]
          },
          "metadata": {},
          "execution_count": 63
        }
      ]
    },
    {
      "cell_type": "code",
      "source": [
        "chunk"
      ],
      "metadata": {
        "colab": {
          "base_uri": "https://localhost:8080/",
          "height": 423
        },
        "id": "D4FowPYvX9Jc",
        "outputId": "59d3eafe-cbb5-48d8-bc96-be4b496516b6"
      },
      "execution_count": 72,
      "outputs": [
        {
          "output_type": "execute_result",
          "data": {
            "text/plain": [
              "                                                  Text\n",
              "390  Mama Verdiana alisema maneno mazito sana kabla...\n",
              "391  Uandishi ni rejea nzuri sana kwa kizazi cha le...\n",
              "392  kufahamu kiasi na kufanya malipo kuondoa ujumb...\n",
              "393  Kutokana na kuongezeka kwa kiwango cha udhibit...\n",
              "394  Kwa mara ya kwanza Tanzania imefanya utafiti w...\n",
              "..                                                 ...\n",
              "452  Hakuna maji wangeishijekuziba watu midomo si s...\n",
              "0    wana hasira ukimgusa kidogo daladala anakupa b...\n",
              "1    muonekano kituo kipya daladala kinyerezi barab...\n",
              "2    kumpisha mtu mzima seat daladala sio part maad...\n",
              "3    kuna huyu mtu ana hadithia hapa eti anamwaka m...\n",
              "\n",
              "[67 rows x 1 columns]"
            ],
            "text/html": [
              "\n",
              "  <div id=\"df-1544640d-1011-48de-ac7c-1c9ab6253e84\">\n",
              "    <div class=\"colab-df-container\">\n",
              "      <div>\n",
              "<style scoped>\n",
              "    .dataframe tbody tr th:only-of-type {\n",
              "        vertical-align: middle;\n",
              "    }\n",
              "\n",
              "    .dataframe tbody tr th {\n",
              "        vertical-align: top;\n",
              "    }\n",
              "\n",
              "    .dataframe thead th {\n",
              "        text-align: right;\n",
              "    }\n",
              "</style>\n",
              "<table border=\"1\" class=\"dataframe\">\n",
              "  <thead>\n",
              "    <tr style=\"text-align: right;\">\n",
              "      <th></th>\n",
              "      <th>Text</th>\n",
              "    </tr>\n",
              "  </thead>\n",
              "  <tbody>\n",
              "    <tr>\n",
              "      <th>390</th>\n",
              "      <td>Mama Verdiana alisema maneno mazito sana kabla...</td>\n",
              "    </tr>\n",
              "    <tr>\n",
              "      <th>391</th>\n",
              "      <td>Uandishi ni rejea nzuri sana kwa kizazi cha le...</td>\n",
              "    </tr>\n",
              "    <tr>\n",
              "      <th>392</th>\n",
              "      <td>kufahamu kiasi na kufanya malipo kuondoa ujumb...</td>\n",
              "    </tr>\n",
              "    <tr>\n",
              "      <th>393</th>\n",
              "      <td>Kutokana na kuongezeka kwa kiwango cha udhibit...</td>\n",
              "    </tr>\n",
              "    <tr>\n",
              "      <th>394</th>\n",
              "      <td>Kwa mara ya kwanza Tanzania imefanya utafiti w...</td>\n",
              "    </tr>\n",
              "    <tr>\n",
              "      <th>...</th>\n",
              "      <td>...</td>\n",
              "    </tr>\n",
              "    <tr>\n",
              "      <th>452</th>\n",
              "      <td>Hakuna maji wangeishijekuziba watu midomo si s...</td>\n",
              "    </tr>\n",
              "    <tr>\n",
              "      <th>0</th>\n",
              "      <td>wana hasira ukimgusa kidogo daladala anakupa b...</td>\n",
              "    </tr>\n",
              "    <tr>\n",
              "      <th>1</th>\n",
              "      <td>muonekano kituo kipya daladala kinyerezi barab...</td>\n",
              "    </tr>\n",
              "    <tr>\n",
              "      <th>2</th>\n",
              "      <td>kumpisha mtu mzima seat daladala sio part maad...</td>\n",
              "    </tr>\n",
              "    <tr>\n",
              "      <th>3</th>\n",
              "      <td>kuna huyu mtu ana hadithia hapa eti anamwaka m...</td>\n",
              "    </tr>\n",
              "  </tbody>\n",
              "</table>\n",
              "<p>67 rows × 1 columns</p>\n",
              "</div>\n",
              "      <button class=\"colab-df-convert\" onclick=\"convertToInteractive('df-1544640d-1011-48de-ac7c-1c9ab6253e84')\"\n",
              "              title=\"Convert this dataframe to an interactive table.\"\n",
              "              style=\"display:none;\">\n",
              "        \n",
              "  <svg xmlns=\"http://www.w3.org/2000/svg\" height=\"24px\"viewBox=\"0 0 24 24\"\n",
              "       width=\"24px\">\n",
              "    <path d=\"M0 0h24v24H0V0z\" fill=\"none\"/>\n",
              "    <path d=\"M18.56 5.44l.94 2.06.94-2.06 2.06-.94-2.06-.94-.94-2.06-.94 2.06-2.06.94zm-11 1L8.5 8.5l.94-2.06 2.06-.94-2.06-.94L8.5 2.5l-.94 2.06-2.06.94zm10 10l.94 2.06.94-2.06 2.06-.94-2.06-.94-.94-2.06-.94 2.06-2.06.94z\"/><path d=\"M17.41 7.96l-1.37-1.37c-.4-.4-.92-.59-1.43-.59-.52 0-1.04.2-1.43.59L10.3 9.45l-7.72 7.72c-.78.78-.78 2.05 0 2.83L4 21.41c.39.39.9.59 1.41.59.51 0 1.02-.2 1.41-.59l7.78-7.78 2.81-2.81c.8-.78.8-2.07 0-2.86zM5.41 20L4 18.59l7.72-7.72 1.47 1.35L5.41 20z\"/>\n",
              "  </svg>\n",
              "      </button>\n",
              "      \n",
              "  <style>\n",
              "    .colab-df-container {\n",
              "      display:flex;\n",
              "      flex-wrap:wrap;\n",
              "      gap: 12px;\n",
              "    }\n",
              "\n",
              "    .colab-df-convert {\n",
              "      background-color: #E8F0FE;\n",
              "      border: none;\n",
              "      border-radius: 50%;\n",
              "      cursor: pointer;\n",
              "      display: none;\n",
              "      fill: #1967D2;\n",
              "      height: 32px;\n",
              "      padding: 0 0 0 0;\n",
              "      width: 32px;\n",
              "    }\n",
              "\n",
              "    .colab-df-convert:hover {\n",
              "      background-color: #E2EBFA;\n",
              "      box-shadow: 0px 1px 2px rgba(60, 64, 67, 0.3), 0px 1px 3px 1px rgba(60, 64, 67, 0.15);\n",
              "      fill: #174EA6;\n",
              "    }\n",
              "\n",
              "    [theme=dark] .colab-df-convert {\n",
              "      background-color: #3B4455;\n",
              "      fill: #D2E3FC;\n",
              "    }\n",
              "\n",
              "    [theme=dark] .colab-df-convert:hover {\n",
              "      background-color: #434B5C;\n",
              "      box-shadow: 0px 1px 3px 1px rgba(0, 0, 0, 0.15);\n",
              "      filter: drop-shadow(0px 1px 2px rgba(0, 0, 0, 0.3));\n",
              "      fill: #FFFFFF;\n",
              "    }\n",
              "  </style>\n",
              "\n",
              "      <script>\n",
              "        const buttonEl =\n",
              "          document.querySelector('#df-1544640d-1011-48de-ac7c-1c9ab6253e84 button.colab-df-convert');\n",
              "        buttonEl.style.display =\n",
              "          google.colab.kernel.accessAllowed ? 'block' : 'none';\n",
              "\n",
              "        async function convertToInteractive(key) {\n",
              "          const element = document.querySelector('#df-1544640d-1011-48de-ac7c-1c9ab6253e84');\n",
              "          const dataTable =\n",
              "            await google.colab.kernel.invokeFunction('convertToInteractive',\n",
              "                                                     [key], {});\n",
              "          if (!dataTable) return;\n",
              "\n",
              "          const docLinkHtml = 'Like what you see? Visit the ' +\n",
              "            '<a target=\"_blank\" href=https://colab.research.google.com/notebooks/data_table.ipynb>data table notebook</a>'\n",
              "            + ' to learn more about interactive tables.';\n",
              "          element.innerHTML = '';\n",
              "          dataTable['output_type'] = 'display_data';\n",
              "          await google.colab.output.renderOutput(dataTable, element);\n",
              "          const docLink = document.createElement('div');\n",
              "          docLink.innerHTML = docLinkHtml;\n",
              "          element.appendChild(docLink);\n",
              "        }\n",
              "      </script>\n",
              "    </div>\n",
              "  </div>\n",
              "  "
            ]
          },
          "metadata": {},
          "execution_count": 72
        }
      ]
    },
    {
      "cell_type": "code",
      "source": [
        "jaccard = []\n",
        "\n",
        "# Define the chunk size\n",
        "chunk_size = 67\n",
        "\n",
        "# Iterate over chunks of df\n",
        "for i in range(0, len(df), chunk_size):\n",
        "    # Get the current chunk\n",
        "    chunk = df.iloc[i:i+chunk_size]\n",
        "\n",
        "    # Subset df2 to match the size of the current chunk\n",
        "    df_2_subset = df_swahili.sample(n=len(chunk), random_state=42)\n",
        "\n",
        "    # Concatenate the two dataframes\n",
        "    combined_df = pd.concat([chunk, df_2_subset])\n",
        "\n",
        "    # Fit the vectorizer on the combined data\n",
        "    vectorizer.fit(combined_df['Text'])\n",
        "\n",
        "    # Transform the data into vectors\n",
        "    vec1 = vectorizer.transform(chunk['Text'])\n",
        "    vec1 = np.array(vec1.toarray()).flatten()\n",
        "\n",
        "    vec2 = vectorizer.transform(df_2_subset['Text'])\n",
        "    vec2 = np.array(vec2.toarray()).flatten()\n",
        "\n",
        "    # Calculate the Jaccard similarity index\n",
        "    jaccard.append(jaccard_score(vec1, vec2, average=None))\n",
        "\n",
        "\n",
        "jaccard"
      ],
      "metadata": {
        "colab": {
          "base_uri": "https://localhost:8080/"
        },
        "id": "DSpaBPd-XsHE",
        "outputId": "08e7b751-2e45-4a77-e1b4-461509f63d86"
      },
      "execution_count": 73,
      "outputs": [
        {
          "output_type": "execute_result",
          "data": {
            "text/plain": [
              "[array([0.97666809, 0.00213561, 0.        , 0.        , 0.        ]),\n",
              " array([0.95700334, 0.02239533, 0.        , 0.        ])]"
            ]
          },
          "metadata": {},
          "execution_count": 73
        }
      ]
    },
    {
      "cell_type": "code",
      "source": [
        "# Calculate the Euclidean distance between the two vectors\n",
        "euclidean_distance = np.linalg.norm(vec1 - vec2)\n",
        "\n",
        "print(\"Euclidean distance:\", euclidean_distance)"
      ],
      "metadata": {
        "colab": {
          "base_uri": "https://localhost:8080/"
        },
        "id": "DuQTfw_yVrsd",
        "outputId": "c8b98427-774b-4fee-812e-4a3348a3daa1"
      },
      "execution_count": 64,
      "outputs": [
        {
          "output_type": "stream",
          "name": "stdout",
          "text": [
            "Euclidean distance: 52.848841046895245\n"
          ]
        }
      ]
    },
    {
      "cell_type": "code",
      "source": [],
      "metadata": {
        "id": "A-dNL-GD4_WM"
      },
      "execution_count": null,
      "outputs": []
    }
  ]
}