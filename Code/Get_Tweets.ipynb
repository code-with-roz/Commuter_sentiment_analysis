{
  "nbformat": 4,
  "nbformat_minor": 0,
  "metadata": {
    "colab": {
      "provenance": []
    },
    "kernelspec": {
      "name": "python3",
      "display_name": "Python 3"
    },
    "language_info": {
      "name": "python"
    }
  },
  "cells": [
    {
      "cell_type": "markdown",
      "source": [
        "# Get Tweets using snscrape"
      ],
      "metadata": {
        "id": "_dQBWrXAjqYB"
      }
    },
    {
      "cell_type": "code",
      "execution_count": 1,
      "metadata": {
        "id": "BBE-5yl4iCHr"
      },
      "outputs": [],
      "source": [
        "!pip install -q snscrape"
      ]
    },
    {
      "cell_type": "markdown",
      "source": [
        "Refine search to specific country (e.g. SA, Kenya, Tz)\n",
        "\n",
        "Focus metros will be Johannesburg, Nairobi, Dar es Salaam\n",
        "\n",
        "Decide the date, justify? - five years back, also looking into the COVID period 2019 - 2020\n",
        "\n",
        "**SA search terms** (Johannesburg): prasa, metrorail, taxi, public transport, putco, gautrain, rea vaya, a re yeng, bus, train, shosholoza meyl, metrobus \n",
        "\n",
        "**Kenya search terms** (Nairobi): 'matatu', 'kencom', 'citihoppa', 'public transport', 'boda boda', 'bus', 'kbs', 'mathree', 'ma3', 'tuk tuk', 'BasiGo', 'hoppaciti'\n",
        "\n",
        "**Tanzanian search terms**(Dar es Salaam): Dala dala, dala dala, daladala, dalla dalla, boda boda, dart, bus, train, ferry, bajaj"
      ],
      "metadata": {
        "id": "Pfm50PmodjEF"
      }
    },
    {
      "cell_type": "code",
      "source": [
        "import os\n",
        "import pandas as pd\n",
        "from datetime import date\n",
        "import snscrape.modules.twitter as sntwitter\n",
        "import json"
      ],
      "metadata": {
        "id": "zFSyddh_d633"
      },
      "execution_count": 2,
      "outputs": []
    },
    {
      "cell_type": "code",
      "source": [
        "today = date.today()\n",
        "end_date = today\n",
        "from_date = '2018-01-01'\n",
        "search_terms = ['daladala', 'boda boda', 'dart', 'bus', 'train', 'ferry', 'bajaj']\n",
        "location = 'Dar es Salaam'"
      ],
      "metadata": {
        "id": "qIKPJ4jbjzBe"
      },
      "execution_count": 34,
      "outputs": []
    },
    {
      "cell_type": "code",
      "source": [
        "# Define an empty dictionary to store dataframes\n",
        "dfs = {}\n",
        "\n",
        "# Iterate through the list of search terms\n",
        "for term in search_terms:\n",
        "    # Create an empty list to append tweet data to\n",
        "    tweets_list = []\n",
        "    \n",
        "    # Use TwitterSearchScraper to scrape data and append tweets to list\n",
        "    for i, tweet in enumerate(sntwitter.TwitterSearchScraper(f'{term} since:{from_date} until:{end_date} near:{location} within:50km').get_items()):\n",
        "        if i > 1000:\n",
        "            break\n",
        "        tweets_list.append([tweet.date, tweet.id, tweet.content, tweet.user.username, tweet.user.location])\n",
        "    \n",
        "    # Create a dataframe from the tweets list for the current search term\n",
        "    df = pd.DataFrame(tweets_list, columns=['Datetime', 'Tweet Id', 'Text', 'Username', 'Location'])\n",
        "    \n",
        "    # Add the dataframe to the dictionary with the search term as the key\n",
        "    dfs[term] = df\n"
      ],
      "metadata": {
        "id": "Fv8AB8prj7tu",
        "colab": {
          "base_uri": "https://localhost:8080/"
        },
        "outputId": "9910dde6-4578-4df5-e41a-94e58bf863fb"
      },
      "execution_count": 35,
      "outputs": [
        {
          "output_type": "stream",
          "name": "stderr",
          "text": [
            "<ipython-input-35-6e79f01fd814>:13: FutureWarning: content is deprecated, use rawContent instead\n",
            "  tweets_list.append([tweet.date, tweet.id, tweet.content, tweet.user.username, tweet.user.location])\n"
          ]
        }
      ]
    },
    {
      "cell_type": "code",
      "source": [
        "dfs['bajaj']"
      ],
      "metadata": {
        "colab": {
          "base_uri": "https://localhost:8080/",
          "height": 300
        },
        "id": "JnSYABJrhJxT",
        "outputId": "ef4a7986-d82b-4ecd-dab7-a55dd4bb2e8f"
      },
      "execution_count": 43,
      "outputs": [
        {
          "output_type": "execute_result",
          "data": {
            "text/plain": [
              "                   Datetime             Tweet Id  \\\n",
              "0 2021-10-08 09:02:52+00:00  1446400692059529228   \n",
              "1 2021-03-16 13:24:49+00:00  1371814713844109314   \n",
              "2 2020-04-01 09:21:32+00:00  1245280123403800577   \n",
              "3 2019-03-01 04:42:02+00:00  1101341804618690560   \n",
              "4 2019-03-01 04:37:31+00:00  1101340668473929728   \n",
              "5 2018-12-21 07:38:29+00:00  1076019057890074624   \n",
              "6 2018-07-18 14:49:14+00:00  1019594953532600320   \n",
              "7 2018-02-02 08:38:58+00:00   959345386237382656   \n",
              "\n",
              "                                                Text         Username  \\\n",
              "0  Nasikia tuna safirisha 🤣🤣🤣\\n\\n@wizzypixel A.K....       PixelWizzy   \n",
              "1  We are your Motor Cycle Battery Experts in tow...  africabatteries   \n",
              "2  BODABODA, BAJAJ RUKSA KUINGIA MJINI\\n\\nMkuu wa...    JAMVILAHABARI   \n",
              "3  Tanzania Trade Fair 2019 ... participation of ...       beenakoshy   \n",
              "4  Bajaj Electricals at the Tanzania trade fair 2...       beenakoshy   \n",
              "5  In Dar Es Salaam, The Business and Busiest Cit...    mtaliitravels   \n",
              "6  Safari bora 🚗 huanza unapoendeshwa kwa Bajaj u...     MondoRide255   \n",
              "7  Wamiliki wa magari, bajaj na bodaboda mikoa ya...            Sajjo   \n",
              "\n",
              "                    Location  \n",
              "0              dar es salaam  \n",
              "1  Dar Es Salaam , Tanzania.  \n",
              "2    Dar es Salaam, Tanzania  \n",
              "3                             \n",
              "4                             \n",
              "5    Dar es Salaam, Tanzania  \n",
              "6    Dar es Salaam, Tanzania  \n",
              "7         Salt Lake City, UT  "
            ],
            "text/html": [
              "\n",
              "  <div id=\"df-7aed2c26-9040-429b-a728-c625289ab700\">\n",
              "    <div class=\"colab-df-container\">\n",
              "      <div>\n",
              "<style scoped>\n",
              "    .dataframe tbody tr th:only-of-type {\n",
              "        vertical-align: middle;\n",
              "    }\n",
              "\n",
              "    .dataframe tbody tr th {\n",
              "        vertical-align: top;\n",
              "    }\n",
              "\n",
              "    .dataframe thead th {\n",
              "        text-align: right;\n",
              "    }\n",
              "</style>\n",
              "<table border=\"1\" class=\"dataframe\">\n",
              "  <thead>\n",
              "    <tr style=\"text-align: right;\">\n",
              "      <th></th>\n",
              "      <th>Datetime</th>\n",
              "      <th>Tweet Id</th>\n",
              "      <th>Text</th>\n",
              "      <th>Username</th>\n",
              "      <th>Location</th>\n",
              "    </tr>\n",
              "  </thead>\n",
              "  <tbody>\n",
              "    <tr>\n",
              "      <th>0</th>\n",
              "      <td>2021-10-08 09:02:52+00:00</td>\n",
              "      <td>1446400692059529228</td>\n",
              "      <td>Nasikia tuna safirisha 🤣🤣🤣\\n\\n@wizzypixel A.K....</td>\n",
              "      <td>PixelWizzy</td>\n",
              "      <td>dar es salaam</td>\n",
              "    </tr>\n",
              "    <tr>\n",
              "      <th>1</th>\n",
              "      <td>2021-03-16 13:24:49+00:00</td>\n",
              "      <td>1371814713844109314</td>\n",
              "      <td>We are your Motor Cycle Battery Experts in tow...</td>\n",
              "      <td>africabatteries</td>\n",
              "      <td>Dar Es Salaam , Tanzania.</td>\n",
              "    </tr>\n",
              "    <tr>\n",
              "      <th>2</th>\n",
              "      <td>2020-04-01 09:21:32+00:00</td>\n",
              "      <td>1245280123403800577</td>\n",
              "      <td>BODABODA, BAJAJ RUKSA KUINGIA MJINI\\n\\nMkuu wa...</td>\n",
              "      <td>JAMVILAHABARI</td>\n",
              "      <td>Dar es Salaam, Tanzania</td>\n",
              "    </tr>\n",
              "    <tr>\n",
              "      <th>3</th>\n",
              "      <td>2019-03-01 04:42:02+00:00</td>\n",
              "      <td>1101341804618690560</td>\n",
              "      <td>Tanzania Trade Fair 2019 ... participation of ...</td>\n",
              "      <td>beenakoshy</td>\n",
              "      <td></td>\n",
              "    </tr>\n",
              "    <tr>\n",
              "      <th>4</th>\n",
              "      <td>2019-03-01 04:37:31+00:00</td>\n",
              "      <td>1101340668473929728</td>\n",
              "      <td>Bajaj Electricals at the Tanzania trade fair 2...</td>\n",
              "      <td>beenakoshy</td>\n",
              "      <td></td>\n",
              "    </tr>\n",
              "    <tr>\n",
              "      <th>5</th>\n",
              "      <td>2018-12-21 07:38:29+00:00</td>\n",
              "      <td>1076019057890074624</td>\n",
              "      <td>In Dar Es Salaam, The Business and Busiest Cit...</td>\n",
              "      <td>mtaliitravels</td>\n",
              "      <td>Dar es Salaam, Tanzania</td>\n",
              "    </tr>\n",
              "    <tr>\n",
              "      <th>6</th>\n",
              "      <td>2018-07-18 14:49:14+00:00</td>\n",
              "      <td>1019594953532600320</td>\n",
              "      <td>Safari bora 🚗 huanza unapoendeshwa kwa Bajaj u...</td>\n",
              "      <td>MondoRide255</td>\n",
              "      <td>Dar es Salaam, Tanzania</td>\n",
              "    </tr>\n",
              "    <tr>\n",
              "      <th>7</th>\n",
              "      <td>2018-02-02 08:38:58+00:00</td>\n",
              "      <td>959345386237382656</td>\n",
              "      <td>Wamiliki wa magari, bajaj na bodaboda mikoa ya...</td>\n",
              "      <td>Sajjo</td>\n",
              "      <td>Salt Lake City, UT</td>\n",
              "    </tr>\n",
              "  </tbody>\n",
              "</table>\n",
              "</div>\n",
              "      <button class=\"colab-df-convert\" onclick=\"convertToInteractive('df-7aed2c26-9040-429b-a728-c625289ab700')\"\n",
              "              title=\"Convert this dataframe to an interactive table.\"\n",
              "              style=\"display:none;\">\n",
              "        \n",
              "  <svg xmlns=\"http://www.w3.org/2000/svg\" height=\"24px\"viewBox=\"0 0 24 24\"\n",
              "       width=\"24px\">\n",
              "    <path d=\"M0 0h24v24H0V0z\" fill=\"none\"/>\n",
              "    <path d=\"M18.56 5.44l.94 2.06.94-2.06 2.06-.94-2.06-.94-.94-2.06-.94 2.06-2.06.94zm-11 1L8.5 8.5l.94-2.06 2.06-.94-2.06-.94L8.5 2.5l-.94 2.06-2.06.94zm10 10l.94 2.06.94-2.06 2.06-.94-2.06-.94-.94-2.06-.94 2.06-2.06.94z\"/><path d=\"M17.41 7.96l-1.37-1.37c-.4-.4-.92-.59-1.43-.59-.52 0-1.04.2-1.43.59L10.3 9.45l-7.72 7.72c-.78.78-.78 2.05 0 2.83L4 21.41c.39.39.9.59 1.41.59.51 0 1.02-.2 1.41-.59l7.78-7.78 2.81-2.81c.8-.78.8-2.07 0-2.86zM5.41 20L4 18.59l7.72-7.72 1.47 1.35L5.41 20z\"/>\n",
              "  </svg>\n",
              "      </button>\n",
              "      \n",
              "  <style>\n",
              "    .colab-df-container {\n",
              "      display:flex;\n",
              "      flex-wrap:wrap;\n",
              "      gap: 12px;\n",
              "    }\n",
              "\n",
              "    .colab-df-convert {\n",
              "      background-color: #E8F0FE;\n",
              "      border: none;\n",
              "      border-radius: 50%;\n",
              "      cursor: pointer;\n",
              "      display: none;\n",
              "      fill: #1967D2;\n",
              "      height: 32px;\n",
              "      padding: 0 0 0 0;\n",
              "      width: 32px;\n",
              "    }\n",
              "\n",
              "    .colab-df-convert:hover {\n",
              "      background-color: #E2EBFA;\n",
              "      box-shadow: 0px 1px 2px rgba(60, 64, 67, 0.3), 0px 1px 3px 1px rgba(60, 64, 67, 0.15);\n",
              "      fill: #174EA6;\n",
              "    }\n",
              "\n",
              "    [theme=dark] .colab-df-convert {\n",
              "      background-color: #3B4455;\n",
              "      fill: #D2E3FC;\n",
              "    }\n",
              "\n",
              "    [theme=dark] .colab-df-convert:hover {\n",
              "      background-color: #434B5C;\n",
              "      box-shadow: 0px 1px 3px 1px rgba(0, 0, 0, 0.15);\n",
              "      filter: drop-shadow(0px 1px 2px rgba(0, 0, 0, 0.3));\n",
              "      fill: #FFFFFF;\n",
              "    }\n",
              "  </style>\n",
              "\n",
              "      <script>\n",
              "        const buttonEl =\n",
              "          document.querySelector('#df-7aed2c26-9040-429b-a728-c625289ab700 button.colab-df-convert');\n",
              "        buttonEl.style.display =\n",
              "          google.colab.kernel.accessAllowed ? 'block' : 'none';\n",
              "\n",
              "        async function convertToInteractive(key) {\n",
              "          const element = document.querySelector('#df-7aed2c26-9040-429b-a728-c625289ab700');\n",
              "          const dataTable =\n",
              "            await google.colab.kernel.invokeFunction('convertToInteractive',\n",
              "                                                     [key], {});\n",
              "          if (!dataTable) return;\n",
              "\n",
              "          const docLinkHtml = 'Like what you see? Visit the ' +\n",
              "            '<a target=\"_blank\" href=https://colab.research.google.com/notebooks/data_table.ipynb>data table notebook</a>'\n",
              "            + ' to learn more about interactive tables.';\n",
              "          element.innerHTML = '';\n",
              "          dataTable['output_type'] = 'display_data';\n",
              "          await google.colab.output.renderOutput(dataTable, element);\n",
              "          const docLink = document.createElement('div');\n",
              "          docLink.innerHTML = docLinkHtml;\n",
              "          element.appendChild(docLink);\n",
              "        }\n",
              "      </script>\n",
              "    </div>\n",
              "  </div>\n",
              "  "
            ]
          },
          "metadata": {},
          "execution_count": 43
        }
      ]
    },
    {
      "cell_type": "code",
      "source": [
        "# Save the dfs dictionary to a JSON file\n",
        "with open('TZ-tweets.json', 'w') as f:\n",
        "    json.dump({k: v.to_json() for k, v in dfs.items()}, f)"
      ],
      "metadata": {
        "id": "naxP6at8g4ey"
      },
      "execution_count": 37,
      "outputs": []
    },
    {
      "cell_type": "code",
      "source": [
        "# with open('dfs.json', 'r') as f:\n",
        "#     dfs = {k: pd.read_json(v) for k, v in json.load(f).items()}"
      ],
      "metadata": {
        "id": "XzL8Zh_ampwN"
      },
      "execution_count": null,
      "outputs": []
    },
    {
      "cell_type": "markdown",
      "source": [
        "## South African Tweets"
      ],
      "metadata": {
        "id": "cRftBNPxcNPp"
      }
    },
    {
      "cell_type": "code",
      "source": [
        "# # Concatenate multiple search terms with the OR operator\n",
        "# search_term = 'metrobus'\n",
        "\n",
        "# # country geocode\n",
        "# latitude = '37.781157'\n",
        "# longitude = '-122.40061283'\n",
        "# radius = '50km'\n",
        "# geocode = f\"{latitude},{longitude},{radius}\"\n",
        "\n",
        "# os.system(f\"snscrape --since {from_date} twitter-search '{search_term} near:'Johannesburg' within:50km until:{end_date}' > results-tweets-SA.txt\")\n",
        "# # os.system(f\"snscrape --since {from_date} twitter-search '{search_term} until:{end_date}' > results-tweets-SA.txt\")\n",
        "# if os.stat(\"results-tweets-SA.txt\").st_size==0:\n",
        "#   counter = 0\n",
        "# else:\n",
        "#   df = pd.read_csv('results-tweets-SA.txt', names=['link'])\n",
        "#   counter = df.size\n",
        "\n",
        "# print('Number of tweets: '+ str(counter))\n",
        "\n"
      ],
      "metadata": {
        "id": "2xHYplcKkDYX"
      },
      "execution_count": 7,
      "outputs": []
    },
    {
      "cell_type": "code",
      "source": [
        "# max_results = counter"
      ],
      "metadata": {
        "id": "Nxe1_koEG84T"
      },
      "execution_count": 8,
      "outputs": []
    },
    {
      "cell_type": "code",
      "source": [
        "# # Extracting tweets from derived links\n",
        "# extracted_tweets = \"snscrape --format '{content!r}'\" + f\" --max-results {max_results} --since {from_date} twitter-search '{search_term} until:{end_date}' > extracted-tweets-SA.txt\"\n",
        "# # extracted_tweets = \"snscrape --format '{content!r}'\" + f\" --max-results {max_results} --since {from_date} twitter-search '{search_term} until:{end_date}' > extracted-tweets-SA.txt\"\n",
        "# os.system(extracted_tweets)\n",
        "# if os.stat(\"extracted-tweets-SA.txt\").st_size == 0:\n",
        "#   print('No Tweets found')\n",
        "# else:\n",
        "#   df = pd.read_csv('extracted-tweets-SA.txt', names=['content'])\n",
        "#   # df = pd.read_csv('extracted-tweets-SA.txt', names=['content'])\n",
        "#   for index, row in df.iterrows():\n",
        "#     print(\"Content:\", row['content'])\n",
        "#     # print(\"Timestamp:\", row['created_at'])\n",
        "#     # print(\"Geotag:\", row['geotag'])"
      ],
      "metadata": {
        "id": "hM6y90AceLad"
      },
      "execution_count": 9,
      "outputs": []
    }
  ]
}